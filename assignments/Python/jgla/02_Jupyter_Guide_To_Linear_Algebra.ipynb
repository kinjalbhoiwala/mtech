{
  "nbformat": 4,
  "nbformat_minor": 0,
  "metadata": {
    "colab": {
      "provenance": [],
      "authorship_tag": "ABX9TyOPTrRigreKVGXBlltx6bsG",
      "include_colab_link": true
    },
    "kernelspec": {
      "name": "python3",
      "display_name": "Python 3"
    },
    "language_info": {
      "name": "python"
    }
  },
  "cells": [
    {
      "cell_type": "markdown",
      "metadata": {
        "id": "view-in-github",
        "colab_type": "text"
      },
      "source": [
        "<a href=\"https://colab.research.google.com/github/vatsaaa/mtech/blob/main/assignments/Python/jgla/02_Jupyter_Guide_To_Linear_Algebra.ipynb\" target=\"_parent\"><img src=\"https://colab.research.google.com/assets/colab-badge.svg\" alt=\"Open In Colab\"/></a>"
      ]
    },
    {
      "cell_type": "markdown",
      "source": [
        "## 1. Using the 𝚛𝚊𝚗𝚍𝚘𝚖 module, create a NumPy array with 2 rows and 3 columns that has entries that are random positive integers less than 10. Print your array. Change the entry in the first row, second column to 8 and double the value in the second row, third column. Print the resulting array to check that your code has made the correct modifications."
      ],
      "metadata": {
        "id": "NvYLRqlnvjq7"
      }
    },
    {
      "cell_type": "markdown",
      "source": [
        "## 2. Using the 𝚛𝚊𝚗𝚍𝚘𝚖 module, create a NumPy array with 3 rows and 3 columns that has entries that are random positive integers less than 10. Print your array. Now multiply each value in the matrix by 5 and then add 1 to all the enteries in the second row. After that, divide each diagonal entry by 2 and print the resulting array to check that your code has made the correct modifications."
      ],
      "metadata": {
        "id": "oFcaWpadvu3m"
      }
    },
    {
      "cell_type": "markdown",
      "source": [
        "## 3. Using the 𝚛𝚊𝚗𝚍𝚘𝚖 module, create a NumPy array with 2 rows and 3 columns that has entries that are random integers greater than 5 and less than 13. Write code that sets all even entries of the matrix to zero. Print the array and check the results. Run the code several times to check that it works for different random arrays."
      ],
      "metadata": {
        "id": "9M8umeQCvyZJ"
      }
    },
    {
      "cell_type": "markdown",
      "source": [
        "## 4. Create a NumPy array with 2 rows and 4 columns and assign it the name A. Fill it with some values of your choice. Create a new array 𝐵 that has the columns of 𝐴 as it’s rows. Print 𝐴 and 𝐵. Below is an example of one such pair of arrays."
      ],
      "metadata": {
        "id": "Yv3JowLdv2NH"
      }
    },
    {
      "cell_type": "markdown",
      "source": [
        "## 5. Using matplotlib to plot the following points using the blue cross symbol: (2,1), (4,4), (8,16), (10,25). Add a grid that consists of dotted lines as in Example 2. Set the limits of 𝑥-axis to 0 and 10. Set the limits of the 𝑦-axis to 0 and 25. The numbers and gridlines should appear at intervals of 2 units along the 𝑥-axis and at intervals of 5 units along the 𝑦-axis. Label the 𝑥-axis as “Time” and the 𝑦-axis as “Distance”."
      ],
      "metadata": {
        "id": "Lkn6xloOv6cO"
      }
    },
    {
      "cell_type": "markdown",
      "source": [
        "## 6. Use matplotlib to plot the curve 𝑦=4+𝑥−0.5𝑥2 where 𝑥 lies in the interval [−1,5]. Follow Example 2 and use 𝚕𝚒𝚗𝚜𝚙𝚊𝚌𝚎 to generate an array of coordinates of points on the curve. The curve should be dashed and shown in green color. The numbers and gridlines should appear at intervals of 1 unit along the 𝑥-axis and at intervals of 3 units along the 𝑦-axis. Draw the lines 𝑥=0, and 𝑦=0 with black colour and 1 unit width. Add a grid that consists of dashed lines."
      ],
      "metadata": {
        "id": "GnSdupKav93v"
      }
    }
  ]
}