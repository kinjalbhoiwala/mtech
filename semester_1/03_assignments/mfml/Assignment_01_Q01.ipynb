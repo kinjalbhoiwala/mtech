{
  "nbformat": 4,
  "nbformat_minor": 0,
  "metadata": {
    "colab": {
      "provenance": [],
      "authorship_tag": "ABX9TyNnUSZZVaGx9+a7TJYmJVRI",
      "include_colab_link": true
    },
    "kernelspec": {
      "name": "python3",
      "display_name": "Python 3"
    },
    "language_info": {
      "name": "python"
    }
  },
  "cells": [
    {
      "cell_type": "markdown",
      "metadata": {
        "id": "view-in-github",
        "colab_type": "text"
      },
      "source": [
        "<a href=\"https://colab.research.google.com/github/vatsaaa/mtech/blob/main/semester_1/03_assignments/mfml/Assignment_01_Q01.ipynb\" target=\"_parent\"><img src=\"https://colab.research.google.com/assets/colab-badge.svg\" alt=\"Open In Colab\"/></a>"
      ]
    },
    {
      "cell_type": "markdown",
      "source": [
        "Python function to create a random matrix, but without using libraries"
      ],
      "metadata": {
        "id": "E3sQoOj3Iat3"
      }
    },
    {
      "cell_type": "code",
      "source": [
        "import random"
      ],
      "metadata": {
        "id": "8XN7AhfvL0fH"
      },
      "execution_count": 98,
      "outputs": []
    },
    {
      "cell_type": "code",
      "source": [
        "def generate_random_matrix(rows: int, columns: int, decimal_allowed: bool=False):\n",
        "    matrix = []\n",
        "\n",
        "    for _ in range(rows):\n",
        "      if decimal_allowed:\n",
        "        # Chose 100 and 990 so that the matrix printing is better to look at\n",
        "        row = [random.choice([random.randint(100, 999), round(random.uniform(0, 1), 2)]) for _ in range(columns)]\n",
        "      else:\n",
        "        # Chose 100 and 990 so that the matrix printing is better to look at\n",
        "        row = [random.randint(100, 999) for _ in range(columns)]\n",
        "\n",
        "        matrix.append(row)\n",
        "\n",
        "    return matrix"
      ],
      "metadata": {
        "id": "NPLp0yo8Iqed"
      },
      "execution_count": 99,
      "outputs": []
    },
    {
      "cell_type": "code",
      "source": [
        "two_by_two = generate_random_matrix(2, 2, False)\n",
        "\n",
        "two_by_two"
      ],
      "metadata": {
        "colab": {
          "base_uri": "https://localhost:8080/"
        },
        "id": "8pJAHIESLfw1",
        "outputId": "13fc1447-47b1-4987-c51e-edef672560cc"
      },
      "execution_count": 100,
      "outputs": [
        {
          "output_type": "execute_result",
          "data": {
            "text/plain": [
              "[[455, 404], [316, 724]]"
            ]
          },
          "metadata": {},
          "execution_count": 100
        }
      ]
    },
    {
      "cell_type": "markdown",
      "source": [
        "The above generated matrix is in a single line, that really does not look like a matrix. So, I create my own function to print a matrix that looks like a matrix."
      ],
      "metadata": {
        "id": "Tz1_ZPxoL8nU"
      }
    },
    {
      "cell_type": "code",
      "source": [
        "def print_matrix(matrix: list):\n",
        "    print(\"[\", end=\"\")\n",
        "    for i, row in enumerate(matrix):\n",
        "        print(row, end=\"\")\n",
        "        if i != len(matrix) - 1:\n",
        "            print(\",\\n\", end=\"\")\n",
        "    print(\"]\")"
      ],
      "metadata": {
        "id": "anAUIBwfMTVu"
      },
      "execution_count": 101,
      "outputs": []
    },
    {
      "cell_type": "code",
      "source": [
        "print_matrix(two_by_two)"
      ],
      "metadata": {
        "colab": {
          "base_uri": "https://localhost:8080/"
        },
        "id": "UqsGdTHcMhoE",
        "outputId": "d966552d-2eac-415b-9f4c-4917e068cf2f"
      },
      "execution_count": 102,
      "outputs": [
        {
          "output_type": "stream",
          "name": "stdout",
          "text": [
            "[[455, 404],\n",
            "[316, 724]]\n"
          ]
        }
      ]
    },
    {
      "cell_type": "markdown",
      "source": [
        "Now we get a two_by_one matrix, before creating the augmented matrix"
      ],
      "metadata": {
        "id": "vOirCDPJMxuB"
      }
    },
    {
      "cell_type": "code",
      "source": [
        "two_by_one = generate_random_matrix(2, 1, False)\n",
        "\n",
        "print_matrix(two_by_one)"
      ],
      "metadata": {
        "colab": {
          "base_uri": "https://localhost:8080/"
        },
        "id": "TjGKBWm4M-lb",
        "outputId": "ac164984-c525-4a0b-d3eb-8122ddcc7d36"
      },
      "execution_count": 103,
      "outputs": [
        {
          "output_type": "stream",
          "name": "stdout",
          "text": [
            "[[740],\n",
            "[285]]\n"
          ]
        }
      ]
    },
    {
      "cell_type": "markdown",
      "source": [
        "Below function will create the augmented matrix required by Gaussian Elimination when"
      ],
      "metadata": {
        "id": "8_alXiP9NaDI"
      }
    },
    {
      "cell_type": "code",
      "source": [
        "def construct_augmented_matrix(A: list, b: list):\n",
        "    if len(A) != len(b):\n",
        "        raise ValueError(\"Number of rows in A must be equal to the length of b\")\n",
        "\n",
        "    # Zip A and b to create the augmented matrix\n",
        "    augmented_matrix = [row + bi for row, bi in zip(A, b)]\n",
        "\n",
        "    return augmented_matrix"
      ],
      "metadata": {
        "id": "6j5doxcKNuFD"
      },
      "execution_count": 104,
      "outputs": []
    },
    {
      "cell_type": "code",
      "source": [
        "A = two_by_two\n",
        "b = two_by_one\n",
        "\n",
        "augmented_matrix_A_b = construct_augmented_matrix(A, b)\n",
        "\n",
        "print_matrix(augmented_matrix_A_b)"
      ],
      "metadata": {
        "colab": {
          "base_uri": "https://localhost:8080/"
        },
        "id": "byFwL7NMN2us",
        "outputId": "5619b8e5-21ac-4ae5-956f-d375210b0ed9"
      },
      "execution_count": 105,
      "outputs": [
        {
          "output_type": "stream",
          "name": "stdout",
          "text": [
            "[[455, 404, 740],\n",
            "[316, 724, 285]]\n"
          ]
        }
      ]
    },
    {
      "cell_type": "markdown",
      "source": [
        "Function to find row echelon form of a given matrix"
      ],
      "metadata": {
        "id": "7CueIeoEOmdT"
      }
    },
    {
      "cell_type": "code",
      "source": [
        "from math import floor\n",
        "\n",
        "def find_row_echelon_form(matrix: list):\n",
        "    rows = len(matrix)\n",
        "    columns = len(matrix[0])\n",
        "\n",
        "    pivot = 0\n",
        "    for row in range(rows):\n",
        "        if pivot >= columns:\n",
        "            break\n",
        "\n",
        "        # When pivot is 0 find a row where pivot element is not 0 and\n",
        "        if matrix[row][pivot] == 0:\n",
        "          for r in range(row + 1, rows):\n",
        "            if matrix[r][pivot] != 0:\n",
        "              # swap current row and row with non-zero pivot element\n",
        "              matrix[row], matrix[r] = matrix[r], matrix[row]\n",
        "              break\n",
        "            else:\n",
        "              pivot += 1\n",
        "\n",
        "        # Now, when pivot position is not 0, do elementary row transformation\n",
        "        # so as to ensure below the pivot we get zeros in the entire column\n",
        "        for r in range(row + 1, rows):\n",
        "          factor_nr = float(matrix[r][pivot])\n",
        "          factor_dr = float(matrix[row][pivot])\n",
        "          factor = factor_nr / factor_dr\n",
        "          for c in range(pivot, columns):\n",
        "            a = float(matrix[r][c])\n",
        "            b = float(matrix[row][c])\n",
        "            matrix[r][c] = float(matrix[r][c]) - factor * float(matrix[row][c])\n",
        "\n",
        "        pivot += 1\n",
        "\n",
        "    return matrix\n"
      ],
      "metadata": {
        "id": "E1GjP_PMOuHW"
      },
      "execution_count": 106,
      "outputs": []
    },
    {
      "cell_type": "code",
      "source": [
        "ref_A_b = find_row_echelon_form(augmented_matrix_A_b)\n",
        "\n",
        "print_matrix(ref_A_b)"
      ],
      "metadata": {
        "colab": {
          "base_uri": "https://localhost:8080/"
        },
        "id": "Ik0sVY6TRNfS",
        "outputId": "983614b0-d1b1-4cd1-e555-961353e878b4"
      },
      "execution_count": 107,
      "outputs": [
        {
          "output_type": "stream",
          "name": "stdout",
          "text": [
            "[[455, 404, 740],\n",
            "[0.0, 443.41978021978025, -228.93406593406587]]\n"
          ]
        }
      ]
    },
    {
      "cell_type": "markdown",
      "source": [
        "Function to check if a given matrix is in row echelon form"
      ],
      "metadata": {
        "id": "nXjHvluUzZaQ"
      }
    },
    {
      "cell_type": "code",
      "source": [
        "def is_row_echelon(matrix: list):\n",
        "    rows = len(matrix)\n",
        "    columns = len(matrix[0])\n",
        "\n",
        "    pivot = 0\n",
        "    for row in range(rows):\n",
        "      if pivot >= columns:\n",
        "        break\n",
        "\n",
        "      # Check if the pivot element is zero\n",
        "      if matrix[row][pivot] == 0:\n",
        "        return False\n",
        "\n",
        "      # Check if all elements below the pivot are zero\n",
        "      for r in range(row + 1, rows):\n",
        "        if matrix[r][pivot] != 0:\n",
        "          return False\n",
        "\n",
        "      pivot += 1\n",
        "\n",
        "    return True"
      ],
      "metadata": {
        "id": "nvKvBlxWzehd"
      },
      "execution_count": 108,
      "outputs": []
    },
    {
      "cell_type": "code",
      "source": [
        "print(\"Given matrix is in REF\") if is_row_echelon(ref_A_b) else print(\"Given matrix is not in REF\")"
      ],
      "metadata": {
        "colab": {
          "base_uri": "https://localhost:8080/"
        },
        "id": "_rvFkbmHzt1M",
        "outputId": "b2686cea-e386-490d-d5af-c30d896b8525"
      },
      "execution_count": 109,
      "outputs": [
        {
          "output_type": "stream",
          "name": "stdout",
          "text": [
            "Given matrix is in REF\n"
          ]
        }
      ]
    },
    {
      "cell_type": "markdown",
      "source": [
        "Function to get reduced row echelon form of a matrix in row echelon form"
      ],
      "metadata": {
        "id": "iyUfBux-1Yp5"
      }
    },
    {
      "cell_type": "code",
      "source": [
        "def find_reduced_row_echelon_form(matrix: list, find_ref: bool=False):\n",
        "    if not is_row_echelon(matrix) and find_ref:\n",
        "        matrix = find_row_echelon_form(matrix)\n",
        "    elif not is_row_echelon(matrix) and not find_ref:\n",
        "        raise Exception(\"Given matrix is not in row echelon form!\")\n",
        "\n",
        "    rows = len(matrix)\n",
        "    columns = len(matrix[0])\n",
        "\n",
        "    pivot = 0\n",
        "    for row in range(rows):\n",
        "        if pivot >= columns:\n",
        "            break\n",
        "\n",
        "        # Divide the pivot row by the pivot element\n",
        "        pivot_element = matrix[row][pivot]\n",
        "        for c in range(columns):\n",
        "          matrix[row][c] /= pivot_element\n",
        "\n",
        "        # Eliminate non-zero elements above the pivot\n",
        "        for r in range(row):\n",
        "            factor = matrix[r][pivot]\n",
        "            for c in range(columns):\n",
        "                matrix[r][c] -= factor * matrix[row][c]\n",
        "\n",
        "        # Eliminate non-zero elements below the pivot\n",
        "        for r in range(row + 1, rows):\n",
        "            factor = matrix[r][pivot]\n",
        "            for c in range(columns):\n",
        "                matrix[r][c] -= factor * matrix[row][c]\n",
        "\n",
        "        pivot += 1\n",
        "\n",
        "    return matrix\n"
      ],
      "metadata": {
        "id": "mIIdfhj31gJZ"
      },
      "execution_count": 110,
      "outputs": []
    },
    {
      "cell_type": "code",
      "source": [
        "rref_A_b = find_reduced_row_echelon_form(ref_A_b)\n",
        "\n",
        "print_matrix(rref_A_b)"
      ],
      "metadata": {
        "colab": {
          "base_uri": "https://localhost:8080/"
        },
        "id": "yhbt28ue1svd",
        "outputId": "1cdd10e2-4663-4c8f-d0c3-f9bf42f2d350"
      },
      "execution_count": 111,
      "outputs": [
        {
          "output_type": "stream",
          "name": "stdout",
          "text": [
            "[[1.0, 0.0, 2.084795495549079],\n",
            "[0.0, 1.0, -0.5162919566208686]]\n"
          ]
        }
      ]
    },
    {
      "cell_type": "markdown",
      "source": [
        "1/c) Get a 5 x 7 matrix and a 5 x 1 matrix"
      ],
      "metadata": {
        "id": "onSVq35v69P9"
      }
    },
    {
      "cell_type": "code",
      "source": [
        "five_by_seven_A = generate_random_matrix(rows=5, columns=7)\n",
        "five_by_one_b = generate_random_matrix(rows=5, columns=1)\n",
        "\n",
        "print(\"Matrix A: \")\n",
        "print_matrix(five_by_seven_A)\n",
        "print(\"\\n\\n\\n\\n\\n\")\n",
        "\n",
        "print(\"Matrix b: \")\n",
        "print_matrix(five_by_one_b)"
      ],
      "metadata": {
        "colab": {
          "base_uri": "https://localhost:8080/"
        },
        "id": "Dw8PLJkX7Ko3",
        "outputId": "78949e1d-db4b-4694-ea19-26f5962a40c3"
      },
      "execution_count": 114,
      "outputs": [
        {
          "output_type": "stream",
          "name": "stdout",
          "text": [
            "Matrix A: \n",
            "[[183, 798, 460, 504, 654, 410, 106],\n",
            "[284, 293, 312, 427, 244, 852, 856],\n",
            "[212, 872, 713, 856, 447, 415, 149],\n",
            "[541, 805, 593, 637, 299, 353, 110],\n",
            "[214, 826, 958, 797, 723, 428, 303]]\n",
            "\n",
            "\n",
            "\n",
            "\n",
            "\n",
            "\n",
            "Matrix b: \n",
            "[[637],\n",
            "[173],\n",
            "[987],\n",
            "[651],\n",
            "[108]]\n"
          ]
        }
      ]
    },
    {
      "cell_type": "code",
      "source": [
        "aug_mtx_A_b = construct_augmented_matrix(five_by_seven_A, five_by_one_b)\n",
        "\n",
        "print_matrix(aug_mtx_A_b)"
      ],
      "metadata": {
        "colab": {
          "base_uri": "https://localhost:8080/"
        },
        "id": "402v8Fo-8FxP",
        "outputId": "c4e62b20-6878-4651-da7f-ad49bdcf657f"
      },
      "execution_count": 115,
      "outputs": [
        {
          "output_type": "stream",
          "name": "stdout",
          "text": [
            "[[183, 798, 460, 504, 654, 410, 106, 637],\n",
            "[284, 293, 312, 427, 244, 852, 856, 173],\n",
            "[212, 872, 713, 856, 447, 415, 149, 987],\n",
            "[541, 805, 593, 637, 299, 353, 110, 651],\n",
            "[214, 826, 958, 797, 723, 428, 303, 108]]\n"
          ]
        }
      ]
    },
    {
      "cell_type": "code",
      "source": [
        "ref_A_b = find_row_echelon_form(aug_mtx_A_b)\n",
        "\n",
        "print_matrix(ref_A_b)"
      ],
      "metadata": {
        "colab": {
          "base_uri": "https://localhost:8080/"
        },
        "id": "4okbhqH28dPk",
        "outputId": "0d18cfe9-adf5-4b59-8bf8-dc2a04ff32a3"
      },
      "execution_count": 116,
      "outputs": [
        {
          "output_type": "stream",
          "name": "stdout",
          "text": [
            "[[183, 798, 460, 504, 654, 410, 106, 637],\n",
            "[0.0, -945.4262295081967, -401.87978142076497, -355.1639344262295, -770.9508196721312, 215.71584699453558, 691.4972677595629, -815.568306010929],\n",
            "[0.0, 0.0, 202.40299283868842, 291.83818556987046, -267.8614728373013, -71.94213729604131, -12.167033691109843, 294.3082138336425],\n",
            "[0.0, 0.0, -1.4210854715202004e-14, -115.91155665277071, -507.7416443019629, -1251.4484242532394, -1346.4544911868918, 263.0234937118253],\n",
            "[0.0, 0.0, -5.684341886080802e-14, 0.0, 2516.944713480884, 4661.9378549810035, 5048.099866737323, -2182.5095388989944]]\n"
          ]
        }
      ]
    },
    {
      "cell_type": "code",
      "source": [
        "print(\"Given matrix is in REF\") if is_row_echelon(ref_A_b) else print(\"Given matrix is not in REF\")"
      ],
      "metadata": {
        "colab": {
          "base_uri": "https://localhost:8080/"
        },
        "id": "QbbYYuZB9EVw",
        "outputId": "837ca28f-859c-49e9-bf70-93d66e043308"
      },
      "execution_count": 117,
      "outputs": [
        {
          "output_type": "stream",
          "name": "stdout",
          "text": [
            "Given matrix is not in REF\n"
          ]
        }
      ]
    },
    {
      "cell_type": "code",
      "source": [
        "rref_A_b = find_reduced_row_echelon_form(ref_A_b, True)\n",
        "\n",
        "print_matrix(rref_A_b)"
      ],
      "metadata": {
        "colab": {
          "base_uri": "https://localhost:8080/"
        },
        "id": "_B3-KHR49iK5",
        "outputId": "a0d8cee4-119d-41a6-94e8-a631d8abb5dd"
      },
      "execution_count": 118,
      "outputs": [
        {
          "output_type": "stream",
          "name": "stdout",
          "text": [
            "[[1.0, 0.0, 0.0, 0.0, 0.0, 1.3782867393559979, 1.5556378916878537, -0.718833793295687],\n",
            "[-0.0, 1.0, 0.0, 0.0, 0.0, -1.9929140454527472, -2.7981055063488003, 1.8022464397328202],\n",
            "[0.0, 0.0, 1.0, 0.0, 0.0, -1.7728267471030144, -1.4872420755398217, -1.8984035263474768],\n",
            "[-0.0, -0.0, -0.0, 1.0, 0.0, 2.683068857976499, 2.8306456159100417, 1.5292069421879186],\n",
            "[0.0, 0.0, 0.0, 0.0, 1.0, 1.8522210003308486, 2.005645908588871, -0.8671265313097116]]\n"
          ]
        }
      ]
    }
  ]
}