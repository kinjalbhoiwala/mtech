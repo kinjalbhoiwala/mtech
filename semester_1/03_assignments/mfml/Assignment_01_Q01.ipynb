{
  "nbformat": 4,
  "nbformat_minor": 0,
  "metadata": {
    "colab": {
      "provenance": [],
      "authorship_tag": "ABX9TyPJFpghBrFb20U1IjyXD7dv",
      "include_colab_link": true
    },
    "kernelspec": {
      "name": "python3",
      "display_name": "Python 3"
    },
    "language_info": {
      "name": "python"
    }
  },
  "cells": [
    {
      "cell_type": "markdown",
      "metadata": {
        "id": "view-in-github",
        "colab_type": "text"
      },
      "source": [
        "<a href=\"https://colab.research.google.com/github/vatsaaa/mtech/blob/main/semester_1/03_assignments/mfml/Assignment_01_Q01.ipynb\" target=\"_parent\"><img src=\"https://colab.research.google.com/assets/colab-badge.svg\" alt=\"Open In Colab\"/></a>"
      ]
    },
    {
      "cell_type": "markdown",
      "source": [
        "Python function to create a random matrix, but without using libraries"
      ],
      "metadata": {
        "id": "E3sQoOj3Iat3"
      }
    },
    {
      "cell_type": "code",
      "source": [
        "def generate_random_matrix(rows: int, columns: int, decimal_allowed: bool=False):\n",
        "    matrix = []\n",
        "\n",
        "    for _ in range(rows):\n",
        "      if decimal_allowed:\n",
        "        row = [random.choice([random.randint(1, 100), round(random.uniform(0, 1))]) for _ in range(columns)]\n",
        "      else:\n",
        "\n",
        "        row = [random.randint(1, 100) for _ in range(columns)]\n",
        "\n",
        "        matrix.append(row)\n",
        "\n",
        "    return matrix\n",
        "\n",
        "  generate_random"
      ],
      "metadata": {
        "id": "NPLp0yo8Iqed"
      },
      "execution_count": null,
      "outputs": []
    }
  ]
}