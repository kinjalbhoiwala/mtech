{
  "nbformat": 4,
  "nbformat_minor": 0,
  "metadata": {
    "colab": {
      "provenance": [],
      "authorship_tag": "ABX9TyOHaNCfoJgbniog5AS2nfdm",
      "include_colab_link": true
    },
    "kernelspec": {
      "name": "python3",
      "display_name": "Python 3"
    },
    "language_info": {
      "name": "python"
    }
  },
  "cells": [
    {
      "cell_type": "markdown",
      "metadata": {
        "id": "view-in-github",
        "colab_type": "text"
      },
      "source": [
        "<a href=\"https://colab.research.google.com/github/vatsaaa/mtech/blob/main/semester_1/03_assignments/mfml/Assignment_01_Q01.ipynb\" target=\"_parent\"><img src=\"https://colab.research.google.com/assets/colab-badge.svg\" alt=\"Open In Colab\"/></a>"
      ]
    },
    {
      "cell_type": "markdown",
      "source": [
        "Python function to create a random matrix, but without using libraries"
      ],
      "metadata": {
        "id": "E3sQoOj3Iat3"
      }
    },
    {
      "cell_type": "code",
      "source": [
        "import random"
      ],
      "metadata": {
        "id": "8XN7AhfvL0fH"
      },
      "execution_count": 4,
      "outputs": []
    },
    {
      "cell_type": "code",
      "source": [
        "def generate_random_matrix(rows: int, columns: int, decimal_allowed: bool=False):\n",
        "    matrix = []\n",
        "\n",
        "    for _ in range(rows):\n",
        "      if decimal_allowed:\n",
        "        # Chose 100 and 990 so that the matrix printing is better to look at\n",
        "        row = [random.choice([random.randint(100, 999), round(random.uniform(0, 1), 2)]) for _ in range(columns)]\n",
        "      else:\n",
        "        # Chose 100 and 990 so that the matrix printing is better to look at\n",
        "        row = [random.randint(100, 999) for _ in range(columns)]\n",
        "\n",
        "        matrix.append(row)\n",
        "\n",
        "    return matrix"
      ],
      "metadata": {
        "id": "NPLp0yo8Iqed"
      },
      "execution_count": 5,
      "outputs": []
    },
    {
      "cell_type": "code",
      "source": [
        "two_by_two = generate_random_matrix(2, 2, False)\n",
        "\n",
        "two_by_two"
      ],
      "metadata": {
        "colab": {
          "base_uri": "https://localhost:8080/"
        },
        "id": "8pJAHIESLfw1",
        "outputId": "a690d134-179b-4a54-cb6f-df227a88d8fe"
      },
      "execution_count": 8,
      "outputs": [
        {
          "output_type": "execute_result",
          "data": {
            "text/plain": [
              "[[334, 421], [116, 316]]"
            ]
          },
          "metadata": {},
          "execution_count": 8
        }
      ]
    },
    {
      "cell_type": "markdown",
      "source": [
        "The above generated matrix is in a single line, that really does not look like a matrix. So, I create my own function to print a matrix that looks like a matrix."
      ],
      "metadata": {
        "id": "Tz1_ZPxoL8nU"
      }
    },
    {
      "cell_type": "code",
      "source": [
        "def print_matrix(matrix):\n",
        "    print(\"[\", end=\"\")\n",
        "    for i, row in enumerate(matrix):\n",
        "        print(row, end=\"\")\n",
        "        if i != len(matrix) - 1:\n",
        "            print(\",\\n\", end=\"\")\n",
        "    print(\"]\")"
      ],
      "metadata": {
        "id": "anAUIBwfMTVu"
      },
      "execution_count": 72,
      "outputs": []
    },
    {
      "cell_type": "code",
      "source": [
        "print_matrix(two_by_two)"
      ],
      "metadata": {
        "colab": {
          "base_uri": "https://localhost:8080/"
        },
        "id": "UqsGdTHcMhoE",
        "outputId": "73d02bfb-e7f8-4edf-9ef0-a3dc58e0639f"
      },
      "execution_count": 73,
      "outputs": [
        {
          "output_type": "stream",
          "name": "stdout",
          "text": [
            "[[334, 421],\n",
            "[116, 316]]\n"
          ]
        }
      ]
    },
    {
      "cell_type": "markdown",
      "source": [
        "Now we get a two_by_one matrix, before creating the augmented matrix"
      ],
      "metadata": {
        "id": "vOirCDPJMxuB"
      }
    },
    {
      "cell_type": "code",
      "source": [
        "two_by_one = generate_random_matrix(2, 1, False)\n",
        "\n",
        "print_matrix(two_by_one)"
      ],
      "metadata": {
        "colab": {
          "base_uri": "https://localhost:8080/"
        },
        "id": "TjGKBWm4M-lb",
        "outputId": "d763a684-37f2-4773-9050-667702662163"
      },
      "execution_count": 70,
      "outputs": [
        {
          "output_type": "stream",
          "name": "stdout",
          "text": [
            "[228],\n",
            "[335]"
          ]
        }
      ]
    },
    {
      "cell_type": "markdown",
      "source": [
        "Below function will create the augmented matrix required by Gaussian Elimination when"
      ],
      "metadata": {
        "id": "8_alXiP9NaDI"
      }
    },
    {
      "cell_type": "code",
      "source": [
        "def construct_augmented_matrix(A, b):\n",
        "    if len(A) != len(b):\n",
        "        raise ValueError(\"Number of rows in A must be equal to the length of b\")\n",
        "\n",
        "    # Zip A and b to create the augmented matrix\n",
        "    augmented_matrix = [row + bi for row, bi in zip(A, b)]\n",
        "\n",
        "    return augmented_matrix"
      ],
      "metadata": {
        "id": "6j5doxcKNuFD"
      },
      "execution_count": 76,
      "outputs": []
    },
    {
      "cell_type": "code",
      "source": [
        "A = two_by_two\n",
        "b = two_by_one\n",
        "\n",
        "augmented_matrix_A_b = construct_augmented_matrix(A, b)\n",
        "\n",
        "print_matrix(augmented_matrix_A_b)"
      ],
      "metadata": {
        "colab": {
          "base_uri": "https://localhost:8080/"
        },
        "id": "byFwL7NMN2us",
        "outputId": "c6861209-73e7-4fd9-f702-c998c3941365"
      },
      "execution_count": 77,
      "outputs": [
        {
          "output_type": "stream",
          "name": "stdout",
          "text": [
            "[[334, 421, 228],\n",
            "[116, 316, 335]]\n"
          ]
        }
      ]
    },
    {
      "cell_type": "markdown",
      "source": [
        "Function to find row echelon form of a given matrix"
      ],
      "metadata": {
        "id": "7CueIeoEOmdT"
      }
    },
    {
      "cell_type": "code",
      "source": [
        "from math import floor\n",
        "\n",
        "def find_row_echelon_form(matrix):\n",
        "    rows = len(matrix)\n",
        "    columns = len(matrix[0])\n",
        "\n",
        "    pivot = 0\n",
        "    for row in range(rows):\n",
        "        if pivot >= columns:\n",
        "            break\n",
        "\n",
        "        # When pivot is 0 find a row where pivot element is not 0 and\n",
        "        if matrix[row][pivot] == 0:\n",
        "          for r in range(row + 1, rows):\n",
        "            if matrix[r][pivot] != 0:\n",
        "              # swap current row and row with non-zero pivot element\n",
        "              matrix[row], matrix[r] = matrix[r], matrix[row]\n",
        "              break\n",
        "            else:\n",
        "              pivot += 1\n",
        "\n",
        "        # Now, when pivot position is not 0, do elementary row transformation\n",
        "        # so as to ensure below the pivot we get zeros in the entire column\n",
        "        for r in range(row + 1, rows):\n",
        "          factor_nr = float(matrix[r][pivot])\n",
        "          factor_dr = float(matrix[row][pivot])\n",
        "          factor = factor_nr / factor_dr\n",
        "          for c in range(pivot, columns):\n",
        "            a = float(matrix[r][c])\n",
        "            b = float(matrix[row][c])\n",
        "            matrix[r][c] = float(matrix[r][c]) - factor * float(matrix[row][c])\n",
        "\n",
        "        pivot += 1\n",
        "\n",
        "    return matrix\n"
      ],
      "metadata": {
        "id": "E1GjP_PMOuHW"
      },
      "execution_count": 79,
      "outputs": []
    },
    {
      "cell_type": "code",
      "source": [
        "ref_A_b = find_row_echelon_form(augmented_matrix_A_b)\n",
        "\n",
        "print_matrix(ref_A_b)"
      ],
      "metadata": {
        "colab": {
          "base_uri": "https://localhost:8080/"
        },
        "id": "Ik0sVY6TRNfS",
        "outputId": "ee15bfe0-7314-48bf-d154-28eceb297654"
      },
      "execution_count": 81,
      "outputs": [
        {
          "output_type": "stream",
          "name": "stdout",
          "text": [
            "[[334, 421, 228],\n",
            "[0.0, 169.78443113772454, 255.81437125748502]]\n"
          ]
        }
      ]
    },
    {
      "cell_type": "markdown",
      "source": [
        "Function to check if a given matrix is in row echelon form"
      ],
      "metadata": {
        "id": "nXjHvluUzZaQ"
      }
    },
    {
      "cell_type": "code",
      "source": [
        "def is_row_echelon(matrix):\n",
        "    rows = len(matrix)\n",
        "    columns = len(matrix[0])\n",
        "\n",
        "    pivot = 0\n",
        "    for row in range(rows):\n",
        "      if pivot >= columns:\n",
        "        break\n",
        "\n",
        "      # Check if the pivot element is zero\n",
        "      if matrix[row][pivot] == 0:\n",
        "        return False\n",
        "\n",
        "      # Check if all elements below the pivot are zero\n",
        "      for r in range(row + 1, rows):\n",
        "        if matrix[r][pivot] != 0:\n",
        "          return False\n",
        "\n",
        "      pivot += 1\n",
        "\n",
        "    return True"
      ],
      "metadata": {
        "id": "nvKvBlxWzehd"
      },
      "execution_count": 82,
      "outputs": []
    },
    {
      "cell_type": "code",
      "source": [
        "print(\"Given matrix is in REF\") if is_row_echelon(ref_A_b) else print(\"Given matrix is not in REF\")"
      ],
      "metadata": {
        "colab": {
          "base_uri": "https://localhost:8080/"
        },
        "id": "_rvFkbmHzt1M",
        "outputId": "4c7846c3-204f-4f86-c174-d3f927a6fdc3"
      },
      "execution_count": 83,
      "outputs": [
        {
          "output_type": "stream",
          "name": "stdout",
          "text": [
            "Given matrix is in REF\n"
          ]
        }
      ]
    },
    {
      "cell_type": "markdown",
      "source": [
        "Function to get reduced row echelon form of a matrix in row echelon form"
      ],
      "metadata": {
        "id": "iyUfBux-1Yp5"
      }
    },
    {
      "cell_type": "code",
      "source": [
        "def find_reduced_row_echelon_form(matrix, find_ref=False):\n",
        "    if not is_row_echelon(matrix) and find_ref:\n",
        "        matrix = find_row_echelon_form(matrix)\n",
        "    elif not is_row_echelon(matrix) and not find_ref:\n",
        "        raise Exception(\"Given matrix is not in row echelon form!\")\n",
        "\n",
        "    rows = len(matrix)\n",
        "    columns = len(matrix[0])\n",
        "\n",
        "    pivot = 0\n",
        "    for row in range(rows):\n",
        "        if pivot >= columns:\n",
        "            break\n",
        "\n",
        "        # Divide the pivot row by the pivot element\n",
        "        pivot_element = matrix[row][pivot]\n",
        "        for c in range(columns):\n",
        "          matrix[row][c] /= pivot_element\n",
        "\n",
        "        # Eliminate non-zero elements above the pivot\n",
        "        for r in range(row):\n",
        "            factor = matrix[r][pivot]\n",
        "            for c in range(columns):\n",
        "                matrix[r][c] -= factor * matrix[row][c]\n",
        "\n",
        "        # Eliminate non-zero elements below the pivot\n",
        "        for r in range(row + 1, rows):\n",
        "            factor = matrix[r][pivot]\n",
        "            for c in range(columns):\n",
        "                matrix[r][c] -= factor * matrix[row][c]\n",
        "\n",
        "        pivot += 1\n",
        "\n",
        "    return matrix\n"
      ],
      "metadata": {
        "id": "mIIdfhj31gJZ"
      },
      "execution_count": 88,
      "outputs": []
    },
    {
      "cell_type": "code",
      "source": [
        "rref_A_b = find_reduced_row_echelon_form(ref_A_b)\n",
        "\n",
        "print_matrix(rref_A_b)"
      ],
      "metadata": {
        "colab": {
          "base_uri": "https://localhost:8080/"
        },
        "id": "yhbt28ue1svd",
        "outputId": "3f98d668-fedf-4cf5-f5ee-402b02f71e98"
      },
      "execution_count": 89,
      "outputs": [
        {
          "output_type": "stream",
          "name": "stdout",
          "text": [
            "[[1.0, 0.0, -1.2165302955618245],\n",
            "[0.0, 1.0, 1.5067009945686676]]\n"
          ]
        }
      ]
    }
  ]
}