{
  "nbformat": 4,
  "nbformat_minor": 0,
  "metadata": {
    "colab": {
      "provenance": [],
      "authorship_tag": "ABX9TyNQFmrKJMXEO3r9CzjQzqlu",
      "include_colab_link": true
    },
    "kernelspec": {
      "name": "python3",
      "display_name": "Python 3"
    },
    "language_info": {
      "name": "python"
    }
  },
  "cells": [
    {
      "cell_type": "markdown",
      "metadata": {
        "id": "view-in-github",
        "colab_type": "text"
      },
      "source": [
        "<a href=\"https://colab.research.google.com/github/vatsaaa/mtech/blob/main/assignments/Python/jgla/01_Jupyter_Guide_To_Linear_Algebra.ipynb\" target=\"_parent\"><img src=\"https://colab.research.google.com/assets/colab-badge.svg\" alt=\"Open In Colab\"/></a>"
      ]
    },
    {
      "cell_type": "markdown",
      "source": [
        "# Solutions to the exercises from book [Jupyter Guide To Linear Algebra](https://bvanderlei.github.io/jupyter-guide-to-linear-algebra/intro.html)\n"
      ],
      "metadata": {
        "id": "wyv6I_zajPf-"
      }
    },
    {
      "cell_type": "markdown",
      "source": [
        "## 1. Write a function that accepts 5 numbers as arguments and returns the average of those numbers"
      ],
      "metadata": {
        "id": "26Yumh-Vj-1s"
      }
    },
    {
      "cell_type": "code",
      "source": [
        "import typing\n",
        "\n",
        "def average(num1: float, num2: float, num3: float, num4: float, num5: float):\n",
        "  return (num1 + num2 + num3 + num4 + num5)/5\n",
        "\n",
        "def main():\n",
        "  print(\"Average: \", average(1.5, 2, 3, 4, 5))\n",
        "\n",
        "if __name__ == \"__main__\":\n",
        "  main()\n",
        "\n"
      ],
      "metadata": {
        "id": "XIUiZWTgkfam"
      },
      "execution_count": null,
      "outputs": []
    },
    {
      "cell_type": "markdown",
      "source": [
        "* We chose the function arguments of `float` type since it will as well work with `int` type\n",
        "* We import typing and qualify function arguments with types to ensure that other types will raise `TypeError`\n"
      ],
      "metadata": {
        "id": "-6cW-CT3r8aS"
      }
    },
    {
      "cell_type": "markdown",
      "source": [
        "## 2. Write a function that takes accepts a single integer and displays whether the integer is odd or even"
      ],
      "metadata": {
        "id": "a6HU7U7gs3dZ"
      }
    },
    {
      "cell_type": "code",
      "source": [
        "import typing\n",
        "\n",
        "def odd_or_even(num: int) -> bool:\n",
        "  return ((num % 2) == 0)\n",
        "\n",
        "def main():\n",
        "  print(\"Given number is: \", \"Even\" if (0 == odd_or_even(121)) else \"Odd\")\n",
        "\n",
        "if __name__ == \"__main__\":\n",
        "  main()"
      ],
      "metadata": {
        "colab": {
          "base_uri": "https://localhost:8080/"
        },
        "id": "vr7eUu0is_2Z",
        "outputId": "2931891c-9ad6-491c-c08c-1204364cc6be"
      },
      "execution_count": null,
      "outputs": [
        {
          "output_type": "stream",
          "name": "stdout",
          "text": [
            "Given number is:  Even\n"
          ]
        }
      ]
    },
    {
      "cell_type": "markdown",
      "source": [
        "* We import `typing` to be able to specify that the input number is an integer and to specify that the function returns type `bool`\n",
        "* Also, note that we return `bool` from the function and then let the decision of `Even` or `Odd` be made in the calling client function - just following a best practice"
      ],
      "metadata": {
        "id": "oqjFmk5uuU3R"
      }
    },
    {
      "cell_type": "markdown",
      "source": [
        "## 3. Write a function that accepts a single argument 𝑁, and returns the largest square number that is less than or equal to 𝑁"
      ],
      "metadata": {
        "id": "6TSadmu5vpF1"
      }
    },
    {
      "cell_type": "code",
      "source": [
        "import typing\n",
        "from math import sqrt\n",
        "\n",
        "def largest_sqr_less_than(N: int) -> int:\n",
        "  return int(sqrt(N))\n",
        "\n",
        "def main(N: int):\n",
        "  print(\"Largest square less than \", N, \" is: \", largest_sqr_less_than(50))\n",
        "\n",
        "if __name__ == \"__main__\":\n",
        "  main(26)\n",
        "\n"
      ],
      "metadata": {
        "id": "5kFE5TXDv0dq"
      },
      "execution_count": null,
      "outputs": []
    },
    {
      "cell_type": "markdown",
      "source": [
        "## 4. Write a function that accepts two arguments, `a` and `b`, and returns the remainder of `a/b`. (There is a built-in Python operator that does this, but try to come up with a way to do it for yourself.)"
      ],
      "metadata": {
        "id": "lcArpUx0KHV1"
      }
    },
    {
      "cell_type": "code",
      "source": [
        "def remainder(a: int, b: int):\n",
        "  return (a - ((a //b) * b))\n",
        "\n",
        "def main(a: int, b: int):\n",
        "  print('Remainder of {a}/{b} is {rem}'.format(a=a, b=b, rem=remainder(a, b)))\n",
        "\n",
        "if __name__ == \"__main__\":\n",
        "  main(10, 18)"
      ],
      "metadata": {
        "id": "MvYRZ6G7KTNO"
      },
      "execution_count": null,
      "outputs": []
    },
    {
      "cell_type": "markdown",
      "source": [
        "* The logic is to subtract quotient * divisor from the given number and you are left with the remainder\n",
        "* We as well learn how to format and print the output string\n",
        "* Also note, in a notebook it is not necessary to import any library that was imported"
      ],
      "metadata": {
        "id": "fwMR8ZeKMTNm"
      }
    },
    {
      "cell_type": "markdown",
      "source": [
        "## 5. Write a function that accepts a single integer `N`, as an argument, and returns the number of factors of `N`. (For example, 18 has factors 1, 2, 3, 6, 9, 18. If the function receives 18 as an argument, it should return 6.)"
      ],
      "metadata": {
        "id": "TYXHCSPkMuW8"
      }
    },
    {
      "cell_type": "code",
      "source": [
        "def get_factors(N: int):\n",
        "  factors = []\n",
        "\n",
        "  for i in range(1, N+1, 1):\n",
        "    if ((N % i) == 0):\n",
        "      factors.append(i)\n",
        "\n",
        "  return factors\n",
        "\n",
        "def main(N: int):\n",
        "  factors = get_factors(N)\n",
        "\n",
        "  print(\"Number of factors of {N} are {factor_count}\".format(N=N, factor_count=len(factors)))\n",
        "\n",
        "if __name__ == \"__main__\":\n",
        "  main(24)\n"
      ],
      "metadata": {
        "id": "vxEFifPeMxsK"
      },
      "execution_count": null,
      "outputs": []
    },
    {
      "cell_type": "markdown",
      "source": [
        "## 6. Write a function that accepts a single argument that represents a date, and returns the number of days that have passed between January 1, 2000, and the date provided. (For example, if the function receives the number 020100 (February 1, 2000), it should return the number 31. If the function receives the number 01012001 (January 1, 2001), it should return 366 since the year 2000 was a leap year.) This exercise is more challenging that it may first appear. Try splitting the problem in to simpler tasks."
      ],
      "metadata": {
        "id": "EoqWLssvQkVi"
      }
    },
    {
      "cell_type": "code",
      "source": [
        "from datetime import datetime\n",
        "\n",
        "def date_diff(date: str) -> int:\n",
        "  base_yy = int(\"00\")\n",
        "  base_mm = int(\"01\")\n",
        "  base_dd = int(\"01\")\n",
        "\n",
        "  month_and_days_dict = {\n",
        "      \"1\": 31,\n",
        "      \"2\": 28,\n",
        "      \"3\": 31,\n",
        "      \"4\": 30,\n",
        "      \"5\": 31,\n",
        "      \"6\": 30,\n",
        "      \"7\": 31,\n",
        "      \"8\": 31,\n",
        "      \"9\": 30,\n",
        "      \"10\": 31,\n",
        "      \"11\": 30,\n",
        "      \"12\": 31\n",
        "  }\n",
        "\n",
        "  given_mm = int(date[0:2])\n",
        "  given_dd = int(date[2:4])\n",
        "  given_yy = int(date[4:])\n",
        "\n",
        "  leap_years, not_leap_years = [], []\n",
        "  for y in range(2000, int(\"20\"+str(given_yy))):\n",
        "    if ((y % 4) == 0):\n",
        "      if ((y % 100)) == 0 and ((y % 400) != 0):\n",
        "        break\n",
        "\n",
        "      leap_years.append(y)\n",
        "    else:\n",
        "      not_leap_years.append(y)\n",
        "\n",
        "  num_days = len(leap_years) * 366 + len(not_leap_years) * 365\n",
        "\n",
        "  for m in range(1, given_mm):\n",
        "    num_days += month_and_days_dict[str(m)]\n",
        "\n",
        "  num_days += (given_dd - base_dd)\n",
        "\n",
        "  return num_days\n",
        "\n",
        "\n",
        "def main(date: str):\n",
        "  print(\"Days passed since 010100 till {gdate} are {days}\".format(gdate=date, days=date_diff(date)))\n",
        "\n",
        "if __name__ == \"__main__\":\n",
        "  main(datetime.now().strftime('%m%d%y'))\n"
      ],
      "metadata": {
        "id": "o0WI0XDfQ0k0"
      },
      "execution_count": null,
      "outputs": []
    },
    {
      "cell_type": "markdown",
      "source": [
        "* Reading the problem twice, it is implict that the year cannot be greater than 2099\n",
        "* To test, run the program and the result should be as [here](https://www.google.com/search?q=how+many+days+have+passed+from+01+jan+2000+till+today&oq=How+many+days+have+passed+from+01+jan+2000+till+today&gs_lcrp=EgZjaHJvbWUqBggAEEUYOzIGCAAQRRg7MgcIARAAGKIEMgcIAhAAGKIEMgcIAxAAGKIEMgcIBBAAGKIEMgcIBRAAGKIE0gEIMjE5MWowajeoAgCwAgA&sourceid=chrome&ie=UTF-8)"
      ],
      "metadata": {
        "id": "6S4JO0Od1UC_"
      }
    }
  ]
}