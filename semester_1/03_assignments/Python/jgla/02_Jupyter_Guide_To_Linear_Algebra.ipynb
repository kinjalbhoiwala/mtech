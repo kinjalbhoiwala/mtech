{
  "nbformat": 4,
  "nbformat_minor": 0,
  "metadata": {
    "colab": {
      "provenance": [],
      "authorship_tag": "ABX9TyOTX0G5pClul90k6Fmg99K5",
      "include_colab_link": true
    },
    "kernelspec": {
      "name": "python3",
      "display_name": "Python 3"
    },
    "language_info": {
      "name": "python"
    }
  },
  "cells": [
    {
      "cell_type": "markdown",
      "metadata": {
        "id": "view-in-github",
        "colab_type": "text"
      },
      "source": [
        "<a href=\"https://colab.research.google.com/github/vatsaaa/mtech/blob/main/assignments/Python/jgla/02_Jupyter_Guide_To_Linear_Algebra.ipynb\" target=\"_parent\"><img src=\"https://colab.research.google.com/assets/colab-badge.svg\" alt=\"Open In Colab\"/></a>"
      ]
    },
    {
      "cell_type": "markdown",
      "source": [
        "- [A Crash Course in Python for Scientists](https://nbviewer.org/gist/rpmuller/5920182)\n",
        "- [Using Latex](https://colab.research.google.com/github/bebi103a/bebi103a.github.io/blob/master/lessons/00/intro_to_latex.ipynb#scrollTo=josI6ZKfHK-r)"
      ],
      "metadata": {
        "id": "9v1pSga00ote"
      }
    },
    {
      "cell_type": "markdown",
      "source": [
        "## Some basic learning before we head to solutions"
      ],
      "metadata": {
        "id": "AS7XhVyNu2lW"
      }
    },
    {
      "cell_type": "code",
      "source": [
        "# We will need to import numpy for these questions\n",
        "import numpy as np"
      ],
      "metadata": {
        "id": "LmLdh4fromAK"
      },
      "execution_count": null,
      "outputs": []
    },
    {
      "cell_type": "code",
      "source": [
        "# Some basic learning before we head to solutions\n",
        "list1 = [1, 2, 3]\n",
        "list2 = [2, 3, 4]\n",
        "list3 = [3, 5, 5]\n",
        "\n",
        "# Creating an array with lists\n",
        "R = np.array([list1, list2, list3])\n",
        "\n",
        "# Elements of this array can be changed\n",
        "R = R + 1\n",
        "print(R)"
      ],
      "metadata": {
        "id": "fnxgn71So-Gz"
      },
      "execution_count": null,
      "outputs": []
    },
    {
      "cell_type": "code",
      "source": [
        "# An array can be created as list of tuples\n",
        "tup1 = (1, 2, 3)\n",
        "tup2 = (2, 3, 4)\n",
        "tup3 = (3, 4, 5)\n",
        "\n",
        "# While the tuples themselves cannot me changed\n",
        "S = np.array([tup1, tup2, tup3])\n",
        "\n",
        "# The array created with these tuples can be changed\n",
        "S = 2 * S\n",
        "print(S)\n",
        "\n",
        "# Original tuples are not modified\n",
        "print(tup1, tup2, tup3)"
      ],
      "metadata": {
        "id": "NIMWJz2Fp5-E"
      },
      "execution_count": null,
      "outputs": []
    },
    {
      "cell_type": "code",
      "source": [
        "# An array can be created a tuple of tuples\n",
        "tup_of_tup = (tup1, tup2)\n",
        "\n",
        "# and the array cab be modified\n",
        "U = np.array(tup_of_tup)\n",
        "U = U + 3\n",
        "\n",
        "V = C.reshape(3, 2)\n",
        "\n",
        "print(U)\n",
        "\n",
        "print(V)\n",
        "\n",
        "# not the tuples"
      ],
      "metadata": {
        "id": "5YQLeYMuqKT6"
      },
      "execution_count": null,
      "outputs": []
    },
    {
      "cell_type": "markdown",
      "source": [
        "## 1. Using the `random` module, create a NumPy array with 2 rows and 3 columns that has entries that are random positive integers less than 10. Print your array. Change the entry in the first row, second column to 8 and double the value in the second row, third column. Print the resulting array to check that your code has made the correct modifications."
      ],
      "metadata": {
        "id": "NvYLRqlnvjq7"
      }
    },
    {
      "cell_type": "code",
      "source": [
        "Y = np.random.randint(10, size=(2, 3))\n",
        "print(Y, \"\\n\")\n",
        "\n",
        "# Change the entry in the first row, second column to 8\n",
        "Y[0][1] = 8\n",
        "\n",
        "# double the value in the second row, third column\n",
        "Y[1][2] = 2 * Y[1][2]\n",
        "\n",
        "print(Y)"
      ],
      "metadata": {
        "id": "vwrt_VkdxGUT"
      },
      "execution_count": null,
      "outputs": []
    },
    {
      "cell_type": "markdown",
      "source": [
        "## 2. Using the `random` module, create a NumPy array with 3 rows and 3 columns that has entries that are random positive integers less than 10. Print your array. Now multiply each value in the matrix by 5 and then add 1 to all the enteries in the second row. After that, divide each diagonal entry by 2 and print the resulting array to check that your code has made the correct modifications."
      ],
      "metadata": {
        "id": "oFcaWpadvu3m"
      }
    },
    {
      "cell_type": "code",
      "source": [
        "# Using np.random module get np.array of 3 rows, 3 columns\n",
        "Z = np.random.randint(10.0, size=(3, 3))\n",
        "print(Z, \"\\n\")\n",
        "\n",
        "# multiply each value in the matrix by 5\n",
        "Z = 5 * Z\n",
        "print(Z, \"\\n\")\n",
        "\n",
        "# add 1 to all the enteries in the second row of this np.array\n",
        "Z[1] = Z[1] +1\n",
        "print(Z, \"\\n\")\n",
        "\n",
        "# divide each diagonal entry by 2 and print the resulting array\n",
        "for k in range(0, 3):\n",
        "  i, j = 0, 0\n",
        "  i, j = i+k, j+k\n",
        "  Z[i][j] = Z[i][j]/2\n",
        "\n",
        "print(Z)"
      ],
      "metadata": {
        "id": "_w05Yp3Py49V"
      },
      "execution_count": null,
      "outputs": []
    },
    {
      "cell_type": "markdown",
      "source": [
        "## 3. Using the `random` module, create a NumPy array with 2 rows and 3 columns that has entries that are random integers greater than 5 and less than 13. Write code that sets all even entries of the matrix to zero. Print the array and check the results. Run the code several times to check that it works for different random arrays."
      ],
      "metadata": {
        "id": "9M8umeQCvyZJ"
      }
    },
    {
      "cell_type": "code",
      "source": [
        "# run the code several times\n",
        "for i in range(100):\n",
        "  # Create array of 2 rows, 3 columns\n",
        "  # containing random integers b/w (5, 13)\n",
        "  P = np.random.randint(low=6, high=13, size=(2, 3))\n",
        "\n",
        "  # use numpy.any() function to check that all elements of P are b/w (5, 13)\n",
        "  if(np.any((P < 6)|(P > 13 )) == True):\n",
        "    print(\"Error: Some elements are out of range!\")\n"
      ],
      "metadata": {
        "id": "xb7NOanP9Phj"
      },
      "execution_count": null,
      "outputs": []
    },
    {
      "cell_type": "markdown",
      "source": [
        "* Instead of printing the array to check we used numpy.any() ensure that the elements of the array are greater than 5 and less than 13"
      ],
      "metadata": {
        "id": "gFuG_S1-CXU3"
      }
    },
    {
      "cell_type": "markdown",
      "source": [
        "## 4. Create a NumPy array with 2 rows and 4 columns and assign it the name A. Fill it with some values of your choice. Create a new array `B` that has the columns of `A` as it's rows. Print `A` and `B`. Below is an example of one such pair of arrays.\n",
        "\n",
        "![jgla_ex2_q4.jpg](data:image/jpeg;base64,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)\n"
      ],
      "metadata": {
        "id": "Yv3JowLdv2NH"
      }
    },
    {
      "cell_type": "code",
      "source": [
        "A = np.random.randint(100, size=(2, 4))\n",
        "print(A, \"\\n\")\n",
        "\n",
        "B = A.transpose()\n",
        "print(B, \"\\n\")"
      ],
      "metadata": {
        "id": "fzPsYLa5DMAv"
      },
      "execution_count": null,
      "outputs": []
    },
    {
      "cell_type": "markdown",
      "source": [
        "## 5. Using matplotlib to plot the following points using the blue cross symbol: (2,1), (4,4), (8,16), (10,25). Add a grid that consists of dotted lines as in Example 2. Set the limits of 𝑥-axis to 0 and 10. Set the limits of the $y$-axis to 0 and 25. The numbers and gridlines should appear at intervals of 2 units along the 𝑥-axis and at intervals of 5 units along the 𝑦-axis. Label the 𝑥-axis as “Time” and the 𝑦-axis as “Distance”."
      ],
      "metadata": {
        "id": "Lkn6xloOv6cO"
      }
    },
    {
      "cell_type": "code",
      "source": [
        "import numpy as np\n",
        "import matplotlib.pyplot as plt\n",
        "\n",
        "# Array of x co-ordinates\n",
        "x = np.array([2, 4, 8, 10])\n",
        "\n",
        "# Array of y co-ordinates\n",
        "y = np.array([1, 4, 16, 25])\n",
        "\n",
        "## the graphical output will be redirected to this notebook only\n",
        "%matplotlib inline\n",
        "\n",
        "## get Figure object and an Axes object, using subplots() method\n",
        "fig, ax = plt.subplots()\n",
        "\n",
        "## Following options set the upper and lower boundaries for x and y axis\n",
        "ax.set_xlim(0,11)\n",
        "ax.set_ylim(0,26)\n",
        "\n",
        "## numbers and gridlines at intervals of 2 units along the 𝑥-axis\n",
        "ax.set_xticks(np.linspace(0, 11, 12));\n",
        "\n",
        "## numbers and gridlines at intervals of 5 units along the 𝑦-axis\n",
        "ax.set_yticks(np.linspace(0, 26, 27));\n",
        "\n",
        "## grid() accepts argument ls specifying linestyle as dotted here\n",
        "ax.grid(True,ls='dotted')\n",
        "\n",
        "## Plots the data on the Axes object\n",
        "ax.plot(x, y, 'b*')\n"
      ],
      "metadata": {
        "id": "LEQWQ1FYOjti"
      },
      "execution_count": null,
      "outputs": []
    },
    {
      "cell_type": "markdown",
      "source": [
        "## 6. Use matplotlib to plot the curve $𝑦=4+𝑥−0.5𝑥^2$ where 𝑥 lies in the interval [−1,5]. Follow Example 2 and use 𝚕𝚒𝚗𝚜𝚙𝚊𝚌𝚎 to generate an array of coordinates of points on the curve. The curve should be dashed and shown in green color. The numbers and gridlines should appear at intervals of 1 unit along the 𝑥-axis and at intervals of 3 units along the 𝑦-axis. Draw the lines 𝑥=0, and 𝑦=0 with black colour and 1 unit width. Add a grid that consists of dashed lines.\n",
        "\n",
        "\\"
      ],
      "metadata": {
        "id": "GnSdupKav93v"
      }
    },
    {
      "cell_type": "code",
      "source": [
        "import numpy as np\n",
        "import matplotlib.pyplot as plt\n",
        "%matplotlib inline\n",
        "\n",
        "x = np.linspace(-1, 5, 1000)\n",
        "y = 4 + x - (𝑥**2)/2\n",
        "\n",
        "fig, ax = plt.subplots()\n",
        "ax.plot(x,y)\n",
        "\n",
        "ax.axvline(color='k',linewidth = 1)\n",
        "ax.axhline(color='k',linewidth = 1)\n",
        "\n",
        "ax.grid(True, ls='dotted')\n",
        "ax.set_xticks(np.linspace(-1, 5, 7))\n",
        "ax.set_yticks(np.linspace(-4, 5, 10))"
      ],
      "metadata": {
        "id": "0c3v1PXfvzr1"
      },
      "execution_count": null,
      "outputs": []
    }
  ]
}