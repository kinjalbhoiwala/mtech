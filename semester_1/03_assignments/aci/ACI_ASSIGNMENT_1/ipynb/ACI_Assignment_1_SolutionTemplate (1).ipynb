{
  "cells": [
    {
      "cell_type": "markdown",
      "metadata": {
        "id": "MzZ4dJQYF7sH"
      },
      "source": [
        "# Artificial and Computational Intelligence Assignment 1"
      ]
    },
    {
      "cell_type": "markdown",
      "metadata": {
        "id": "Fxb1aE9zF7sK"
      },
      "source": [
        "## Problem solving by Uninformed & Informed Search"
      ]
    },
    {
      "cell_type": "markdown",
      "metadata": {
        "id": "h35jIBbCF7sK"
      },
      "source": [
        "List only the BITS (Name) of active contributors in this assignment:\n",
        "1. ___________________\n",
        "2. __________________\n",
        "3. ____________________\n",
        "4. ___________________\n",
        "5. ___________________"
      ]
    },
    {
      "cell_type": "markdown",
      "metadata": {
        "id": "pt5ygv_zF7sL"
      },
      "source": [
        "Things to follow\n",
        "1.\tUse appropriate data structures to represent the graph and the path using python libraries\n",
        "2.\tProvide proper documentation\n",
        "3.\tFind the path and print it"
      ]
    },
    {
      "cell_type": "markdown",
      "metadata": {
        "id": "wZfop5ElF7sL"
      },
      "source": [
        "Coding begins here"
      ]
    },
    {
      "cell_type": "markdown",
      "metadata": {
        "id": "IL0QDMy3F7sL"
      },
      "source": [
        "### 1.\tDefine the environment in the following block"
      ]
    },
    {
      "cell_type": "markdown",
      "metadata": {
        "id": "RYwJPNLIF7sM"
      },
      "source": [
        "List the PEAS decription of the problem here in this markdown block\n"
      ]
    },
    {
      "cell_type": "markdown",
      "metadata": {
        "id": "XJ3cHp1IF7sM"
      },
      "source": [
        "Design the agent as PSA Agent(Problem Solving Agent)\n",
        "Clear Initial data structures to define the graph and variable declarations is expected\n",
        "IMPORTATANT: Write distinct code block as below"
      ]
    },
    {
      "cell_type": "code",
      "execution_count": 2,
      "metadata": {
        "id": "osp61RsLF7sN"
      },
      "outputs": [],
      "source": [
        "#Code Block : Set Initial State (Must handle dynamic inputs)\n",
        "class GridGenerator:\n",
        "    def __init__(self):\n",
        "        self.grid = [\n",
        "            ['.', '.', '.', '.', '#', '#', '.', '.'],\n",
        "            ['.', 'F', 'F', '.', '.', '.', '.', 'F'],\n",
        "            ['.', '.', '.', '.', '.', '.', '.', '.'],\n",
        "            ['#', '#', '.', 'F', '.', '.', '.', '.'],\n",
        "            ['.', 'F', '.', '.', '.', '.', '#', '#'],\n",
        "            ['.', '.', '.', 'F', '.', '.', '.', '.'],\n",
        "            ['.', '#', '#', '.', '.', 'F', '.', '.'],\n",
        "            ['.', '.', '.', '.', '.', 'F', '.', '.']\n",
        "        ]\n",
        "\n",
        "    def generate_grid(self):\n",
        "        def set_position(position, symbol):\n",
        "            row, col = position\n",
        "            if row < 0 or row > len(self.grid) or col < 0 or col > len(self.grid[0]):\n",
        "                return None, \"Please enter rows position between 0 to {rows} and columns between 0 to {cols}\".format(rows=len(self.grid - 1), cols=len(self.grid[0] - 1))\n",
        "\n",
        "            if self.grid[row][col] == '#':\n",
        "                self.print_grid()\n",
        "                return None, f\"Invalid {symbol} position! This cell is occupied by a water body ('#').\"\n",
        "\n",
        "            if self.grid[row][col] == 'F':\n",
        "                self.print_grid()\n",
        "                return None, f\"Invalid {symbol} position! This cell is flooded ('F').\"\n",
        "\n",
        "            if self.grid[row][col] == 'S':\n",
        "                self.print_grid()\n",
        "                return None, f\"Invalid {symbol} position! The start and the Goal position cannot be same.\"\n",
        "\n",
        "            self.grid[row][col] = symbol\n",
        "\n",
        "            return self.grid, None\n",
        "\n",
        "        # Start position input and validation\n",
        "        while True:\n",
        "            start_input = input(\"\\nEnter the start position (row,col): \")\n",
        "            start_row, start_col = map(int, start_input.split(','))\n",
        "            grid_with_start, error_message = set_position((start_row, start_col), 'S')\n",
        "            if error_message:\n",
        "                print(error_message)\n",
        "            else:\n",
        "                break\n",
        "\n",
        "        # Goal position input and validation\n",
        "        while True:\n",
        "            goal_input = input(\"\\nEnter the goal position (row,col): \")\n",
        "            goal_row, goal_col = map(int, goal_input.split(','))\n",
        "            grid_with_goal, error_message = set_position((goal_row, goal_col), 'G')\n",
        "            if error_message:\n",
        "                print(error_message)\n",
        "            else:\n",
        "                break\n",
        "\n",
        "        # Print final grid with start and goal positions\n",
        "        print(\"\\nFinal grid with start and goal positions:\")\n",
        "        self.print_grid()\n",
        "\n",
        "    def print_grid(self):\n",
        "        for row in self.grid:\n",
        "            print(' '.join(row))\n",
        "\n",
        "\n"
      ]
    },
    {
      "cell_type": "code",
      "execution_count": 4,
      "metadata": {
        "id": "XODwoWZ0F7sO"
      },
      "outputs": [],
      "source": [
        "#Code Block : Set the matrix for transition & cost (as relevant for the given problem)\n",
        "\n",
        "import time\n",
        "import platform\n",
        "\n",
        "if platform.system() == \"Windows\":\n",
        "    import psutil\n",
        "elif platform.system() == \"Darwin\" or platform.system() == \"Linux\":\n",
        "    import resource\n",
        "\n",
        "if platform.system() == \"Windows\":\n",
        "    def track_time_and_space(func):\n",
        "        def wrapper(*args, **kwargs):\n",
        "            start_time = time.time()\n",
        "            start_memory = psutil.Process().memory_info().rss \n",
        "\n",
        "            result = func(*args, **kwargs)\n",
        "            \n",
        "            end_time = time.time()\n",
        "            end_memory = psutil.Process().memory_info().rss\n",
        "\n",
        "            print(platform.system(), start_memory, end_memory)\n",
        "\n",
        "            execution_time = end_time - start_time\n",
        "            memory_usage = (end_memory - start_memory) / 1024  # Convert to kilobytes\n",
        "\n",
        "            print(f\"Execution time: {execution_time} seconds\")\n",
        "            print(f\"Memory usage: {memory_usage} KB\")\n",
        "\n",
        "            return result, execution_time, memory_usage\n",
        "\n",
        "        return wrapper\n",
        "else:\n",
        "    def track_time_and_space(func):\n",
        "        def wrapper(*args, **kwargs):\n",
        "            start_time = time.time()\n",
        "            start_memory = resource.getrusage(resource.RUSAGE_SELF).ru_maxrss\n",
        "\n",
        "            result = func(*args, **kwargs)\n",
        "            \n",
        "            end_time = time.time()\n",
        "            end_memory = resource.getrusage(resource.RUSAGE_SELF).ru_maxrss\n",
        "\n",
        "            execution_time = end_time - start_time\n",
        "            memory_usage = (end_memory - start_memory) / 1024  # Convert to kilobytes\n",
        "\n",
        "            print(f\"Execution time: {execution_time} seconds\")\n",
        "            print(f\"Memory usage: {memory_usage} KB\")\n",
        "\n",
        "            return result, execution_time, memory_usage\n",
        "        \n",
        "        return wrapper\n",
        "\n",
        "\n"
      ]
    },
    {
      "cell_type": "code",
      "execution_count": null,
      "metadata": {
        "id": "ro24Gaj7F7sO"
      },
      "outputs": [],
      "source": [
        "#Code Block : Write function to design the Transition Model/Successor function. Ideally this would be called while search algorithms are implemented\n",
        "import matplotlib.pyplot as plt\n",
        "import random\n",
        "import sys\n",
        "\n",
        "class GridEnvironment:\n",
        "    def __init__(self, grid: list[list[str]], display: bool = False):\n",
        "        def find_start_and_goal():\n",
        "            for i in range(self.rows):\n",
        "                for j in range(self.cols):\n",
        "                    if self.grid[i][j] == 'S':\n",
        "                        self.start = tuple((i, j))\n",
        "                    elif self.grid[i][j] == 'G':\n",
        "                        self.goal = tuple((i, j))\n",
        "            print(\"Start {start}, Goal {goal}:\".format(start=self.start, goal=self.goal))\n",
        "\n",
        "        self.grid = grid\n",
        "        self.rows = len(self.grid)\n",
        "        self.cols = len(self.grid[0])\n",
        "        self.display = display\n",
        "        find_start_and_goal()\n",
        "\n",
        "    def visualize(self, path):\n",
        "         # Define colors for different elements\n",
        "        colors = {'S': 'green', '.': 'white', '#': 'black', 'F': 'red', 'G': 'blue'}\n",
        "        # Create a plot\n",
        "        fig, ax = plt.subplots()\n",
        "\n",
        "        # Plot each element with specified colors      \n",
        "        for i in range(self.rows):\n",
        "            for j in range(self.cols):\n",
        "                ax.text(i, j, self.grid[i][j], ha='center', va='center', color=colors[self.grid[i][j]])\n",
        "\n",
        "        # Customize ticks\n",
        "        ax.set_xticks(range(len(self.grid[0])))\n",
        "        ax.set_yticks(range(len(self.grid)))\n",
        "        ax.set_xticklabels([])\n",
        "        ax.set_yticklabels([])\n",
        "        \n",
        "        plt.title('S - Start, G - Goal')\n",
        "        plt.xlabel('# - Water Bodies')\n",
        "        plt.ylabel('F - Flooded Roads')\n",
        "\n",
        "        # Add grid lines\n",
        "        ax.grid(True, which='both', color='black', linewidth=1.5, linestyle='-', alpha=0.3)\n",
        "        \n",
        "        col = ['red', 'green', 'blue', 'cyan', 'magenta', 'orange', 'purple']\n",
        "        colors = [col[random.randint(0, 6)] for _ in range(sys.getsizeof(path)-1)]\n",
        "        X, Y = zip(*path)\n",
        "        \n",
        "        # Plot the path with different colors for each segment\n",
        "        for i in range(sys.getsizeof(path)-1):\n",
        "            plt.plot(X[i:i+2], Y[i:i+2], color=colors[i])\n",
        "        \n",
        "        # plt.plot(*zip(*path), marker='o', color='red', label='Path')\n",
        "        plt.scatter(*path[0], marker='o', color='green', label='Start')\n",
        "        plt.scatter(*path[-1], marker='o', color='blue', label='Goal')\n",
        "\n",
        "    def is_valid_move(self, row, col):\n",
        "        return (\n",
        "            0 <= row < self.rows \n",
        "            and 0 <= col < self.cols \n",
        "            and self.grid[row][col] != '#' \n",
        "            and self.grid[row][col] != 'F'\n",
        "        )\n",
        "\n",
        "    def get_adjacent_cells(self, row, col, algorithm=None):\n",
        "        directions = [(1, 0), (-1, 0), (0, 1), (0, -1)] #degrees of freedom - need to revise by prasnejit\n",
        "        adjacent_cells = [] # Return empty list of adjacent cells if all moves are invalid\n",
        "        for dr, dc in directions:\n",
        "            new_row, new_col = row + dr, col + dc\n",
        "            if self.is_valid_move(new_row, new_col):\n",
        "                if algorithm == \"greedy\" and self.display:\n",
        "                    print(\" The move is valid for this %d and %d\" % (new_row, new_col))\n",
        "                adjacent_cells.append(tuple((new_row, new_col)))\n",
        "        return adjacent_cells\n",
        "    \n",
        "    def goal_reached(self, row, col):\n",
        "        return (row, col) == self.goal\n"
      ]
    },
    {
      "cell_type": "code",
      "execution_count": 5,
      "metadata": {
        "id": "HIVPhrRWF7sO"
      },
      "outputs": [],
      "source": [
        "#Code block : Write fucntion to handle goal test (Must handle dynamic inputs). Ideally this would be called while search algorithms are implemented\n",
        "def goal_reached(self, row, col):\n",
        "        return (row, col) == self.goal"
      ]
    },
    {
      "cell_type": "markdown",
      "metadata": {
        "id": "Z4QwDeX5F7sO"
      },
      "source": [
        "### 2.\tDefinition of Algorithm 1 (Mention the Name of the algorithm here)"
      ]
    },
    {
      "cell_type": "code",
      "execution_count": 6,
      "metadata": {
        "id": "zD_EPCHWF7sO"
      },
      "outputs": [
        {
          "ename": "NameError",
          "evalue": "name 'ISearchAlgorithm' is not defined",
          "output_type": "error",
          "traceback": [
            "\u001b[1;31m---------------------------------------------------------------------------\u001b[0m",
            "\u001b[1;31mNameError\u001b[0m                                 Traceback (most recent call last)",
            "Cell \u001b[1;32mIn[6], line 6\u001b[0m\n\u001b[0;32m      3\u001b[0m \u001b[38;5;28;01mfrom\u001b[39;00m \u001b[38;5;21;01mcollections\u001b[39;00m \u001b[38;5;28;01mimport\u001b[39;00m deque\n\u001b[0;32m      4\u001b[0m \u001b[38;5;28;01mfrom\u001b[39;00m \u001b[38;5;21;01mtyping\u001b[39;00m \u001b[38;5;28;01mimport\u001b[39;00m List, Tuple\n\u001b[1;32m----> 6\u001b[0m \u001b[38;5;28;01mclass\u001b[39;00m \u001b[38;5;21;01mGBFSearchAlgorithm\u001b[39;00m(\u001b[43mISearchAlgorithm\u001b[49m):\n\u001b[0;32m      7\u001b[0m \u001b[38;5;250m    \u001b[39m\u001b[38;5;124;03m\"\"\"\u001b[39;00m\n\u001b[0;32m      8\u001b[0m \u001b[38;5;124;03m    Greedy Best-First Search Algorithm implementation.\u001b[39;00m\n\u001b[0;32m      9\u001b[0m \n\u001b[1;32m   (...)\u001b[0m\n\u001b[0;32m     28\u001b[0m \n\u001b[0;32m     29\u001b[0m \u001b[38;5;124;03m    \"\"\"\u001b[39;00m\n\u001b[0;32m     30\u001b[0m     \u001b[38;5;28;01mdef\u001b[39;00m \u001b[38;5;21m__init__\u001b[39m(\u001b[38;5;28mself\u001b[39m, grid_env: GridEnvironment) \u001b[38;5;241m-\u001b[39m\u001b[38;5;241m>\u001b[39m \u001b[38;5;28;01mNone\u001b[39;00m:\n",
            "\u001b[1;31mNameError\u001b[0m: name 'ISearchAlgorithm' is not defined"
          ]
        }
      ],
      "source": [
        "#Code Block : Function for algorithm 1 implementation\n",
        "from heapq import heappush, heappop\n",
        "from collections import deque\n",
        "from typing import List, Tuple\n",
        "\n",
        "class GBFSearchAlgorithm(ISearchAlgorithm):\n",
        "    \"\"\"\n",
        "    Greedy Best-First Search Algorithm implementation.\n",
        "\n",
        "    This algorithm uses a priority queue to explore the search space based on a heuristic function.\n",
        "    It expands the node with the lowest heuristic value, prioritizing the most promising paths towards the goal.\n",
        "\n",
        "    Attributes:\n",
        "        None\n",
        "\n",
        "    Methods:\n",
        "        search(grid_env: GridEnvironment) -> Tuple[List[Tuple[int, int]], int]:\n",
        "            Performs the greedy best-first search on the given grid environment.\n",
        "\n",
        "        heuristic(row: int, col: int) -> int:\n",
        "            Calculates the heuristic value for a given cell in the grid.\n",
        "\n",
        "        time_complexity() -> str:\n",
        "            Returns the time complexity of the algorithm.\n",
        "\n",
        "        space_complexity() -> str:\n",
        "            Returns the space complexity of the algorithm.\n",
        "\n",
        "    \"\"\"\n",
        "    def __init__(self, grid_env: GridEnvironment) -> None:\n",
        "        super().__init__()\n",
        "\n",
        "        self.grid_env = grid_env\n",
        "        self.tree = {}\n",
        "\n",
        "    @track_time_and_space\n",
        "    def search(self) -> Tuple[List[Tuple[int, int]], int, int]:\n",
        "        \"\"\"\n",
        "        Performs the greedy best-first search on the given grid environment.\n",
        "\n",
        "        Args:\n",
        "            grid_env (GridEnvironment): The grid environment to search in.\n",
        "\n",
        "        Returns:\n",
        "            Tuple[List[Tuple[int, int]], int]: A tuple containing the path taken by the agent and the total path cost.\n",
        "\n",
        "        \"\"\"\n",
        "        start = self.grid_env.start\n",
        "        goal = self.grid_env.goal\n",
        "        visited = set()\n",
        "        pq = [(self.heuristic(*start), start)]\n",
        "        came_from = {}\n",
        "        cost_so_far = {start: 0}  # Store the cost of reaching each cell\n",
        "        total_nodes_expanded = 0\n",
        "        total_branching_factor = 0\n",
        "        depth_of_solution = 0\n",
        "\n",
        "        while pq:\n",
        "                print(\"Open List (Priority Queue):\", pq)\n",
        "                print(\"Closed List (Visited Set):\", visited)\n",
        "                priority, current = heappop(pq)  # Pop the item with lowest priority\n",
        "                if current == goal:\n",
        "                    # Reconstruct the path\n",
        "                    path = deque()\n",
        "                    total_cost = cost_so_far[current]\n",
        "                    while current != start:\n",
        "                        path.appendleft(current)\n",
        "                        current = came_from[current]\n",
        "                        depth_of_solution += 1  # Increment depth for each step towards the start node\n",
        "                    path.appendleft(start)\n",
        "                    break  # Exit the loop when the goal node is found\n",
        "                    \n",
        "                visited.add(current)\n",
        "                total_nodes_expanded += 1\n",
        "\n",
        "                successors = self.grid_env.get_adjacent_cells(*current, algorithm=\"greedy\")\n",
        "                total_branching_factor += len(successors)\n",
        "\n",
        "                for next_cell in successors:\n",
        "                    if next_cell in visited:  # Check if the cell has already been visited\n",
        "                        continue  # Skip to the next iteration if the cell has been visited\n",
        "\n",
        "                    new_cost = cost_so_far[current] + 1  # Assuming each step has a cost of 1\n",
        "                    if next_cell not in cost_so_far or new_cost < cost_so_far[next_cell]:\n",
        "                        cost_so_far[next_cell] = new_cost\n",
        "                        # print(\"Cost of next cell\", cost_so_far[next_cell])\n",
        "                        priority = new_cost + self.heuristic(*next_cell)\n",
        "                        print(\"Priority of next cell\", priority)\n",
        "                        heappush(pq, (priority, next_cell))  # Add the next cell to the priority queue\n",
        "                        came_from[next_cell] = current\n",
        "\n",
        "            # Store the depth of the optimal solution\n",
        "        self.depth_of_solution = depth_of_solution\n",
        "        print(\"Total Branching Factor:\", round(total_branching_factor / total_nodes_expanded))\n",
        "        print(\"Depth of the graph search tree is:\", self.depth_of_solution)\n",
        "            # Optionally, you can return the path and total cost if needed\n",
        "        print(\"Space Complexity for GBFS Search is :\", pq.count)\n",
        "        return list(path), total_cost\n",
        "    \n",
        " \n",
        "\n",
        "    def heuristic(self, row: int, col: int) -> int:\n",
        "        \"\"\"\n",
        "        Calculates heuristic value for a given cell in the grid. Considering\n",
        "        if the adjacent cells are safe, water bodies, or flooded roads\n",
        "\n",
        "        Args:\n",
        "            row (int): The row index of the cell.\n",
        "            col (int): The column index of the cell.\n",
        "\n",
        "        Returns:\n",
        "            int: The heuristic value for the cell.\n",
        "\n",
        "        \"\"\"\n",
        "        score = 0\n",
        "        for dr, dc in [(1, 0), (-1, 0), (0, 1), (0, -1)]:\n",
        "            new_row, new_col = row + dr, col + dc\n",
        "            if 0 <= new_row < self.grid_env.rows and 0 <= new_col < self.grid_env.cols:\n",
        "                if self.grid_env.grid[new_row][new_col] == '.':\n",
        "                    score += 5  # Add 5 points for adjacent safe places\n",
        "                elif self.grid_env.grid[new_row][new_col] == '#':\n",
        "                    score -= 5  # Deduct 5 points for adjacent water bodies\n",
        "                elif self.grid_env.grid[new_row][new_col] == 'F':\n",
        "                    score -= 3  # Deduct 3 points for flooded roads\n",
        "        return score\n",
        "\n"
      ]
    },
    {
      "cell_type": "markdown",
      "metadata": {
        "id": "KnbdDl6HF7sO"
      },
      "source": [
        "### 3.\tDefinition of Algorithm 2 (Mention the Name of the algorithm here)"
      ]
    },
    {
      "cell_type": "code",
      "execution_count": null,
      "metadata": {
        "id": "3HYh7-eJF7sP"
      },
      "outputs": [],
      "source": [
        "#Code Block : Function for algorithm 2 implementation\n",
        "import random\n",
        "from abc import ABC\n",
        "\n",
        "class Individual(ABC):\n",
        "    def __init__(self, grid_env: GridEnvironment):\n",
        "        self.individual_type = \"Child\"  # Every individual is a child, until it is a parent\n",
        "        self.grid_env = grid_env\n",
        "        self.path = [tuple(grid_env.start)]\n",
        "        self.fitness = 0\n",
        "\n",
        "        current_pos = grid_env.start\n",
        "        while current_pos != grid_env.goal:\n",
        "            adjacent_cells = grid_env.get_adjacent_cells(*current_pos, algorithm=\"genetic\")\n",
        "            next_pos = random.choice(adjacent_cells)\n",
        "            self.path.append(next_pos)\n",
        "            current_pos = next_pos\n",
        "\n",
        "    def set_path(self, path: list):\n",
        "        self.path = path\n",
        "    \n",
        "    def evaluate_fitness(self):\n",
        "        for pos in self.path:\n",
        "            row, col = pos\n",
        "            if self.grid_env.grid[row][col] == '.':\n",
        "                self.fitness += 5\n",
        "            elif self.grid_env.grid[row][col] == '#':\n",
        "                self.fitness -= 5\n",
        "            elif self.grid_env.grid[row][col] == 'F':\n",
        "                self.fitness -= 3\n",
        "\n",
        "    def mutate(self, mutation_rate: float):\n",
        "        for i in range(1, len(self.path) - 1):\n",
        "            if random.random() < mutation_rate:\n",
        "                adjacent_cells = self.grid_env.get_adjacent_cells(*self.path[i], algorithm=\"genetic\")\n",
        "                self.path[i] = random.choice(adjacent_cells)\n",
        "\n",
        "class GeneticSearchAlgorithm(ISearchAlgorithm):\n",
        "    def __init__(self, grid_env):\n",
        "        self.grid_env: GridEnvironment = grid_env\n",
        "        self.population_size = 10\n",
        "        self.generations = 100\n",
        "        self.mutation_rate = 0.01\n",
        "\n",
        "    def crossover(self, parent1, parent2):\n",
        "        crossover_point = random.randint(1, min(len(parent1.path), len(parent2.path)) - 1)\n",
        "        # Single point crossover\n",
        "        child_path = parent1.path[:crossover_point] + parent2.path[crossover_point:]\n",
        "        \n",
        "        child = Individual(self.grid_env)\n",
        "        child.set_path(child_path)\n",
        "        \n",
        "        return child\n",
        "\n",
        "    @track_time_and_space\n",
        "    def search(self):\n",
        "        population = [Individual(self.grid_env) for _ in range(self.population_size)]\n",
        "\n",
        "        for generation in range(self.generations):\n",
        "            for individual in population:\n",
        "                individual.evaluate_fitness()\n",
        "\n",
        "            population.sort(key=lambda x: x.fitness, reverse=True)\n",
        "\n",
        "            if population[0].fitness == 40:  # Max possible fitness - to be revised later \n",
        "                break\n",
        "\n",
        "            next_generation = population[:2]  # Elitism\n",
        "            while len(next_generation) < self.population_size:\n",
        "                parent1 = random.choice(population[:self.population_size // 2])\n",
        "                parent2 = random.choice(population[:self.population_size // 2])\n",
        "                child = self.crossover(parent1, parent2)\n",
        "                child.mutate(self.mutation_rate)\n",
        "                next_generation.append(child)\n",
        "\n",
        "            population = next_generation\n",
        "\n",
        "        best_individual = population[0]\n",
        "        path = best_individual.path\n",
        "        cost = 0\n",
        "        for pos in path:\n",
        "            row, col = pos\n",
        "            if self.grid_env.grid[row][col] == '.':\n",
        "                cost += 5\n",
        "            elif self.grid_env.grid[row][col] == '#':\n",
        "                cost -= 5\n",
        "            elif self.grid_env.grid[row][col] == 'F':\n",
        "                cost -= 3\n",
        "        return path, cost\n"
      ]
    },
    {
      "cell_type": "markdown",
      "metadata": {
        "id": "LEV2XHccF7sP"
      },
      "source": [
        "### DYNAMIC INPUT"
      ]
    },
    {
      "cell_type": "markdown",
      "metadata": {
        "id": "CylYRo_DF7sP"
      },
      "source": [
        "IMPORTANT : Dynamic Input must be got in this section. Display the possible states to choose from:\n",
        "This is applicable for all the relevent problems as mentioned in the question."
      ]
    },
    {
      "cell_type": "code",
      "execution_count": null,
      "metadata": {
        "id": "Q5t1Lc-wF7sP"
      },
      "outputs": [],
      "source": [
        "#Code Block : Function & call to get inputs (start/end state)\n"
      ]
    },
    {
      "cell_type": "markdown",
      "metadata": {
        "id": "xsfOP81lF7sP"
      },
      "source": [
        "### 4.\tCalling the search algorithms\n",
        "(For bidirectional search in below sections first part can be used as per Hint provided. Under second section other combinations as per Hint or your choice of 2 algorithms can be called .As an analyst suggest suitable approximation in the comparitive analysis section)"
      ]
    },
    {
      "cell_type": "code",
      "execution_count": null,
      "metadata": {},
      "outputs": [],
      "source": [
        "#invoke of algorithm \n",
        "from pprint import pprint\n",
        "\n",
        "from utils.GridGenerator import GridGenerator\n",
        "from utils.GridEnvironment import GridEnvironment\n",
        "from Algorithms.GBFSearchAlgorithm import GBFSearchAlgorithm\n",
        "from Algorithms.GeneticSearchAlgorithm import GeneticSearchAlgorithm\n",
        "\n",
        "class SearchAlgorithmFactory:\n",
        "    @staticmethod\n",
        "    def create_search_algorithm(args, env: GridEnvironment):\n",
        "        if not env:\n",
        "            grid_gen = GridGenerator()\n",
        "            grid_gen.generate_grid()\n",
        "            env = GridEnvironment(grid_gen.grid, args.display)\n",
        "\n",
        "        if args.display:\n",
        "            pprint(env.grid) # Print the grid\n",
        "\n",
        "        if args.gbfs:\n",
        "            return GBFSearchAlgorithm(env)\n",
        "        elif args.genetic:\n",
        "            return GeneticSearchAlgorithm(env)\n",
        "        else:\n",
        "            print(\"Please select an algorithm to run. Use -h for help.\")\n",
        "            return\n"
      ]
    },
    {
      "cell_type": "code",
      "execution_count": null,
      "metadata": {
        "id": "Og5zI9thF7sP"
      },
      "outputs": [],
      "source": [
        "#Invoke algorithm 1 (Should Print the solution, path, cost etc., (As mentioned in the problem))\n",
        "import argparse\n",
        "from pprint import pprint\n",
        "from datetime import datetime\n",
        "\n",
        "from utils.GridGenerator import GridGenerator\n",
        "from utils.GridEnvironment import GridEnvironment\n",
        "from utils.PersistPerformance import PersistPerformance\n",
        "from utils.PlotPerformance import PlotPerformance\n",
        "from Algorithms.GBFSearchAlgorithm import GBFSearchAlgorithm\n",
        "from Algorithms.GeneticSearchAlgorithm import GeneticSearchAlgorithm\n",
        "from Algorithms.SearchAlgorithmFactory import SearchAlgorithmFactory\n",
        "\n",
        "def main():\n",
        "    \"\"\"\n",
        "    This script runs a search algorithm on a grid environment.\n",
        "\n",
        "    Usage:\n",
        "        python main.py [-a | -b] [-d]\n",
        "\n",
        "    Options:\n",
        "        -a, --genetic   Run Genetic Algorithm\n",
        "        -b, --gbfs      Run Greedy Best First Search\n",
        "        -d, --display   Display grid\n",
        "\n",
        "    Example:\n",
        "        python main.py          ## Run both Genetic Algorithm and Greedy Best First Search\n",
        "        python main.py -b -d    ## Run Greedy Best First Search\n",
        "        python main.py -a       ## Run Genetic Algorithm\n",
        "    \"\"\"\n",
        "\n",
        "    parser = argparse.ArgumentParser()\n",
        "    group = parser.add_mutually_exclusive_group()\n",
        "    group.add_argument(\"-a\", \"--genetic\", action=\"store_true\", help=\"Run Genetic Algorithm\")\n",
        "    group.add_argument(\"-b\", \"--gbfs\", action=\"store_true\", help=\"Run Greedy Best First Search\")\n",
        "    parser.add_argument(\"-d\", \"--display\", action=\"store_true\", help=\"Display grid\")\n",
        "    args = parser.parse_args()\n",
        "\n",
        "    dt_now = datetime.now()\n",
        "\n",
        "    if(args.genetic == False) and (args.gbfs == False):\n",
        "        print(\"Running both Genetic Algorithm and Greedy Best First Search\")\n",
        "\n",
        "        args.gbfs = True\n",
        "        gbfs = SearchAlgorithmFactory.create_search_algorithm(args, None)\n",
        "        gbfs_results, gbfs_etime, gbfs_emem = gbfs.search()\n",
        "        gbfs_path = gbfs_results[0]\n",
        "        gbfs_cost = gbfs_results[1]\n",
        "\n",
        "        print(\"Path taken by the agent using Greedy Best First Search:\", gbfs_path)\n",
        "        print(\"Total path cost using Greedy Best First Search:\", gbfs_cost)\n",
        "        args.gbfs = False\n",
        "\n",
        "        pp_gbfs = PersistPerformance(\n",
        "            date_time=dt_now,\n",
        "            execution_time=gbfs_etime,\n",
        "            memory_usage=gbfs_emem,\n",
        "            grid_shape=(gbfs.grid_env.rows, gbfs.grid_env.cols),\n",
        "            start=gbfs.grid_env.start,\n",
        "            goal=gbfs.grid_env.goal,\n",
        "            algorithm=\"Greedy Best First Search\"\n",
        "        )\n",
        "        # pp_gbfs.persist()\n",
        "        pprint(pp_gbfs)\n",
        "\n",
        "        args.genetic = True\n",
        "        genetic_search = SearchAlgorithmFactory.create_search_algorithm(args, gbfs.grid_env.grid)\n",
        "        gs_results, gs_etime, gs_emem = genetic_search.search()\n",
        "        gs_path = gs_results[0]\n",
        "        gs_cost = gs_results[1]\n",
        "\n",
        "        print(\"Path taken by the agent using Genetic Algorithm:\", gs_path)\n",
        "        print(\"Total path cost using Genetic Algorithm:\", gs_cost)\n",
        "\n",
        "        pp_gs = PersistPerformance(\n",
        "            date_time=dt_now,\n",
        "            execution_time=gs_etime,\n",
        "            memory_usage=gs_emem,\n",
        "            grid_shape=(genetic_search.grid_env.rows, genetic_search.grid_env.cols),\n",
        "            start=genetic_search.grid_env.start,\n",
        "            goal=genetic_search.grid_env.goal,\n",
        "            algorithm=\"Genetic Search\"\n",
        "        )\n",
        "        # pp_gs.persist()\n",
        "        pprint(pp_gs)\n",
        "\n",
        "\n",
        "    else:\n",
        "        search_algorithm = SearchAlgorithmFactory.create_search_algorithm(args, None)\n",
        "        \n",
        "        search_results, etime, emem = search_algorithm.search()\n",
        "        path = search_results[0]\n",
        "        cost = search_results[1]\n",
        "\n",
        "        print(\"Path taken by the agent:\", path)\n",
        "        print(\"Total path cost:\", cost)\n",
        "\n",
        "        pp = PersistPerformance(\n",
        "            date_time=dt_now,\n",
        "            execution_time=etime,\n",
        "            memory_usage=emem,\n",
        "            grid_shape=(search_algorithm.grid_env.rows, search_algorithm.grid_env.cols),\n",
        "            start=(0, 0),\n",
        "            goal=(7, 7),\n",
        "            algorithm=\"Genetic Search\" if args.genetic else \"Greedy Best First Search\"\n",
        "        )\n",
        "        pp.persist()\n",
        "\n",
        "        gbfs_records = pp.fetch_by(\"algorithm\", \"Greedy Best First Search\")\n",
        "\n",
        "        grid_size_list = []\n",
        "        exe_time_list = []\n",
        "        mem_con_list = []\n",
        "\n",
        "        for data in gbfs_records:\n",
        "            for key, value in data.items():\n",
        "                if key == \"grid_size\":\n",
        "                    grid_size_list.append(value[0])\n",
        "                elif key == \"execution_time\":\n",
        "                    exe_time_list.append(value)\n",
        "                elif key == \"memory_usage\":\n",
        "                    mem_con_list.append(value)\n",
        "\n",
        "        # Create an instance of PlotPerformance\n",
        "        plot_instance = PlotPerformance(gridSize=grid_size_list, timeConsumed=exe_time_list, memoryConsumed=mem_con_list)\n",
        "\n",
        "        # Call the plot method\n",
        "        plot_instance.plot()\n",
        "    \n",
        "\n",
        "if __name__ == \"__main__\":\n",
        "    main()\n",
        "\n",
        "\n",
        "#invoke of algorithm \n",
        "python main.py -b -d "
      ]
    },
    {
      "cell_type": "code",
      "execution_count": null,
      "metadata": {
        "id": "u3MJeA6eF7sP"
      },
      "outputs": [],
      "source": [
        "#Invoke algorithm 2 (Should Print the solution, path, cost etc., (As mentioned in the problem))\n",
        "#invoke of algorithm \n",
        "python main.py -a -d "
      ]
    },
    {
      "cell_type": "markdown",
      "metadata": {
        "id": "TOU3Rem6F7sQ"
      },
      "source": [
        "### 5.\tComparitive Analysis"
      ]
    },
    {
      "cell_type": "code",
      "execution_count": null,
      "metadata": {
        "id": "HG6fWwiIF7sQ"
      },
      "outputs": [],
      "source": [
        "#Code Block : Print the Time & Space complexity of algorithm 1"
      ]
    },
    {
      "cell_type": "code",
      "execution_count": null,
      "metadata": {
        "id": "xMButLKCF7sQ"
      },
      "outputs": [],
      "source": [
        "#Code Block : Print the Time & Space complexity of algorithm 2"
      ]
    },
    {
      "cell_type": "markdown",
      "metadata": {
        "id": "y2nXwAlsF7sQ"
      },
      "source": [
        "### 6.\tProvide your comparitive analysis or findings in no more than 3 lines in below section"
      ]
    },
    {
      "cell_type": "markdown",
      "metadata": {
        "id": "si483-zoF7sQ"
      },
      "source": [
        "Comparison : _______________________________________________\n",
        "\n",
        "________________________________________________________\n",
        "\n",
        "_________________________________________________________"
      ]
    }
  ],
  "metadata": {
    "colab": {
      "provenance": []
    },
    "kernelspec": {
      "display_name": "Python 3",
      "language": "python",
      "name": "python3"
    },
    "language_info": {
      "codemirror_mode": {
        "name": "ipython",
        "version": 3
      },
      "file_extension": ".py",
      "mimetype": "text/x-python",
      "name": "python",
      "nbconvert_exporter": "python",
      "pygments_lexer": "ipython3",
      "version": "3.12.2"
    }
  },
  "nbformat": 4,
  "nbformat_minor": 0
}
