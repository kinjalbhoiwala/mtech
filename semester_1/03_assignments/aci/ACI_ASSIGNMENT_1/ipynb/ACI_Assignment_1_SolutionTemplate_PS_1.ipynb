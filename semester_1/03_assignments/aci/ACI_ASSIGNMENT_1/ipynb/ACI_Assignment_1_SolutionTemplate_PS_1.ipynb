{
  "cells": [
    {
      "cell_type": "markdown",
      "metadata": {
        "colab_type": "text",
        "id": "view-in-github"
      },
      "source": [
        "<a href=\"https://colab.research.google.com/github/vatsaaa/mtech/blob/main/semester_1/03_assignments/aci/ACI_ASSIGNMENT_1/ipynb/ACI_Assignment_1_SolutionTemplate_PS_1.ipynb\" target=\"_parent\"><img src=\"https://colab.research.google.com/assets/colab-badge.svg\" alt=\"Open In Colab\"/></a>"
      ]
    },
    {
      "cell_type": "markdown",
      "metadata": {
        "id": "MzZ4dJQYF7sH"
      },
      "source": [
        "# Artificial and Computational Intelligence Assignment 1"
      ]
    },
    {
      "cell_type": "markdown",
      "metadata": {
        "id": "Fxb1aE9zF7sK"
      },
      "source": [
        "## Problem solving by Uninformed & Informed Search"
      ]
    },
    {
      "cell_type": "markdown",
      "metadata": {
        "id": "h35jIBbCF7sK"
      },
      "source": [
        "List only the BITS (Name) of active contributors in this assignment:\n",
        "1. [G. Ankur Vatsa](mailto:2023aa05727@wilp.bits-pilani.ac.in)\n",
        "2. [NIDASANAMETLA SREE SITAMAHALAKSHMI](mailto:2023aa05716@wilp.bits-pilani.ac.in)\n",
        "3. [PRASENJIT SAMANTA](mailto:2023aa05256@wilp.bits-pilani.ac.in)\n",
        "4. [RANDHAWANE SANTOSH BABAN](2023aa05828@wilp.bits-pilani.ac.in)\n",
        "5. [VEDAGIRI SAI KRISHNA](mailto:2023aa05348@wilp.bits-pilani.ac.in)"
      ]
    },
    {
      "cell_type": "markdown",
      "metadata": {
        "id": "pt5ygv_zF7sL"
      },
      "source": [
        "Things to follow\n",
        "1.\tUse appropriate data structures to represent the graph and the path using python libraries\n",
        "2.\tProvide proper documentation\n",
        "3.\tFind the path and print it"
      ]
    },
    {
      "cell_type": "markdown",
      "metadata": {
        "id": "RYwJPNLIF7sM"
      },
      "source": [
        "\n",
        "<h3>Grid Navigation Agent<h3>\n",
        "<h4>Problem statement<h4> \n",
        "Assume you are in your office in Nellore in Andhra Pradesh. The city is facing heavy rains due to Cyclone Michaung. Most of the areas are inundated with water. You need to reach home safely. You have a navigation agent which you can use to find the safe routes without water. The agent is fed with the map of the city marked with areas of flood. The agent has to find the route that is the safest to take you home by choosing the next grid considering different factors. 5 points to be added each time the agent passes adjacent (Up, Down, Left, Right) safe places and 5 points to be deducted while the agent passes near water bodies and 3 points to be deducted if roads in the area are flooded with water. \n",
        "The following figure gives the initial grid positions. The desired solution must have maximum points but must have travelled through less number of squares. The environment is fully observable. The agent travels on empty cells and the water bodies and flooded areas are marked as blockades. You cannot travel through them, but can travel adjacent to these cells. No diagonal movements are allowed. \n",
        "Initial Board configuration <BR>\n",
        "<img src=\"grid.png\"/>\n",
        " \n",
        "\n"
      ]
    },
    {
      "cell_type": "markdown",
      "metadata": {
        "id": "XJ3cHp1IF7sM"
      },
      "source": [
        "<h3>Grid Navigation Agent PEAS</h3>\n",
        "<table border =1 cellspacing=0 cellpadding=0>\n",
        "<tr>\n",
        "<td>Performance<td>Find shortest route without water\n",
        "</tr>\n",
        "<tr>\n",
        "<td>Environments<td>Navigation Agent’s current position in grid\n",
        "<BR>City map\n",
        "<BR>Road\n",
        "<BR>Location of flood areas\n",
        "<BR>Goal/home location\n",
        "<BR>Info of neighbouring cells (safe/unsafe)\n",
        "</tr>\n",
        "<tr>\n",
        "<td>Sensors<td>Detect flood area and safe cell\n",
        "</tr>\n",
        "<tr>\n",
        "<td>Actuators<td>Agent allowed movements.\n",
        "<BR>Move Left, Move Right, Move Up, Move Down\n",
        "</tr>\n",
        "</table>\n",
        "<h3>Design the agent as PSA Agent(Problem Solving Agent)</h3>\n",
        "<table border =1 cellspacing=0 cellpadding=0>\n",
        "  <thead>\n",
        "    <tr>\n",
        "      <th>Task Environment</th>\n",
        "      <th>Algorithm</th>\n",
        "      <th>Fully vs Partially Observable</th>\n",
        "      <th>Single vs Multi-Agent</th>\n",
        "      <th>Deterministic vs Stochastic</th>\n",
        "      <th>Episodic vs Sequential</th>\n",
        "      <th>Static vs Dynamic</th>\n",
        "      <th>Discrete vs Continuous</th>\n",
        "    </tr>\n",
        "  </thead>\n",
        "  <tbody>\n",
        "    <tr>\n",
        "      <td>Grid Navigation</td>\n",
        "      <td>GBFS</td>\n",
        "      <td>Fully</td>\n",
        "      <td>Single</td>\n",
        "      <td>Deterministic</td>\n",
        "      <td>Episodic</td>\n",
        "      <td>Static</td>\n",
        "      <td>Discrete</td>\n",
        "    </tr>\n",
        "    <tr>\n",
        "      <td>Dynamic Grid Navigation</td>\n",
        "      <td>GBFS</td>\n",
        "      <td>Fully</td>\n",
        "      <td>Single</td>\n",
        "      <td>Deterministic</td>\n",
        "      <td>Episodic</td>\n",
        "      <td>Dynamic</td>\n",
        "      <td>Discrete</td>\n",
        "    </tr>\n",
        "    <tr>\n",
        "      <td>Grid Navigation</td>\n",
        "      <td>Genetic</td>\n",
        "      <td>Fully</td>\n",
        "      <td>Single</td>\n",
        "      <td>Deterministic</td>\n",
        "      <td>Episodic</td>\n",
        "      <td>Static</td>\n",
        "      <td>Discrete</td>\n",
        "    </tr>\n",
        "    <tr>\n",
        "      <td>Dynamic Grid Navigation</td>\n",
        "      <td>Genetic</td>\n",
        "      <td>Fully</td>\n",
        "      <td>Single</td>\n",
        "      <td>Deterministic</td>\n",
        "      <td>Episodic</td>\n",
        "      <td>Dynamic</td>\n",
        "      <td>Discrete</td>\n",
        "    </tr>\n",
        "  </tbody>\n",
        "</table>\n",
        "<h3>Agent Architecture</h3>\n",
        "<p><b>Goal Based Agent:</b> The agent performs actions based on the GOAL node location with the help of utility values like path cost and heuristic values.</p>\n",
        "<img src=\"agent_architecture.png\"/><BR>\n",
        "<h1>PSA: Problem Solving Agent using Informed Search</h1><BR>\n",
        "<img src=\"PSA.png\"/><BR>\n",
        "<h3>Goal Formulation</h3>\n",
        "<ul>\n",
        "  <li><b>Objective/goal/home:</b> Optimistic shortest route</li>\n",
        "</ul>\n",
        "\n",
        "<h3>Problem Formulation</h3>\n",
        "<ul>\n",
        "  <li><b>AI agent action selection:</b> Based on environment and sensors to reach goal/home.</li>\n",
        "</ul>\n",
        "\n",
        "<h3>Search Phase</h3>\n",
        "<p>This phase involves looking for a sequence of search actions and states.</p>\n",
        "<ul>\n",
        "  <li><b>Algorithms used:</b>\n",
        "    <ul>\n",
        "      <li>GBFS algorithm to find the optimistic shortest path.</li>\n",
        "      <li>Genetic algorithm to find alternative paths.</li>\n",
        "    </ul>\n",
        "  </li>\n",
        "  <li><b>Goals:</b>\n",
        "    <ul>\n",
        "      <li>Find all possible paths to reach the goal/home.</li>\n",
        "      <li>Prioritize paths based on the nature of the algorithm and utility values (heuristic value, path cost, penalty, etc.).</li>\n",
        "    </ul>\n",
        "  </li>\n",
        "</ul>\n",
        "\n",
        "<h3>Execution Phase</h3>\n",
        "<p>This phase involves implementing the AI agent and comparing the results of both algorithms.</p>\n",
        "<ul>\n",
        "  <li><b>Implementation:</b> AI agent using GBFS and genetic algorithms.</li>\n",
        "  <li><b>Path derivation:</b> Generate paths for the navigation agent.</li>\n",
        "  <li><b>Comparison:</b>\n",
        "    <ul>\n",
        "      <li>Compare path cost from both search algorithms.</li>\n",
        "      <li>Compare time and space complexity.</li>\n",
        "    </ul>\n",
        "  </li>\n",
        "  <li><b>Additional analysis:</b> Perform multiple searches on an expanded grid and compare results.</li>\n",
        "</ul>\n",
        "<BR>\n",
        "<h3>Heuristic Calculation Steps</h3>\n",
        "\n",
        "<p>The heuristic value indicates the desirability of a cell from the current agent's perspective. Higher scores (positive) signify more attractive cells, potentially closer to the goal or offering safe passage. Conversely, lower scores (negative) represent less desirable cells, like water obstacles or risky flooded roads.</p>\n",
        "\n",
        "<h3>Calculation Process</h3>\n",
        "\n",
        "<ol>\n",
        "<li><strong>Initialize score:</strong> Start with a score of 0 for each heuristic calculation.</li>\n",
        "<li><strong>Loop through neighbors:</strong> Iterate through all possible directions (left, right, up, and down) and check for safe neighbors.</li>\n",
        "<li><strong>Neighbor evaluation:</strong>\n",
        "<ul>\n",
        "<li><strong>Safe Space (.):</strong> Adds 5 points to the score.</li>\n",
        "<li><strong>Water Body (#):</strong> Subtracts 5 points from the score.</li>\n",
        "<li><strong>Flooded Road (F):</strong> Subtracts 3 points from the score.</li>\n",
        "</ul>\n",
        "</li>\n",
        "</ol> \n"
      ]
    },
    {
      "cell_type": "code",
      "execution_count": 54,
      "metadata": {
        "id": "osp61RsLF7sN"
      },
      "outputs": [],
      "source": [
        "#Code Block : Set Initial State (Must handle dynamic inputs)\n",
        "class GridGenerator:\n",
        "    def __init__(self):\n",
        "        self.grid = [\n",
        "            ['.', '.', '.', '.', '#', '#', '.', '.'],\n",
        "            ['.', 'F', 'F', '.', '.', '.', '.', 'F'],\n",
        "            ['.', '.', '.', '.', '.', '.', '.', '.'],\n",
        "            ['#', '#', '.', 'F', '.', '.', '.', '.'],\n",
        "            ['.', 'F', '.', '.', '.', '.', '#', '#'],\n",
        "            ['.', '.', '.', 'F', '.', '.', '.', '.'],\n",
        "            ['.', '#', '#', '.', '.', 'F', '.', '.'],\n",
        "            ['.', '.', '.', '.', '.', 'F', '.', '.']\n",
        "        ]\n",
        "\n",
        "    def generate_grid(self):\n",
        "        def set_position(position, symbol):\n",
        "            row, col = position\n",
        "            if row < 0 or row > len(self.grid) or col < 0 or col > len(self.grid[0]):\n",
        "                return None, \"Please enter rows position between 0 to {rows} and columns between 0 to {cols}\".format(rows=len(self.grid - 1), cols=len(self.grid[0] - 1))\n",
        "\n",
        "            if self.grid[row][col] == '#':\n",
        "                self.print_grid()\n",
        "                return None, f\"Invalid {symbol} position! This cell is occupied by a water body ('#').\"\n",
        "\n",
        "            if self.grid[row][col] == 'F':\n",
        "                self.print_grid()\n",
        "                return None, f\"Invalid {symbol} position! This cell is flooded ('F').\"\n",
        "\n",
        "            if self.grid[row][col] == 'S':\n",
        "                self.print_grid()\n",
        "                return None, f\"Invalid {symbol} position! The start and the Goal position cannot be same.\"\n",
        "\n",
        "            self.grid[row][col] = symbol\n",
        "\n",
        "            return self.grid, None\n",
        "\n",
        "        # Start position input and validation\n",
        "        while True:\n",
        "            start_input = input(\"\\nEnter the start position (row,col): \")\n",
        "            start_row, start_col = map(int, start_input.split(','))\n",
        "            grid_with_start, error_message = set_position((start_row, start_col), 'S')\n",
        "            if error_message:\n",
        "                print(error_message)\n",
        "            else:\n",
        "                break\n",
        "\n",
        "        # Goal position input and validation\n",
        "        while True:\n",
        "            goal_input = input(\"\\nEnter the goal position (row,col): \")\n",
        "            goal_row, goal_col = map(int, goal_input.split(','))\n",
        "            grid_with_goal, error_message = set_position((goal_row, goal_col), 'G')\n",
        "            if error_message:\n",
        "                print(error_message)\n",
        "            else:\n",
        "                break\n",
        "\n",
        "        # Print final grid with start and goal positions\n",
        "        print(\"\\nFinal grid with start and goal positions:\")\n",
        "        self.print_grid()\n",
        "\n",
        "    def print_grid(self):\n",
        "        for row in self.grid:\n",
        "            print(' '.join(row))\n"
      ]
    },
    {
      "cell_type": "code",
      "execution_count": 25,
      "metadata": {
        "id": "9plh2dYc-BXd"
      },
      "outputs": [],
      "source": [
        "from abc import ABC, abstractmethod\n",
        "## Do not need to import GridEnvironment in ipynb, hence commented below line\n",
        "# from utils.GridEnvironment import GridEnvironment \n",
        "\n",
        "class ISearchAlgorithm(ABC):\n",
        "    def __init__(self, grid_env: GridEnvironment) -> None:\n",
        "        super().__init__()\n",
        "    \n",
        "    @abstractmethod\n",
        "    def search(self):\n",
        "        pass\n",
        "\n",
        "    def heuristic(self, row: int, col: int):\n",
        "        pass"
      ]
    },
    {
      "cell_type": "code",
      "execution_count": null,
      "metadata": {
        "id": "XODwoWZ0F7sO"
      },
      "outputs": [],
      "source": [
        "#Code Block : Set the matrix for transition & cost (as relevant for the given problem)\n",
        "import time\n",
        "import platform\n",
        "\n",
        "if platform.system() == \"Windows\":\n",
        "    import psutil\n",
        "elif platform.system() == \"Darwin\" or platform.system() == \"Linux\":\n",
        "    import resource\n",
        "\n",
        "if platform.system() == \"Windows\":\n",
        "    def track_time_and_space(func):\n",
        "        def wrapper(*args, **kwargs):\n",
        "            start_time = time.time()\n",
        "            start_memory = psutil.Process().memory_info().rss \n",
        "\n",
        "            result = func(*args, **kwargs)\n",
        "            \n",
        "            end_time = time.time()\n",
        "            end_memory = psutil.Process().memory_info().rss\n",
        "\n",
        "            print(platform.system(), start_memory, end_memory)\n",
        "\n",
        "            execution_time = end_time - start_time\n",
        "            memory_usage = (end_memory - start_memory) / 1024  # Convert to kilobytes\n",
        "\n",
        "            print(f\"Execution time: {execution_time} seconds\")\n",
        "            print(f\"Memory usage: {memory_usage} KB\")\n",
        "\n",
        "            return result, execution_time, memory_usage\n",
        "\n",
        "        return wrapper\n",
        "else:\n",
        "    def track_time_and_space(func):\n",
        "        def wrapper(*args, **kwargs):\n",
        "            start_time = time.time()\n",
        "            start_memory = resource.getrusage(resource.RUSAGE_SELF).ru_maxrss\n",
        "\n",
        "            result = func(*args, **kwargs)\n",
        "            \n",
        "            end_time = time.time()\n",
        "            end_memory = resource.getrusage(resource.RUSAGE_SELF).ru_maxrss\n",
        "\n",
        "            execution_time = end_time - start_time\n",
        "            memory_usage = (end_memory - start_memory) / 1024  # Convert to kilobytes\n",
        "\n",
        "            print(f\"Execution time: {execution_time} seconds\")\n",
        "            print(f\"Memory usage: {memory_usage} KB\")\n",
        "\n",
        "            return result, execution_time, memory_usage\n",
        "        \n",
        "        return wrapper\n"
      ]
    },
    {
      "cell_type": "code",
      "execution_count": null,
      "metadata": {
        "id": "ro24Gaj7F7sO"
      },
      "outputs": [],
      "source": [
        "#Code Block : Write function to design the Transition Model/Successor function. Ideally this would be called while search algorithms are implemented\n",
        "import matplotlib.pyplot as plt\n",
        "import random\n",
        "import sys\n",
        "\n",
        "class GridEnvironment:\n",
        "    def __init__(self, grid: list[list[str]], display: bool = False):\n",
        "        def find_start_and_goal():\n",
        "            start: tuple = (-1, -1)\n",
        "            goal: tuple = (-1, -1)\n",
        "            for i in range(self.rows):\n",
        "                for j in range(self.cols):\n",
        "                    if self.grid[i][j] == 'S':\n",
        "                        start = tuple((i, j))\n",
        "                    elif self.grid[i][j] == 'G':\n",
        "                        goal = tuple((i, j))\n",
        "            print(\"Start {start}, Goal {goal}:\".format(start=start, goal=goal))\n",
        "            return start, goal\n",
        "\n",
        "        self.grid = grid\n",
        "        self.rows = len(self.grid)\n",
        "        self.cols = len(self.grid[0])\n",
        "        self.display = display\n",
        "        self.start, self.goal = find_start_and_goal()\n",
        "\n",
        "    def visualize(self, path):\n",
        "         # Define colors for different elements\n",
        "        colors = {'S': 'green', '.': 'white', '#': 'black', 'F': 'red', 'G': 'blue'}\n",
        "        # Create a plot\n",
        "        fig, ax = plt.subplots()\n",
        "\n",
        "        # Plot each element with specified colors      \n",
        "        for i in range(self.rows):\n",
        "            for j in range(self.cols):\n",
        "                ax.text(i, j, self.grid[i][j], ha='center', va='center', color=colors[self.grid[i][j]])\n",
        "\n",
        "        # Customize ticks\n",
        "        ax.set_xticks(range(len(self.grid[0])))\n",
        "        ax.set_yticks(range(len(self.grid)))\n",
        "        ax.set_xticklabels([])\n",
        "        ax.set_yticklabels([])\n",
        "        \n",
        "        plt.title('S - Start, G - Goal')\n",
        "        plt.xlabel('# - Water Bodies')\n",
        "        plt.ylabel('F - Flooded Roads')\n",
        "\n",
        "        # Add grid lines\n",
        "        ax.grid(True, which='both', color='black', linewidth=1.5, linestyle='-', alpha=0.3)\n",
        "        \n",
        "        col = ['red', 'green', 'blue', 'cyan', 'magenta', 'orange', 'purple']\n",
        "        colors = [col[random.randint(0, 6)] for _ in range(sys.getsizeof(path)-1)]\n",
        "        X, Y = zip(*path)\n",
        "        \n",
        "        # Plot the path with different colors for each segment\n",
        "        for i in range(sys.getsizeof(path)-1):\n",
        "            plt.plot(X[i:i+2], Y[i:i+2], color=colors[i])\n",
        "        \n",
        "        # plt.plot(*zip(*path), marker='o', color='red', label='Path')\n",
        "        # plt.scatter(*path[0], marker='o', color='green', label='Start')\n",
        "        # plt.scatter(*path[-1], marker='o', color='blue', label='Goal')\n",
        "        \n",
        "        plt.legend()\n",
        "        plt.show()\n",
        "\n",
        "    def is_valid_move(self, row, col):\n",
        "        return (\n",
        "            0 <= row < self.rows \n",
        "            and 0 <= col < self.cols \n",
        "            and self.grid[row][col] != '#' \n",
        "            and self.grid[row][col] != 'F'\n",
        "        )\n",
        "\n",
        "    def get_adjacent_cells(self, row, col, algorithm=None):\n",
        "        directions = [(1, 0), (-1, 0), (0, 1), (0, -1)] #degrees of freedom - need to revise by prasnejit\n",
        "        adjacent_cells = [] # Return empty list of adjacent cells if all moves are invalid\n",
        "        for dr, dc in directions:\n",
        "            new_row, new_col = row + dr, col + dc\n",
        "            if self.is_valid_move(new_row, new_col):\n",
        "                if algorithm == \"greedy\" and self.display:\n",
        "                    print(\" The move is valid for this %d and %d\" % (new_row, new_col))\n",
        "                adjacent_cells.append(tuple((new_row, new_col)))\n",
        "        return adjacent_cells\n",
        "    \n",
        "    def goal_reached(self, row, col):\n",
        "        return (row, col) == self.goal"
      ]
    },
    {
      "cell_type": "code",
      "execution_count": null,
      "metadata": {
        "id": "HIVPhrRWF7sO"
      },
      "outputs": [],
      "source": [
        "#Code block : Write fucntion to handle goal test (Must handle dynamic inputs). Ideally this would be called while search algorithms are implemented\n",
        "def goal_reached(self, row, col):\n",
        "    return (row, col) == self.goal"
      ]
    },
    {
      "cell_type": "markdown",
      "metadata": {
        "id": "Z4QwDeX5F7sO"
      },
      "source": [
        "### 2.\tDefinition of Algorithm 1 (Greedy Best First Search)"
      ]
    },
    {
      "cell_type": "code",
      "execution_count": 26,
      "metadata": {
        "id": "zD_EPCHWF7sO"
      },
      "outputs": [],
      "source": [
        "#Code Block : Function for algorithm 1 implementation\n",
        "from heapq import heappush, heappop\n",
        "from collections import deque\n",
        "from typing import List, Tuple\n",
        "\n",
        "## Do not need to import the project files in ipynb, hence commented below lines\n",
        "# from utils.grid import track_time_and_space\n",
        "# from utils.GridEnvironment import GridEnvironment\n",
        "# from Algorithms.ISearchAlgorithm import ISearchAlgorithm\n",
        "\n",
        "class GBFSearchAlgorithm(ISearchAlgorithm):\n",
        "    \"\"\"\n",
        "    Greedy Best-First Search Algorithm implementation.\n",
        "\n",
        "    This algorithm uses a priority queue to explore the search space based on a heuristic function.\n",
        "    It expands the node with the lowest heuristic value, prioritizing the most promising paths towards the goal.\n",
        "\n",
        "    Attributes:\n",
        "        None\n",
        "\n",
        "    Methods:\n",
        "        search(grid_env: GridEnvironment) -> Tuple[List[Tuple[int, int]], int]:\n",
        "            Performs the greedy best-first search on the given grid environment.\n",
        "\n",
        "        heuristic(row: int, col: int) -> int:\n",
        "            Calculates the heuristic value for a given cell in the grid.\n",
        "\n",
        "        time_complexity() -> str:\n",
        "            Returns the time complexity of the algorithm.\n",
        "\n",
        "        space_complexity() -> str:\n",
        "            Returns the space complexity of the algorithm.\n",
        "\n",
        "    \"\"\"\n",
        "    def __init__(self, grid_env: GridEnvironment) -> None:\n",
        "        super().__init__(grid_env=grid_env)\n",
        "        self.grid_env = grid_env\n",
        "        \n",
        "    @track_time_and_space\n",
        "    def search(self) -> Tuple[List[Tuple[int, int]], int, int]:\n",
        "        \"\"\"\n",
        "        Performs the greedy best-first search on the given grid environment.\n",
        "\n",
        "        Args:\n",
        "            grid_env (GridEnvironment): The grid environment to search in.\n",
        "\n",
        "        Returns:\n",
        "            Tuple[List[Tuple[int, int]], int]: A tuple containing the path taken by the agent and the total path cost.\n",
        "\n",
        "        \"\"\"\n",
        "        start = self.grid_env.start\n",
        "        goal = self.grid_env.goal\n",
        "        visited = set()\n",
        "        pq = [(self.heuristic(*start), start)]\n",
        "        came_from = {}\n",
        "        cost_so_far = {start: 0}  # Store the cost of reaching each cell\n",
        "        self.total_nodes_expanded = 0\n",
        "       \n",
        "        total_branching_factor = 0\n",
        "        depth_of_solution = 0\n",
        "        self.max_pq_size = 0\n",
        "\n",
        "        while pq:\n",
        "                print(\"Open List (Priority Queue):\", pq)\n",
        "                print(\"Closed List (Visited Set):\", visited)\n",
        "                self.max_pq_size = max(self.max_pq_size, len(pq))\n",
        "                priority, current = heappop(pq)  # Pop the item with lowest priority\n",
        "                if current == goal:\n",
        "                    # Reconstruct the path\n",
        "                    path = deque()\n",
        "                    total_cost = cost_so_far[current]\n",
        "                    while current != start:\n",
        "                        path.appendleft(current)\n",
        "                        current = came_from[current]\n",
        "                        depth_of_solution += 1  # Increment depth for each step towards the start node\n",
        "                    path.appendleft(start)\n",
        "                    break  # Exit the loop when the goal node is found\n",
        "                    \n",
        "                visited.add(current)\n",
        "                self.total_nodes_expanded += 1\n",
        "\n",
        "                successors = self.grid_env.get_adjacent_cells(*current, algorithm=\"greedy\")\n",
        "                total_branching_factor += len(successors)\n",
        "\n",
        "                for next_cell in successors:\n",
        "                    if next_cell in visited:  # Check if the cell has already been visited\n",
        "                        continue  # Skip to the next iteration if the cell has been visited\n",
        "\n",
        "                    new_cost = cost_so_far[current] + 1  # Assuming each step has a cost of 1\n",
        "                    if next_cell not in cost_so_far or new_cost < cost_so_far[next_cell]:\n",
        "                        cost_so_far[next_cell] = new_cost\n",
        "                        # print(\"Cost of next cell\", cost_so_far[next_cell])\n",
        "                        priority = new_cost + self.heuristic(*next_cell)\n",
        "                        print(\"Priority of next cell\", priority)\n",
        "                        heappush(pq, (priority, next_cell))  # Add the next cell to the priority queue\n",
        "                        came_from[next_cell] = current\n",
        "\n",
        "            # Store the depth of the optimal solution\n",
        "        self.depth_of_solution = depth_of_solution\n",
        "        avg_branching_factor =  round(total_branching_factor / self.total_nodes_expanded)\n",
        "        print(\"Total Branching Factor:\", avg_branching_factor)\n",
        "        print(\"Depth of the graph search tree is:\", self.depth_of_solution)\n",
        "            # Optionally, you can return the path and total cost if needed\n",
        "        print(\"Toal nodes expanded:\", self.total_nodes_expanded)\n",
        "        time_complexity = self.gbfs_time_complexity(avg_branching_factor, self.depth_of_solution)\n",
        "        print(\"Time Complexity of GBFS:\", time_complexity)\n",
        "        space_complexity = self.gbfs_time_complexity\n",
        "        print(\"Worst case Space Complexity of GBFS:\", space_complexity )\n",
        "        return list(path), total_cost \n",
        "\n",
        "    def heuristic(self, row: int, col: int) -> int:\n",
        "        \"\"\"\n",
        "        Calculates heuristic value for a given cell in the grid. Considering\n",
        "        if the adjacent cells are safe, water bodies, or flooded roads\n",
        "\n",
        "        Args:\n",
        "            row (int): The row index of the cell.\n",
        "            col (int): The column index of the cell.\n",
        "\n",
        "        Returns:\n",
        "            int: The heuristic value for the cell.\n",
        "\n",
        "        \"\"\"\n",
        "        score = 0\n",
        "        for dr, dc in [(1, 0), (-1, 0), (0, 1), (0, -1)]:\n",
        "            new_row, new_col = row + dr, col + dc\n",
        "            if 0 <= new_row < self.grid_env.rows and 0 <= new_col < self.grid_env.cols:\n",
        "                if self.grid_env.grid[new_row][new_col] == '.':\n",
        "                    score += 5  # Add 5 points for adjacent safe places\n",
        "                elif self.grid_env.grid[new_row][new_col] == '#':\n",
        "                    score -= 5  # Deduct 5 points for adjacent water bodies\n",
        "                elif self.grid_env.grid[new_row][new_col] == 'F':\n",
        "                    score -= 3  # Deduct 3 points for flooded roads\n",
        "        return score\n",
        "\n",
        "    def gbfs_time_complexity(branching_factor, depth):\n",
        "    # Time complexity: O(b^d)\n",
        "       return branching_factor ** depth\n",
        "\n",
        "    def gbfs_space_complexity(max_priority_queue_size):\n",
        "    # Space complexity: O(m)\n",
        "       return max_priority_queue_size"
      ]
    },
    {
      "cell_type": "markdown",
      "metadata": {
        "id": "KnbdDl6HF7sO"
      },
      "source": [
        "### 3.\tDefinition of Algorithm 2 (Genetic Search Algorithm)"
      ]
    },
    {
      "cell_type": "code",
      "execution_count": 27,
      "metadata": {
        "id": "3HYh7-eJF7sP"
      },
      "outputs": [],
      "source": [
        "#Code Block : Function for algorithm 2 implementation\n",
        "import random\n",
        "from abc import ABC\n",
        "\n",
        "## Do not need to import the project files in ipynb, hence commented below lines\n",
        "# from utils.grid import track_time_and_space\n",
        "# from utils.GridEnvironment import GridEnvironment\n",
        "# from Algorithms.ISearchAlgorithm import ISearchAlgorithm\n",
        "\n",
        "class Individual(ABC):\n",
        "    def __init__(self, grid_env: GridEnvironment):\n",
        "        self.individual_type = \"Child\"  # Every individual is a child, until it is a parent\n",
        "        self.grid_env = grid_env\n",
        "        self.path = [tuple(grid_env.start)]\n",
        "        self.fitness = 0\n",
        "\n",
        "        current_pos = grid_env.start\n",
        "        while current_pos != grid_env.goal:\n",
        "            adjacent_cells = grid_env.get_adjacent_cells(*current_pos, algorithm=\"genetic\")\n",
        "            next_pos = random.choice(adjacent_cells)\n",
        "            self.path.append(next_pos)\n",
        "            current_pos = next_pos\n",
        "\n",
        "    def set_path(self, path: list):\n",
        "        self.path = path\n",
        "    \n",
        "    def evaluate_fitness(self):\n",
        "        for pos in self.path:\n",
        "            row, col = pos\n",
        "            if self.grid_env.grid[row][col] == '.':\n",
        "                self.fitness += 5\n",
        "            elif self.grid_env.grid[row][col] == '#':\n",
        "                self.fitness -= 5\n",
        "            elif self.grid_env.grid[row][col] == 'F':\n",
        "                self.fitness -= 3\n",
        "\n",
        "    def mutate(self, mutation_rate: float):\n",
        "        for i in range(1, len(self.path) - 1):\n",
        "            if random.random() < mutation_rate:\n",
        "                adjacent_cells = self.grid_env.get_adjacent_cells(*self.path[i], algorithm=\"genetic\")\n",
        "                self.path[i] = random.choice(adjacent_cells)\n",
        "\n",
        "class GeneticSearchAlgorithm(ISearchAlgorithm):\n",
        "    def __init__(self, grid_env: GridEnvironment):\n",
        "        super().__init__(grid_env=grid_env)\n",
        "        self.grid_env = grid_env\n",
        "        \n",
        "        self.population_size = 10\n",
        "        self.generations = 100\n",
        "        self.mutation_rate = 0.01\n",
        "\n",
        "    def crossover(self, parent1, parent2):\n",
        "        crossover_point = random.randint(1, min(len(parent1.path), len(parent2.path)) - 1)\n",
        "        # Single point crossover\n",
        "        child_path = parent1.path[:crossover_point] + parent2.path[crossover_point:]\n",
        "        \n",
        "        child = Individual(self.grid_env)\n",
        "        child.set_path(child_path)\n",
        "        \n",
        "        return child\n",
        "\n",
        "    @track_time_and_space\n",
        "    def search(self):\n",
        "        population = [Individual(self.grid_env) for _ in range(self.population_size)]\n",
        "        self.total_nodes_expanded = 0\n",
        "        for generation in range(self.generations):\n",
        "            for individual in population:\n",
        "                individual.evaluate_fitness()\n",
        "                self.total_nodes_expanded += 1\n",
        "\n",
        "            population.sort(key=lambda x: x.fitness, reverse=True)\n",
        "\n",
        "            if population[0].fitness == 40:  # Max possible fitness - to be revised later \n",
        "                break\n",
        "\n",
        "            next_generation = population[:2]  # Elitism\n",
        "            while len(next_generation) < self.population_size:\n",
        "                parent1 = random.choice(population[:self.population_size // 2])\n",
        "                parent2 = random.choice(population[:self.population_size // 2])\n",
        "                child = self.crossover(parent1, parent2)\n",
        "                child.mutate(self.mutation_rate)\n",
        "                next_generation.append(child)\n",
        "\n",
        "            population = next_generation\n",
        "        print(\"Space Complexity for Genetic Search is :\", self.total_nodes_expanded)\n",
        "        best_individual = population[0]\n",
        "        path = best_individual.path\n",
        "        cost = 0\n",
        "        for pos in path:\n",
        "            row, col = pos\n",
        "            if self.grid_env.grid[row][col] == '.':\n",
        "                cost += 5\n",
        "            elif self.grid_env.grid[row][col] == '#':\n",
        "                cost -= 5\n",
        "            elif self.grid_env.grid[row][col] == 'F':\n",
        "                cost -= 3\n",
        "        return path, cost\n"
      ]
    },
    {
      "cell_type": "code",
      "execution_count": 28,
      "metadata": {
        "id": "KnTCzf_m_b8P"
      },
      "outputs": [],
      "source": [
        "from pprint import pprint\n",
        "\n",
        "## Do not need to import the project files in ipynb, hence commented below lines\n",
        "# from utils.GridGenerator import GridGenerator\n",
        "# from utils.GridEnvironment import GridEnvironment\n",
        "# from Algorithms.GBFSearchAlgorithm import GBFSearchAlgorithm\n",
        "# from Algorithms.GeneticSearchAlgorithm import GeneticSearchAlgorithm\n",
        "\n",
        "class SearchAlgorithmFactory:\n",
        "    @staticmethod\n",
        "    def create_search_algorithm(args, env: GridEnvironment):\n",
        "        if not env:\n",
        "            grid_gen = GridGenerator()\n",
        "            grid_gen.generate_grid()\n",
        "            env = GridEnvironment(grid_gen.grid, args.display)\n",
        "\n",
        "        if args.display:\n",
        "            pprint(env.grid) # Print the grid\n",
        "\n",
        "        if args.gbfs:\n",
        "            return GBFSearchAlgorithm(env)\n",
        "        elif args.genetic:\n",
        "            return GeneticSearchAlgorithm(env)\n",
        "        else:\n",
        "            print(\"Please select an algorithm to run. Use -h for help.\")\n",
        "            return"
      ]
    },
    {
      "cell_type": "markdown",
      "metadata": {
        "id": "LEV2XHccF7sP"
      },
      "source": [
        "### DYNAMIC INPUT"
      ]
    },
    {
      "cell_type": "markdown",
      "metadata": {
        "id": "CylYRo_DF7sP"
      },
      "source": [
        "IMPORTANT : Dynamic Input must be got in this section. Display the possible states to choose from:\n",
        "This is applicable for all the relevent problems as mentioned in the question."
      ]
    },
    {
      "cell_type": "code",
      "execution_count": null,
      "metadata": {
        "id": "Q5t1Lc-wF7sP"
      },
      "outputs": [],
      "source": [
        "#Code Block : Function & call to get inputs (start/end state)\n",
        "import random\n",
        "\n",
        "def dynamic_grid_generator(rows, cols):\n",
        "    total_cells = rows * cols\n",
        "\n",
        "    # Ensure at least 1 'F' obstacle and 1 '#' obstacle\n",
        "    min_f_obstacles = 1\n",
        "    min_hash_obstacles = 1\n",
        "\n",
        "    # Calculate the maximum number of obstacles based on the total number of cells\n",
        "    max_f_obstacles = int(total_cells / 3)  # Maximum 1/3 of cells for 'F' obstacles\n",
        "    max_hash_obstacles = int(total_cells / 3)  # Maximum 1/3 of cells for '#' obstacles\n",
        "\n",
        "    # Randomly choose the number of 'F' and '#' obstacles within the specified range\n",
        "    num_f_obstacles = random.randint(min_f_obstacles, max_f_obstacles)\n",
        "    num_hash_obstacles = random.randint(min_hash_obstacles, max_hash_obstacles)\n",
        "\n",
        "    # Initialize grid with all safe places ('.')\n",
        "    grid = [['.' for _ in range(cols)] for _ in range(rows)]\n",
        "\n",
        "    # Place 'F' obstacles randomly\n",
        "    for _ in range(num_f_obstacles):\n",
        "        row, col = random.randint(0, rows - 1), random.randint(0, cols - 1)\n",
        "        grid[row][col] = 'F'\n",
        "\n",
        "    # Place '#' obstacles randomly\n",
        "    for _ in range(num_hash_obstacles):\n",
        "        row, col = random.randint(0, rows - 1), random.randint(0, cols - 1)\n",
        "        # Ensure the cell is not already occupied and not occupied by 'F' obstacle\n",
        "        while grid[row][col] != '.':\n",
        "            row, col = random.randint(0, rows - 1), random.randint(0, cols - 1)\n",
        "        grid[row][col] = '#'\n",
        "\n",
        "    # Place 'S' (start) position\n",
        "    start_row, start_col = random.randint(0, rows - 1), random.randint(0, cols - 1)\n",
        "    grid[start_row][start_col] = 'S'\n",
        "\n",
        "    # Place 'G' (goal) position\n",
        "    goal_row, goal_col = random.randint(0, rows - 1), random.randint(0, cols - 1)\n",
        "    while (goal_row, goal_col) == (start_row, start_col):\n",
        "        goal_row, goal_col = random.randint(0, rows - 1), random.randint(0, cols - 1)\n",
        "    grid[goal_row][goal_col] = 'G'\n",
        "\n",
        "    return grid\n",
        "\n",
        "# Generate random number of rows and columns (between 1 and 18)\n",
        "rows = cols = random.randint(1, 18)\n",
        "grid = dynamic_grid_generator(rows, cols)\n",
        "\n",
        "# Print the generated grid\n",
        "for row in grid:\n",
        "    print(' '.join(row))\n"
      ]
    },
    {
      "cell_type": "markdown",
      "metadata": {
        "id": "xsfOP81lF7sP"
      },
      "source": [
        "### 4.\tCalling the search algorithms\n",
        "(For bidirectional search in below sections first part can be used as per Hint provided. Under second section other combinations as per Hint or your choice of 2 algorithms can be called .As an analyst suggest suitable approximation in the comparitive analysis section)"
      ]
    },
    {
      "cell_type": "code",
      "execution_count": 55,
      "metadata": {
        "colab": {
          "base_uri": "https://localhost:8080/"
        },
        "id": "Og5zI9thF7sP",
        "outputId": "84f4298b-fb6d-4135-9d9a-7f5ee05a7d6d"
      },
      "outputs": [
        {
          "name": "stdout",
          "output_type": "stream",
          "text": [
            "Start (0, 0), Goal (7, 7):\n",
            "Execution time: 0.000530242919921875 seconds\n",
            "Memory usage: 0.0 KB\n"
          ]
        }
      ],
      "source": [
        "#Invoke algorithm 1 (Should Print the solution, path, cost etc., (As mentioned in the problem))\n",
        "import argparse\n",
        "from pprint import pprint\n",
        "from datetime import datetime\n",
        "\n",
        "parser = argparse.ArgumentParser()\n",
        "args = parser.parse_args()\n",
        "dt_now = datetime.now()\n",
        "args.gbfs = True\n",
        "\n",
        "gbfs = SearchAlgorithmFactory.create_search_algorithm(args, None)\n",
        "gbfs_results, gbfs_etime, gbfs_emem = gbfs.search()\n",
        "gbfs_path = gbfs_results[0]\n",
        "gbfs_cost = gbfs_results[1]\n",
        "\n",
        "print(\"Path taken by the agent using Greedy Best First Search:\", gbfs_path)\n",
        "print(\"Total path cost using Greedy Best First Search:\", gbfs_cost)\n",
        "print(\"Total Memory Usage Greedy Best First Search:\", gbfs.total_nodes_expanded)\n",
        "\n",
        "# TODO: Do we want to persist the results to our MongoDB?"
      ]
    },
    {
      "cell_type": "code",
      "execution_count": 56,
      "metadata": {
        "colab": {
          "base_uri": "https://localhost:8080/",
          "height": 676
        },
        "id": "7L-lLoKECnUm",
        "outputId": "35c866d3-e97c-47b8-a732-2c85b82824df"
      },
      "outputs": [
        {
          "data": {
            "image/png": "[encoded data removed]",
            "text/plain": [
              "<Figure size 800x800 with 1 Axes>"
            ]
          },
          "metadata": {},
          "output_type": "display_data"
        }
      ],
      "source": [
        "gbfs.grid_env.visualize(gbfs_path)"
      ]
    },
    {
      "cell_type": "code",
      "execution_count": 57,
      "metadata": {
        "colab": {
          "base_uri": "https://localhost:8080/"
        },
        "id": "u3MJeA6eF7sP",
        "outputId": "c9e2717f-5248-4244-8eb5-11c5c1e93fc6"
      },
      "outputs": [
        {
          "name": "stdout",
          "output_type": "stream",
          "text": [
            "Execution time: 1.493440866470337 seconds\n",
            "Memory usage: 0.0 KB\n"
          ]
        }
      ],
      "source": [
        "#Invoke algorithm 2 (Should Print the solution, path, cost etc., (As mentioned in the problem))\n",
        "args.genetic = True\n",
        "# Note: Use the grid_env that was created for GBFS, since we want Genetic Search to run on the same grid\n",
        "genetic_search = SearchAlgorithmFactory.create_search_algorithm(args, gbfs.grid_env)\n",
        "gs_results, gs_etime, gs_emem = genetic_search.search()\n",
        "gs_path = gs_results[0]\n",
        "gs_cost = gs_results[1]\n",
        "\n",
        "print(\"Path taken by the agent using Genetic Search Algorithm:\", gs_path)\n",
        "print(\"Total path cost using Genetic Search Algorithm:\", gs_cost)\n",
        "print(\"Total Memory Usage Genetic Search Algorithm:\", genetic_search.total_nodes_expanded)"
      ]
    },
    {
      "cell_type": "code",
      "execution_count": 58,
      "metadata": {
        "colab": {
          "base_uri": "https://localhost:8080/",
          "height": 676
        },
        "id": "cGkyj32_V8VX",
        "outputId": "5ce822ff-9db5-4e75-8f26-eccf4dc8d2e4"
      },
      "outputs": [
        {
          "data": {
            "image/png": "[encoded data removed]",
            "text/plain": [
              "<Figure size 800x800 with 1 Axes>"
            ]
          },
          "metadata": {},
          "output_type": "display_data"
        }
      ],
      "source": [
        "genetic_search.grid_env.visualize(gs_path)"
      ]
    },
    {
      "cell_type": "markdown",
      "metadata": {
        "id": "TOU3Rem6F7sQ"
      },
      "source": [
        "### 5.\tComparitive Analysis"
      ]
    },
    {
      "cell_type": "code",
      "execution_count": null,
      "metadata": {
        "id": "HG6fWwiIF7sQ"
      },
      "outputs": [],
      "source": [
        "#Code Block : Print the Time & Space complexity of GBFS algorithm\n",
        "self.time_complexity = self.gbfs_time_complexity()\n",
        "print(\"Time Complexity of GBFS:\", self.time_complexity)\n",
        "self.space_complexity = self.gbfs_space_complexity()\n",
        "print(\"Worst case Space Complexity of GBFS:\", self.space_complexity)"
      ]
    },
    {
      "cell_type": "code",
      "execution_count": null,
      "metadata": {
        "id": "xMButLKCF7sQ"
      },
      "outputs": [],
      "source": [
        "#Code Block : Print the Time & Space complexity of Genetic algorithm\n",
        "# Time complexity calculation: O(g * n * m)\n",
        "time_complexity = self.generations * self.population_size * average_individual_size\n",
        "print(\"Time Complexity of Genetic Search Algorithm:\", time_complexity)\n",
        "space_complexity = self.population_size * len(population[0].path)\n",
        "print(\"Space Complexity of Genetic Search Algorithm:\", space_complexity)"
      ]
    },
    {
      "cell_type": "markdown",
      "metadata": {
        "id": "y2nXwAlsF7sQ"
      },
      "source": [
        "### 6.\tProvide your comparitive analysis or findings in no more than 3 lines in below section"
      ]
    },
    {
      "cell_type": "markdown",
      "metadata": {
        "id": "si483-zoF7sQ"
      },
      "source": [
        "Comparison : GBFS: Efficiently finds shortest paths but struggles with dead ends caused by blockages. May require restarting from different paths.\n",
        "\n",
        "Genetic Algorithm: Explore diverse paths simultaneously, potentially bypassing dead ends. But finding optimal paths can be slower and require tuning parameters.\n",
        "\n",
        "Conclusion: GBFS is faster for clear paths but gets stuck on blockages. Genetic algorithm handle blockages better but might be slower overall."
      ]
    }
  ],
  "metadata": {
    "colab": {
      "include_colab_link": true,
      "provenance": []
    },
    "kernelspec": {
      "display_name": "Python 3",
      "language": "python",
      "name": "python3"
    },
    "language_info": {
      "codemirror_mode": {
        "name": "ipython",
        "version": 3
      },
      "file_extension": ".py",
      "mimetype": "text/x-python",
      "name": "python",
      "nbconvert_exporter": "python",
      "pygments_lexer": "ipython3",
      "version": "3.7.6"
    }
  },
  "nbformat": 4,
  "nbformat_minor": 0
}
