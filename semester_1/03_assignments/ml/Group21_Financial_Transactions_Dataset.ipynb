{
  "cells": [
    {
      "cell_type": "markdown",
      "metadata": {
        "id": "view-in-github",
        "colab_type": "text"
      },
      "source": [
        "<a href=\"https://colab.research.google.com/github/vatsaaa/mtech/blob/main/semester_1/03_assignments/ml/Group21_Financial_Transactions_Dataset.ipynb\" target=\"_parent\"><img src=\"https://colab.research.google.com/assets/colab-badge.svg\" alt=\"Open In Colab\"/></a>"
      ]
    },
    {
      "cell_type": "markdown",
      "metadata": {
        "id": "a6u71exGEiaf"
      },
      "source": [
        "# Group members\n",
        "<table width=\"100%\">\n",
        "  <tr>\n",
        "    <th width=\"25%\">Name</th>\n",
        "    <th width=\"40%\">Email</th>\n",
        "    <th width=\"20%\">Student ID</th>\n",
        "    <th width=\"15%\">Contribution</th>\n",
        "  </tr>\n",
        "  <tr>\n",
        "    <td>G. Ankur Vatsa</td>\n",
        "    <td>2023aa05727@wilp.bits-pilani.ac.in</td>\n",
        "    <td>2023aa05727</td>\n",
        "    <td>40</td>\n",
        "  </tr>\n",
        "  <tr>\n",
        "    <td>Radhika Joshi</td>\n",
        "    <td>2023aa05976@wilp.bits-pilani.ac.in</td>\n",
        "    <td>2023aa05976</td>\n",
        "    <td>30</td>\n",
        "  </tr>\n",
        "  <tr>\n",
        "    <td>Rajesh Tiwary</td>\n",
        "    <td>2023aa05036@wilp.bits-pilani.ac.in</td>\n",
        "    <td>2023aa05036</td>\n",
        "    <td>0</td>\n",
        "  </tr>\n",
        "  <tr>\n",
        "    <td>Randhawane Santosh Baban</td>\n",
        "    <td>2023aa05828@wilp.bits-pilani.ac.in</td>\n",
        "    <td>2023aa05828</td>\n",
        "    <td>30</td>\n",
        "  </tr>\n",
        "</table>"
      ]
    },
    {
      "cell_type": "markdown",
      "source": [
        "# Assignment Part 1"
      ],
      "metadata": {
        "id": "XPKXxCSLmenY"
      }
    },
    {
      "cell_type": "markdown",
      "source": [
        "## Problem Statement"
      ],
      "metadata": {
        "id": "1aGPsPZvm5c2"
      }
    },
    {
      "cell_type": "markdown",
      "source": [
        "Financial institutions face the constant challenge of detecting fraudulent transactions amidst legitimate ones. Early identification and prevention of such fraudulent activities are crucial for minimizing financial losses and protecting customer trust. The objective is to develop a mathematical model to identify risky transactions using the available features of the **[Financial Transactions Dataset](https://colab.research.google.com/corgiredirector?site=https%3A%2F%2Fdrive.google.com%2Ffile%2Fd%2F1-Rtizhn5EaLei3N3TOvqg4F74PTxtrjc%2Fview%3Fusp%3Dsharing)**."
      ],
      "metadata": {
        "id": "1LmJ3XYfpOhk"
      }
    },
    {
      "cell_type": "markdown",
      "source": [
        "## Solution"
      ],
      "metadata": {
        "id": "gPZL5wFRrOGF"
      }
    },
    {
      "cell_type": "markdown",
      "source": [
        "### Import Libraries and Dataset"
      ],
      "metadata": {
        "id": "aPHGGkAEq7OQ"
      }
    },
    {
      "cell_type": "markdown",
      "metadata": {
        "id": "C0J17F0R4j4F"
      },
      "source": [
        "<table width=\"100%\" align=\"center\">\n",
        "  <tr>\n",
        "    <th width=\"5%\"></th>\n",
        "    <th>Task</th>\n",
        "    <th width=\"10%\">Status</th>\n",
        "  </tr>\n",
        "  <tr>\n",
        "    <td width=\"5%\">1</td>\n",
        "    <td>Download the dataset</td>\n",
        "    <td width=\"10%\"><input type=\"checkbox\" onclick=\"return false\" checked=\"true\"/></td>\n",
        "  </tr>\n",
        "  <tr>\n",
        "    <td width=\"5%\">2</td>\n",
        "    <td>Import the required libraries</td>\n",
        "    <td width=\"10%\"><input type=\"checkbox\" onclick=\"return false\"  checked=\"true\"/></td>\n",
        "  </tr>\n",
        "</table>"
      ]
    },
    {
      "cell_type": "markdown",
      "source": [],
      "metadata": {
        "id": "Gdrf5UpnIUTT"
      }
    },
    {
      "cell_type": "code",
      "source": [
        "# @title Ensure required libraries are installed\n",
        "!pip install -q pandas pyfiglet imblearn matplotlib numpy seaborn tabulate"
      ],
      "metadata": {
        "id": "iUOXUUjQH3M2"
      },
      "execution_count": 362,
      "outputs": []
    },
    {
      "cell_type": "code",
      "source": [
        "# @title Supported runtime: Google Colab\n",
        "import pyfiglet as pf\n",
        "from google.colab import runtime\n",
        "\n",
        "code_str = None\n",
        "in_colab = pf.figlet_format(\"Code  running  in  Google  Colab\")\n",
        "not_in_colab = pf.figlet_format(\"Please run in Google  Colab runtime only!!\")\n",
        "\n",
        "try:\n",
        "    import google.colab\n",
        "    IN_COLAB = True\n",
        "except ImportError:\n",
        "    IN_COLAB = False\n",
        "\n",
        "if IN_COLAB:\n",
        "    print(in_colab)\n",
        "else:\n",
        "    print(not_in_colab)\n",
        "    runtime.unassign()\n"
      ],
      "metadata": {
        "colab": {
          "base_uri": "https://localhost:8080/"
        },
        "id": "_XX8IlAQeH1S",
        "outputId": "a635a7de-4651-4269-b7c2-73068be69b76"
      },
      "execution_count": 363,
      "outputs": [
        {
          "output_type": "stream",
          "name": "stdout",
          "text": [
            "  ____          _                                _                _        \n",
            " / ___|___   __| | ___    _ __ _   _ _ __  _ __ (_)_ __   __ _   (_)_ __   \n",
            "| |   / _ \\ / _` |/ _ \\  | '__| | | | '_ \\| '_ \\| | '_ \\ / _` |  | | '_ \\  \n",
            "| |__| (_) | (_| |  __/  | |  | |_| | | | | | | | | | | | (_| |  | | | | | \n",
            " \\____\\___/ \\__,_|\\___|  |_|   \\__,_|_| |_|_| |_|_|_| |_|\\__, |  |_|_| |_| \n",
            "                                                         |___/             \n",
            "  ____                   _          ____      _       _     \n",
            " / ___| ___   ___   __ _| | ___    / ___|___ | | __ _| |__  \n",
            "| |  _ / _ \\ / _ \\ / _` | |/ _ \\  | |   / _ \\| |/ _` | '_ \\ \n",
            "| |_| | (_) | (_) | (_| | |  __/  | |__| (_) | | (_| | |_) |\n",
            " \\____|\\___/ \\___/ \\__, |_|\\___|   \\____\\___/|_|\\__,_|_.__/ \n",
            "                   |___/                                    \n",
            "\n"
          ]
        }
      ]
    },
    {
      "cell_type": "code",
      "source": [
        "import os, pprint\n",
        "import numpy as np\n",
        "import pandas as pd\n",
        "\n",
        "from matplotlib import pyplot as plt\n",
        "from scipy.stats import skew\n",
        "import seaborn as sns\n",
        "from tabulate import tabulate\n",
        "\n",
        "from sklearn.exceptions import UndefinedMetricWarning\n",
        "import warnings\n",
        "\n",
        "with warnings.catch_warnings():\n",
        "    warnings.simplefilter(\"ignore\", category=UndefinedMetricWarning)\n",
        "    warnings.simplefilter(action='ignore', category=FutureWarning)"
      ],
      "metadata": {
        "id": "yf1OnRb3YCyz"
      },
      "execution_count": 364,
      "outputs": []
    },
    {
      "cell_type": "code",
      "execution_count": 365,
      "metadata": {
        "id": "hrtIBq-LEM9W",
        "colab": {
          "base_uri": "https://localhost:8080/"
        },
        "outputId": "b26581dd-9ab1-4a45-c8a7-a38be4264d69"
      },
      "outputs": [
        {
          "output_type": "stream",
          "name": "stdout",
          "text": [
            "Mounted at /content/drive/\n"
          ]
        }
      ],
      "source": [
        "from google.colab import drive\n",
        "%load_ext google.colab.data_table\n",
        "\n",
        "drive.mount('/content/drive/', force_remount=True)"
      ]
    },
    {
      "cell_type": "code",
      "execution_count": 366,
      "metadata": {
        "id": "jIoKRfFQEQzs",
        "colab": {
          "base_uri": "https://localhost:8080/"
        },
        "outputId": "3355fd14-590f-4170-e0f1-edab21cf56d0"
      },
      "outputs": [
        {
          "name": "stdout",
          "output_type": "stream",
          "text": [
            "Enter fully qualified file location for an accessible file:\n"
          ]
        }
      ],
      "source": [
        "# index_col = 0 avoids creation of \"Unnamed column\"\n",
        "filename = input(\"Enter fully qualified file location for an accessible file:\")\n",
        "if not filename:\n",
        "  filename = '/content/drive/MyDrive/ColabNotebooks/ML/data/Group21_Financial_Transactions_Dataset.csv'\n",
        "\n",
        "df = pd.read_csv(filename, index_col = 0, encoding='utf-8')\n",
        "df.sort_values(by=[\"Date\", \"Time of Day\"], ascending = True, inplace = True)"
      ]
    },
    {
      "cell_type": "code",
      "source": [
        "def plot_class_distribution(y: pd.Series):\n",
        "    plt.figure(figsize=(8, 6))\n",
        "    sns.set_theme(style=\"whitegrid\")\n",
        "    sns.countplot(x=y, palette='viridis', hue=y, legend=False)\n",
        "    plt.title('Class Distribution')\n",
        "    plt.xlabel('Is Fraudulent')\n",
        "    plt.ylabel('Count')\n",
        "    plt.show()\n",
        "\n",
        "def encode_categorical_features(X: pd.DataFrame) -> pd.DataFrame:\n",
        "    # Encode categorical features so that they can be used in the SMOTE algorithm\n",
        "    categorical_features = X.select_dtypes(include=['object']).columns\n",
        "    for feature in categorical_features:\n",
        "        encoder = LabelEncoder()\n",
        "        X[feature] = encoder.fit_transform(X[feature])\n",
        "\n",
        "    return X\n",
        "\n",
        "def check_class_imbalance(df: pd.DataFrame, display_percent=True, display_count=True):\n",
        "    # Separate features (X) from target variable (y)\n",
        "    df['Is Fraudulent'] = df['Is Fraudulent'].map({0: 'No', 1: 'Yes'})\n",
        "    X = df.drop(\"Is Fraudulent\", axis=1)\n",
        "    y = df[\"Is Fraudulent\"]\n",
        "\n",
        "    X = encode_categorical_features(X)\n",
        "\n",
        "    plot_class_distribution(y)\n",
        "\n",
        "    # Display the class distribution percentages\n",
        "    if display_count:\n",
        "        print(\"Class Distribution:\")\n",
        "        print(df['Is Fraudulent'].value_counts())\n",
        "\n",
        "    if display_percent:\n",
        "        print(\"\\nClass Distribution Percentages:\")\n",
        "        print(df['Is Fraudulent'].value_counts(normalize=True) * 100)\n",
        "\n",
        "    # Convert the target variable back to numeric\n",
        "    y = y.map({'No': 0, 'Yes': 1})\n",
        "\n",
        "    # Merge the features and target variable back into a single dataframe\n",
        "    df = pd.concat([X, y], axis=1)\n",
        "\n",
        "    return df\n",
        "\n",
        "\n",
        "def handle_class_imbalance(df: pd.DataFrame) -> pd.DataFrame:\n",
        "    # Separate features (X) from target variable (y)\n",
        "    X = df.drop(\"Is Fraudulent\", axis=1)\n",
        "    y = df[\"Is Fraudulent\"]\n",
        "\n",
        "    X = encode_categorical_features(X)\n",
        "\n",
        "    # Apply SMOTE\n",
        "    smote = SMOTE(random_state=71)\n",
        "    X, y = smote.fit_resample(X, y)\n",
        "\n",
        "    # Display the new class distribution\n",
        "    print(\"New Class Distribution:\")\n",
        "    print(y.value_counts())\n",
        "\n",
        "    plot_class_distribution(y=y)\n",
        "\n",
        "    # Convert the target variable back to numeric\n",
        "    y = y.map({'No': 0, 'Yes': 1})\n",
        "\n",
        "    # Merge the features and target variable back into a single dataframe\n",
        "    df = pd.concat([X, y], axis=1)\n",
        "\n",
        "    return df\n",
        "\n",
        "def correlatioin_analysis(df: pd.DataFrame):\n",
        "    correlation_matrix = df.corr(numeric_only=True)\n",
        "    plt.figure(figsize=(10, 8))\n",
        "    sns.heatmap(correlation_matrix, annot=True, cmap=\"coolwarm\", fmt=\".3f\", linewidths=0.5)\n",
        "    plt.title(\"Correlation Matrix\")\n",
        "    plt.show()\n",
        "\n",
        "def feature_engineering(df: pd.DataFrame):\n",
        "    # Date related nominal features\n",
        "    df['DayOfWeek'] = pd.to_datetime(df['Date']).dt.day_name()\n",
        "    df['Month'] = pd.to_datetime(df['Date']).dt.month_name()\n",
        "\n",
        "    # Time of day looks redundant, so we drop it\n",
        "    df = df.drop(['Date', 'Time of Day'], axis=1)\n",
        "\n",
        "    return df\n",
        "\n",
        "# @title Indentifying Feature Types\n",
        "def get_column_types(dframe: pd.DataFrame):\n",
        "    all_features = dframe.columns\n",
        "    op_features = [\"Is Fraudulent\"]\n",
        "    numeric_features = list(set(dframe._get_numeric_data().columns) - set(op_features))\n",
        "    nominal_and_ordinal_features = list(set(all_features) - set(numeric_features) - set(op_features))\n",
        "    ordinal_only_features = list([\"Merchant Reputation\", 'Online Transactions Frequency'])\n",
        "    nominal_only_features = list(set(nominal_and_ordinal_features) - set(ordinal_only_features))\n",
        "\n",
        "    return {\n",
        "      \"numeric_features\": numeric_features,\n",
        "      \"nominal_only_features\": nominal_only_features,\n",
        "      \"ordinal_only_features\": ordinal_only_features,\n",
        "      \"nominal_and_ordinal_features\": nominal_and_ordinal_features,\n",
        "      \"output_features\": op_features\n",
        "    }\n",
        "\n",
        "def get_ig_for_features(df: pd.DataFrame):\n",
        "    X = df.drop(['Is Fraudulent'], axis=1)\n",
        "    y = df['Is Fraudulent']\n",
        "\n",
        "    # Encode categorical features\n",
        "    categorical_features = X.select_dtypes(include=['object']).columns\n",
        "    for feature in categorical_features:\n",
        "        encoder = LabelEncoder()\n",
        "        X[feature] = encoder.fit_transform(X[feature])\n",
        "\n",
        "\n",
        "    # Apply Information Gain\n",
        "    ig = mutual_info_regression(X, y) * 100\n",
        "\n",
        "    feature_scores = {}\n",
        "    for i in range(len(X.columns)):\n",
        "        feature_scores[X.columns[i]] = ig[i]\n",
        "\n",
        "    sorted_features = sorted(feature_scores.items(), key=lambda x: x[1], reverse=True)\n",
        "\n",
        "    for feature, score in sorted_features:\n",
        "        print('Feature:', feature, 'Score:', score)\n",
        "\n",
        "    return sorted_features, y, X\n",
        "\n",
        "def plot_ig_for_features(sorted_features):\n",
        "    fig, ax = plt.subplots()\n",
        "    y_pos = np.arange(len(sorted_features))\n",
        "    ax.barh(y_pos, [score for feature, score in sorted_features], align=\"center\")\n",
        "    ax.set_yticks(y_pos)\n",
        "    ax.set_yticklabels([feature for feature, score in sorted_features])\n",
        "#   ax.invert_yaxis()  # Labels read top-to-bottom\n",
        "    ax.set_xlabel(\"Importance Score\")\n",
        "    ax.set_title(\"Feature Importance Scores (Information Gain)\")\n",
        "\n",
        "    # Add importance scores as labels on the horizontal bar chart\n",
        "    for i, v in enumerate([score for feature, score in sorted_features]):\n",
        "        ax.text(v + 0.01, i, str(round(v, 3)), color=\"black\", fontweight=\"bold\")\n",
        "        plt.show()\n",
        "\n",
        "def split_data_fit_model(df, col_types: dict, model, test_size: float = 0.2):\n",
        "    # Separate features (X) from target variable (y)\n",
        "    X = df.drop(\"Is Fraudulent\", axis=1)\n",
        "    y = df[\"Is Fraudulent\"]\n",
        "\n",
        "    # Training to testing split\n",
        "    X_train, X_test, y_train, y_test = train_test_split(X, y, test_size=test_size, random_state=71)\n",
        "\n",
        "    # Preprocessing non-numeric features\n",
        "    preprocessor = ColumnTransformer(\n",
        "      transformers=[\n",
        "          (\"num\", StandardScaler(), col_types[\"numeric_features\"]),\n",
        "          (\"nominal\", OneHotEncoder(), col_types[\"nominal_only_features\"]),\n",
        "          (\"ordinal\", OrdinalEncoder(), col_types[\"ordinal_only_features\"])\n",
        "      ])\n",
        "    pipeline = Pipeline(steps=[(\"preprocessor\", preprocessor),\n",
        "                            (\"pca\", PCA(n_components=0.95)),\n",
        "                            (\"feature_selection\", SelectKBest(f_classif, k=5)),\n",
        "                            (\"classifier\", model)])\n",
        "    pipeline.fit(X_train, y_train)\n",
        "    return X_test, y_test, pipeline\n",
        "\n",
        "def predict(xtest, ytest, pipeline):\n",
        "    ypred = pipeline.predict(xtest)\n",
        "    cm = confusion_matrix(ytest, ypred)\n",
        "    y_prob_logreg = pipeline.predict_proba(xtest)[:, 1]\n",
        "    roc_auc_logreg = roc_auc_score(ytest, y_prob_logreg)\n",
        "    print(f\"ROC AUC: {roc_auc_logreg}\")\n",
        "    return cm, ypred\n",
        "\n",
        "def print_model_performance(cm, ytest, ypred, model_name: str):\n",
        "    print(\"Classification Report:\" + model_name)\n",
        "    print(classification_report(ytest, ypred))\n",
        "\n",
        "    print(\"Confusion Matrix:\")\n",
        "    print(cm)\n",
        "\n",
        "    print(\"Accuracy Score:\")\n",
        "    print(accuracy_score(ytest, ypred))\n",
        "\n",
        "    print(\"\\n\\n\")\n",
        "\n",
        "def print_model_performance(cm, ytest, ypred, model_name: str):\n",
        "    print(\"Classification Report:\" + model_name)\n",
        "    print(classification_report(ytest, ypred))\n",
        "\n",
        "    print(\"Confusion Matrix:\")\n",
        "    print(cm)\n",
        "\n",
        "    print(\"Accuracy Score:\")\n",
        "    print(accuracy_score(ytest, ypred))\n",
        "\n",
        "    print(\"\\n\\n\")\n",
        "\n",
        "def plot_confusion_matrix(cm, model, model_name: str):\n",
        "    cmap = sns.color_palette(\"pastel\")\n",
        "\n",
        "    plt.figure(figsize=(8, 6))\n",
        "    sns.heatmap(cm, annot=True, fmt='d', cmap=cmap, cbar=False,\n",
        "              xticklabels=model.classes_,\n",
        "              yticklabels=model.classes_)\n",
        "    plt.xlabel('Predicted')\n",
        "    plt.ylabel('Actual')\n",
        "    plt.title('Confusion Matrix - ' + model_name)\n",
        "    plt.show()\n",
        "\n",
        "def plot_roc_auc_curve(xtest, ytest, pipeline, model_name):\n",
        "    label_encoder = LabelEncoder()\n",
        "    y_test_numeric = label_encoder.fit_transform(ytest)\n",
        "\n",
        "    y_prob_logreg = pipeline.predict_proba(xtest)[:, 1]\n",
        "    fpr, tpr, thresholds = roc_curve(y_test_numeric, y_prob_logreg)\n",
        "    roc_auc_logreg = auc(fpr, tpr)\n",
        "\n",
        "    plt.figure(figsize=(8, 6))\n",
        "    plt.plot(fpr, tpr, color='darkorange', lw=2, label='ROC curve (area = {:.2f})'.format(roc_auc_logreg))\n",
        "    plt.plot([0, 1], [0, 1], color='navy', lw=2, linestyle='--')\n",
        "    plt.xlim([0.0, 1.0])\n",
        "    plt.ylim([0.0, 1.05])\n",
        "    plt.xlabel('False Positive Rate')\n",
        "    plt.ylabel('True Positive Rate')\n",
        "    plt.title('Receiver Operating Characteristic (ROC) Curve - ' + model_name)\n",
        "    plt.legend(loc='lower right')\n",
        "    plt.show()\n",
        "\n",
        "def create_model(model_name: str) -> object:\n",
        "    if model_name == \"AdaBoostClassifier\":\n",
        "        model = AdaBoostClassifier(random_state=71)\n",
        "    elif model_name == \"DecisionTreeClassifier\":\n",
        "        model = DecisionTreeClassifier(random_state=71)\n",
        "    elif model_name == \"GaussianNB\":\n",
        "        model = GaussianNB(random_state=71, var_smoothing=1e-09)\n",
        "    elif model_name == \"GradientBoostingClassifier\":\n",
        "        model = GradientBoostingClassifier(random_state=71)\n",
        "    elif model_name == \"KNeighborsClassifier\":\n",
        "        model = KNeighborsClassifier()\n",
        "    elif model_name == \"LogisticRegression\":\n",
        "        model = LogisticRegression(random_state=71, max_iter=1000, C=1.0, solver='lbfgs')\n",
        "    elif model_name == \"RandomForestClassifier\":\n",
        "        model = RandomForestClassifier(random_state=71)\n",
        "    elif model_name == \"SVC\":\n",
        "        model = SVC(random_state=71)\n",
        "    else:\n",
        "        raise ValueError(\"Invalid model name: \" + model_name)\n",
        "\n",
        "    return model\n",
        "\n",
        "#track_time_and_space\n",
        "def run(df, model, col_types: dict, model_name: str, test_size: float = 0.2):\n",
        "    X_test, y_test, pipeline = split_data_fit_model(df, col_types, model=model, test_size=test_size)\n",
        "    cm, ypred = predict(X_test, y_test, pipeline)\n",
        "\n",
        "    print_model_performance(cm, y_test, ypred, model_name=model_name)\n",
        "    plot_confusion_matrix(cm, model=model, model_name=model_name)\n",
        "    plot_roc_auc_curve(X_test, y_test, pipeline, model_name=model_name)"
      ],
      "metadata": {
        "id": "NbsrXEx6pK8D"
      },
      "execution_count": 367,
      "outputs": []
    },
    {
      "cell_type": "code",
      "source": [
        "# @title Setup static data to run various models\n",
        "pred_models = [\n",
        "    {\n",
        "        \"name\": \"AdaBoostClassifier\",\n",
        "        \"test_size\": [{\"default\": 15}, {\"others\": [20, 25]}],\n",
        "        \"hp_list\": {\n",
        "            \"n_estimators\": 50,\n",
        "            \"learning_rate\": 1.0,\n",
        "            \"algorithm\": 'SAMME.R',\n",
        "            \"random_state\": \"None\"\n",
        "        },\n",
        "        \"model_identifier\": \"AdaBoost Classifier \" + \"15\",\n",
        "        \"Comments\": [\"1. n_estimators - number of weak learners to train iteratively\",\n",
        "                      \"2. learning_rate - contribution of each weak learner\"]\n",
        "    },\n",
        "    {\n",
        "        \"name\": \"DecisionTreeClassifier\",\n",
        "        \"test_size\": [{\"default\": 15}, {\"others\": [20, 25]}],\n",
        "        \"hp_list\": {\n",
        "            \"criterion\": 'gini',\n",
        "            \"max_depth\": \"None\",\n",
        "            \"min_samples_split\": 2,\n",
        "            \"min_samples_leaf\": 1,\n",
        "            \"max_features\": None,\n",
        "            \"random_state\": \"None\",\n",
        "            \"max_leaf_nodes\": \"None\",\n",
        "            \"min_impurity_decrease\": 0.0,\n",
        "            \"min_impurity_split\": \"None\", \"class_weight\": \"None\",\n",
        "            \"ccp_alpha\": 0.0\n",
        "        },\n",
        "        \"model_identifier\": \"Decision Tree Classifier \" + \"15\",\n",
        "        \"Comments\": [\"1. criterion - gini or entropy\",\n",
        "                      \"2. max_depth - maximum depth of the tree\",\n",
        "                      \"3. min_samples_split - minimum number of samples required to split an internal node\",\n",
        "                      \"4. min_samples_leaf - minimum number of samples required to be at a leaf node\"]\n",
        "    },\n",
        "    {\n",
        "        \"name\": \"GaussianNB\",\n",
        "        \"test_size\": [{\"default\": 15}, {\"others\": [20, 25]}],\n",
        "        \"hp_list\": {\n",
        "            \"var_smoothing\": \"1e-09\"\n",
        "        },\n",
        "        \"model_identifier\": \"Gaussian NB \" + \"15\",\n",
        "        \"Comments\": [\"1. var_smoothing - portion of the largest variance of all features that is added to variances for calculation stability\"]\n",
        "    },\n",
        "    {\n",
        "        \"name\": \"GradientBoostingClassifier\",\n",
        "        \"test_size\": [{\"default\": 15}, {\"others\": [20, 25]}],\n",
        "        \"hp_list\": {\n",
        "            \"n_estimators\": [100, 200, 300, 400, 500],\n",
        "            \"learning_rate\": [0.1, 0.35, 0.55, 0.85, 1.00],\n",
        "            \"max_depth\": [3],\n",
        "            \"min_samples_split\": [2, 5, 8, 10],\n",
        "            \"min_samples_leaf\": [1, 2, 3, 4, 5],\n",
        "            \"subsample\": [1.0],\n",
        "            \"max_features\": \"None\",\n",
        "            \"random_state\": \"None\",\n",
        "            \"verbose\": [0],\n",
        "            \"warm_start\": \"False\",\n",
        "            \"ccp_alpha\": [0.00, 0.25, 0.50, 0.75, 1.00],\n",
        "            \"max_samples\": \"None\",\n",
        "            \"validation_fraction\": 0.1,\n",
        "            \"n_iter_no_change\": \"None\",\n",
        "            \"tol\": [0.0001],\n",
        "            \"presort\": [\"deprecated\", \"auto\"]\n",
        "        },\n",
        "        \"model_identifier\": \"Gradient Boosting Classifier \" + \"15\",\n",
        "        \"Comments\": [\"1. n_estimators - number of boosting stages to be run\",\n",
        "                      \"2. learning_rate - contribution of each tree\",\n",
        "                      \"3. max_depth - maximum depth of the individual regression estimators\",\n",
        "                      \"4. min_samples_split - minimum number of samples required to split an internal node\",\n",
        "                      \"5. min_samples_leaf - minimum number of samples required to be at a leaf node\"]\n",
        "    },\n",
        "    {\n",
        "        \"name\": \"KNeighborsClassifier\",\n",
        "        \"test_size\": [{\"default\": 15}, {\"others\": [20, 25]}],\n",
        "        \"hp_list\": {\n",
        "            \"n_neighbors\": [5, 10, 15, 20],\n",
        "            \"weights\": [\"uniform\", \"distance\"],\n",
        "            \"algorithm\": [\"auto\", \"ball_tree\", \"kd_tree\", \"brute\"],\n",
        "            \"leaf_size\": [0, 20, 40, 60, 80, 100],\n",
        "            \"p\": [1, 2, 3, 4, 5],\n",
        "            \"metric\": [\"minkowski\", \"manhattan\", \"euclidean\", \"chebyshev\"],\n",
        "            \"metric_params\": \"None\",\n",
        "            \"n_jobs\": \"None\"\n",
        "        },\n",
        "        \"model_identifier\": \"K Neighbors Classifier \" + \"15\",\n",
        "        \"Comments\": [\"1. n_neighbors - number of neighbors to tune\",\n",
        "                      \"2. p is Minkowski (the power parameter) - 1 => manhattan_distance, 2 => Euclidean_distance\",\n",
        "                      \"3. weights - uniform or distance\"]\n",
        "    },\n",
        "    {\n",
        "        \"name\": \"LogisticRegression\",\n",
        "        \"test_size\": [{\"default\": 15}, {\"others\": [20, 25]}],\n",
        "        \"hp_list\": {\n",
        "            \"penalty\": [\"l2\", \"l1\", \"elasticnet\", \"none\"],\n",
        "            \"dual\": [\"False\", \"True\"],\n",
        "            \"tol\": [0.0001, 0.0005, 0.0010, 0.0050, 0.0100],\n",
        "            \"C\": [1.00, 0.75, 0.5, 0.25, 0.00],\n",
        "            \"fit_intercept\": [\"True\", \"False\"],\n",
        "            \"intercept_scaling\": 1,\n",
        "            \"class_weight\": \"None\",\n",
        "            \"random_state\": \"None\",\n",
        "            \"solver\": [\"lbfgs\", \"liblinear\", \"sag\", \"saga\"],\n",
        "            \"max_iter\": [100, 200, 300, 400, 500],\n",
        "            \"multi_class\": [\"auto\", \"ovr\", \"multinomial\"],\n",
        "            \"verbose\": 0,\n",
        "            \"warm_start\": [\"False\", \"True\"],\n",
        "            \"n_jobs\": [\"None\", 1],\n",
        "            \"l1_ratio\": [\"None\", \"0.5\"]\n",
        "        },\n",
        "        \"model_identifier\": \"Logistic Regression \" + \"15\",\n",
        "        \"Comments\": [\"1. C - inverse of regularization strength\",\n",
        "                      \"2. solver - algorithm to use in optimization problem\",\n",
        "                      \"3. max_iter - maximum number of iterations taken for the solvers to converge\"]\n",
        "    },\n",
        "    {\n",
        "        \"name\": \"RandomForestClassifier\",\n",
        "        \"test_size\": [{\"default\": 15}, {\"others\": [20, 25]}],\n",
        "        \"hp_list\": {\n",
        "            \"n_estimators\": [100],\n",
        "            \"criterion\": [\"gini\"],\n",
        "            \"max_depth\": \"None\",\n",
        "            \"min_samples_split\": [2],\n",
        "            \"min_samples_leaf\": [1],\n",
        "            \"max_features\": \"auto\",\n",
        "            \"bootstrap\": \"True\",\n",
        "            \"oob_score\": \"False\",\n",
        "            \"n_jobs\": \"None\",\n",
        "            \"random_state\": \"None\",\n",
        "            \"verbose\": [0],\n",
        "            \"warm_start\": \"False\",\n",
        "            \"class_weight\": \"None\",\n",
        "            \"ccp_alpha\": [0.0],\n",
        "            \"max_samples\": \"None\"\n",
        "        },\n",
        "        \"Comments\": [\"1. n_estimators - number of trees in the forest\",\n",
        "                    \"2. criterion - gini or entropy\",\n",
        "                    \"3. max_depth - maximum depth of the tree\",\n",
        "                    \"4. min_samples_split - minimum number of samples required to split an internal node\",\n",
        "                    \"5. min_samples_leaf - minimum number of samples required to be at a leaf node\"]\n",
        "    }\n",
        "]\n"
      ],
      "metadata": {
        "id": "4ixeFqA94CnQ"
      },
      "execution_count": 368,
      "outputs": []
    },
    {
      "cell_type": "markdown",
      "metadata": {
        "id": "SAazywGQ5Bab"
      },
      "source": [
        "### Visualization Exploration\n",
        "<table width=\"100%\" align=\"center\">\n",
        "  <tr>\n",
        "    <th width=\"5%\"></th>\n",
        "    <th>Task</th>\n",
        "    <th width=\"10%\">Status</th>\n",
        "  </tr>\n",
        "  <tr>\n",
        "    <td width=\"5%\">1</td>\n",
        "    <td>Print 2 rows for sanity check</td>\n",
        "    <td width=\"10%\"><input type=\"checkbox\" onclick=\"return false\" checked=\"true\"/></td>\n",
        "  </tr>\n",
        "  <tr>\n",
        "    <td width=\"5%\">2</td>\n",
        "    <td>Class imbalance and appropriate visualization</td>\n",
        "    <td width=\"10%\"><input type=\"checkbox\" onclick=\"return false\"  checked=\"true\"/></td>\n",
        "  </tr>\n",
        "  <tr>\n",
        "    <td width=\"5%\">3</td>\n",
        "    <td>Data visualizations and insights</td>\n",
        "    <td width=\"10%\"><input type=\"checkbox\" onclick=\"return false\"  checked=\"true\"/></td>\n",
        "  </tr>\n",
        "  <tr>\n",
        "    <td width=\"5%\">4</td>\n",
        "    <td>Correlational analysis and visualisation</td>\n",
        "    <td width=\"10%\"><input type=\"checkbox\" onclick=\"return false\"  checked=\"true\"/></td>\n",
        "  </tr>\n",
        "  <tr>\n",
        "    <td>5</td>\n",
        "    <td>Will this correlational analysis have effect on feature selection that you will perform in the next step? Justify your answer.</td>\n",
        "    <td width=\"10%\"><input type=\"checkbox\" onclick=\"return false\"/></td>\n",
        "  </tr>\n",
        "</table>"
      ]
    },
    {
      "cell_type": "markdown",
      "source": [
        "#### Sanity Check"
      ],
      "metadata": {
        "id": "jh4iVCK9reqg"
      }
    },
    {
      "cell_type": "code",
      "execution_count": 369,
      "metadata": {
        "colab": {
          "base_uri": "https://localhost:8080/",
          "height": 198
        },
        "id": "UjAeTsJzguSa",
        "outputId": "b3428516-055d-43ab-fe5c-274e8232a679"
      },
      "outputs": [
        {
          "output_type": "execute_result",
          "data": {
            "text/plain": [
              "         Amount        Date Card Type MCC Category Location   Device  \\\n",
              "49   656.929123  2023-01-01     Debit     Clothing       US   Mobile   \n",
              "237  631.750422  2023-01-01     Debit    Groceries       UK  Desktop   \n",
              "\n",
              "     Previous Transactions  Balance Before Transaction  Time of Day  Velocity  \\\n",
              "49                       3                 8094.368818            1  0.057282   \n",
              "237                      9                 4115.014624            2  0.026540   \n",
              "\n",
              "     Customer Age  Customer Income    Card Limit  Credit Score  \\\n",
              "49             36    109498.302452  13126.098711           300   \n",
              "237            55     34253.596520   5747.184223           764   \n",
              "\n",
              "    Merchant Reputation  Merchant Location History  Spending Patterns  \\\n",
              "49                  Bad                         17        1176.854858   \n",
              "237             Average                         11        2237.074253   \n",
              "\n",
              "    Online Transactions Frequency  Is Fraudulent  \n",
              "49                            Low              0  \n",
              "237                        Medium              0  "
            ],
            "text/html": [
              "\n",
              "  <div id=\"df-a728cde2-c852-4364-aae8-e12a857d496d\" class=\"colab-df-container\">\n",
              "    <div>\n",
              "<style scoped>\n",
              "    .dataframe tbody tr th:only-of-type {\n",
              "        vertical-align: middle;\n",
              "    }\n",
              "\n",
              "    .dataframe tbody tr th {\n",
              "        vertical-align: top;\n",
              "    }\n",
              "\n",
              "    .dataframe thead th {\n",
              "        text-align: right;\n",
              "    }\n",
              "</style>\n",
              "<table border=\"1\" class=\"dataframe\">\n",
              "  <thead>\n",
              "    <tr style=\"text-align: right;\">\n",
              "      <th></th>\n",
              "      <th>Amount</th>\n",
              "      <th>Date</th>\n",
              "      <th>Card Type</th>\n",
              "      <th>MCC Category</th>\n",
              "      <th>Location</th>\n",
              "      <th>Device</th>\n",
              "      <th>Previous Transactions</th>\n",
              "      <th>Balance Before Transaction</th>\n",
              "      <th>Time of Day</th>\n",
              "      <th>Velocity</th>\n",
              "      <th>Customer Age</th>\n",
              "      <th>Customer Income</th>\n",
              "      <th>Card Limit</th>\n",
              "      <th>Credit Score</th>\n",
              "      <th>Merchant Reputation</th>\n",
              "      <th>Merchant Location History</th>\n",
              "      <th>Spending Patterns</th>\n",
              "      <th>Online Transactions Frequency</th>\n",
              "      <th>Is Fraudulent</th>\n",
              "    </tr>\n",
              "  </thead>\n",
              "  <tbody>\n",
              "    <tr>\n",
              "      <th>49</th>\n",
              "      <td>656.929123</td>\n",
              "      <td>2023-01-01</td>\n",
              "      <td>Debit</td>\n",
              "      <td>Clothing</td>\n",
              "      <td>US</td>\n",
              "      <td>Mobile</td>\n",
              "      <td>3</td>\n",
              "      <td>8094.368818</td>\n",
              "      <td>1</td>\n",
              "      <td>0.057282</td>\n",
              "      <td>36</td>\n",
              "      <td>109498.302452</td>\n",
              "      <td>13126.098711</td>\n",
              "      <td>300</td>\n",
              "      <td>Bad</td>\n",
              "      <td>17</td>\n",
              "      <td>1176.854858</td>\n",
              "      <td>Low</td>\n",
              "      <td>0</td>\n",
              "    </tr>\n",
              "    <tr>\n",
              "      <th>237</th>\n",
              "      <td>631.750422</td>\n",
              "      <td>2023-01-01</td>\n",
              "      <td>Debit</td>\n",
              "      <td>Groceries</td>\n",
              "      <td>UK</td>\n",
              "      <td>Desktop</td>\n",
              "      <td>9</td>\n",
              "      <td>4115.014624</td>\n",
              "      <td>2</td>\n",
              "      <td>0.026540</td>\n",
              "      <td>55</td>\n",
              "      <td>34253.596520</td>\n",
              "      <td>5747.184223</td>\n",
              "      <td>764</td>\n",
              "      <td>Average</td>\n",
              "      <td>11</td>\n",
              "      <td>2237.074253</td>\n",
              "      <td>Medium</td>\n",
              "      <td>0</td>\n",
              "    </tr>\n",
              "  </tbody>\n",
              "</table>\n",
              "</div>\n",
              "    <div class=\"colab-df-buttons\">\n",
              "\n",
              "  <div class=\"colab-df-container\">\n",
              "    <button class=\"colab-df-convert\" onclick=\"convertToInteractive('df-a728cde2-c852-4364-aae8-e12a857d496d')\"\n",
              "            title=\"Convert this dataframe to an interactive table.\"\n",
              "            style=\"display:none;\">\n",
              "\n",
              "  <svg xmlns=\"http://www.w3.org/2000/svg\" height=\"24px\" viewBox=\"0 -960 960 960\">\n",
              "    <path d=\"M120-120v-720h720v720H120Zm60-500h600v-160H180v160Zm220 220h160v-160H400v160Zm0 220h160v-160H400v160ZM180-400h160v-160H180v160Zm440 0h160v-160H620v160ZM180-180h160v-160H180v160Zm440 0h160v-160H620v160Z\"/>\n",
              "  </svg>\n",
              "    </button>\n",
              "\n",
              "  <style>\n",
              "    .colab-df-container {\n",
              "      display:flex;\n",
              "      gap: 12px;\n",
              "    }\n",
              "\n",
              "    .colab-df-convert {\n",
              "      background-color: #E8F0FE;\n",
              "      border: none;\n",
              "      border-radius: 50%;\n",
              "      cursor: pointer;\n",
              "      display: none;\n",
              "      fill: #1967D2;\n",
              "      height: 32px;\n",
              "      padding: 0 0 0 0;\n",
              "      width: 32px;\n",
              "    }\n",
              "\n",
              "    .colab-df-convert:hover {\n",
              "      background-color: #E2EBFA;\n",
              "      box-shadow: 0px 1px 2px rgba(60, 64, 67, 0.3), 0px 1px 3px 1px rgba(60, 64, 67, 0.15);\n",
              "      fill: #174EA6;\n",
              "    }\n",
              "\n",
              "    .colab-df-buttons div {\n",
              "      margin-bottom: 4px;\n",
              "    }\n",
              "\n",
              "    [theme=dark] .colab-df-convert {\n",
              "      background-color: #3B4455;\n",
              "      fill: #D2E3FC;\n",
              "    }\n",
              "\n",
              "    [theme=dark] .colab-df-convert:hover {\n",
              "      background-color: #434B5C;\n",
              "      box-shadow: 0px 1px 3px 1px rgba(0, 0, 0, 0.15);\n",
              "      filter: drop-shadow(0px 1px 2px rgba(0, 0, 0, 0.3));\n",
              "      fill: #FFFFFF;\n",
              "    }\n",
              "  </style>\n",
              "\n",
              "    <script>\n",
              "      const buttonEl =\n",
              "        document.querySelector('#df-a728cde2-c852-4364-aae8-e12a857d496d button.colab-df-convert');\n",
              "      buttonEl.style.display =\n",
              "        google.colab.kernel.accessAllowed ? 'block' : 'none';\n",
              "\n",
              "      async function convertToInteractive(key) {\n",
              "        const element = document.querySelector('#df-a728cde2-c852-4364-aae8-e12a857d496d');\n",
              "        const dataTable =\n",
              "          await google.colab.kernel.invokeFunction('convertToInteractive',\n",
              "                                                    [key], {});\n",
              "        if (!dataTable) return;\n",
              "\n",
              "        const docLinkHtml = 'Like what you see? Visit the ' +\n",
              "          '<a target=\"_blank\" href=https://colab.research.google.com/notebooks/data_table.ipynb>data table notebook</a>'\n",
              "          + ' to learn more about interactive tables.';\n",
              "        element.innerHTML = '';\n",
              "        dataTable['output_type'] = 'display_data';\n",
              "        await google.colab.output.renderOutput(dataTable, element);\n",
              "        const docLink = document.createElement('div');\n",
              "        docLink.innerHTML = docLinkHtml;\n",
              "        element.appendChild(docLink);\n",
              "      }\n",
              "    </script>\n",
              "  </div>\n",
              "\n",
              "\n",
              "<div id=\"df-aef15d3d-d7b4-4540-997f-6974e01798cc\">\n",
              "  <button class=\"colab-df-quickchart\" onclick=\"quickchart('df-aef15d3d-d7b4-4540-997f-6974e01798cc')\"\n",
              "            title=\"Suggest charts\"\n",
              "            style=\"display:none;\">\n",
              "\n",
              "<svg xmlns=\"http://www.w3.org/2000/svg\" height=\"24px\"viewBox=\"0 0 24 24\"\n",
              "     width=\"24px\">\n",
              "    <g>\n",
              "        <path d=\"M19 3H5c-1.1 0-2 .9-2 2v14c0 1.1.9 2 2 2h14c1.1 0 2-.9 2-2V5c0-1.1-.9-2-2-2zM9 17H7v-7h2v7zm4 0h-2V7h2v10zm4 0h-2v-4h2v4z\"/>\n",
              "    </g>\n",
              "</svg>\n",
              "  </button>\n",
              "\n",
              "<style>\n",
              "  .colab-df-quickchart {\n",
              "      --bg-color: #E8F0FE;\n",
              "      --fill-color: #1967D2;\n",
              "      --hover-bg-color: #E2EBFA;\n",
              "      --hover-fill-color: #174EA6;\n",
              "      --disabled-fill-color: #AAA;\n",
              "      --disabled-bg-color: #DDD;\n",
              "  }\n",
              "\n",
              "  [theme=dark] .colab-df-quickchart {\n",
              "      --bg-color: #3B4455;\n",
              "      --fill-color: #D2E3FC;\n",
              "      --hover-bg-color: #434B5C;\n",
              "      --hover-fill-color: #FFFFFF;\n",
              "      --disabled-bg-color: #3B4455;\n",
              "      --disabled-fill-color: #666;\n",
              "  }\n",
              "\n",
              "  .colab-df-quickchart {\n",
              "    background-color: var(--bg-color);\n",
              "    border: none;\n",
              "    border-radius: 50%;\n",
              "    cursor: pointer;\n",
              "    display: none;\n",
              "    fill: var(--fill-color);\n",
              "    height: 32px;\n",
              "    padding: 0;\n",
              "    width: 32px;\n",
              "  }\n",
              "\n",
              "  .colab-df-quickchart:hover {\n",
              "    background-color: var(--hover-bg-color);\n",
              "    box-shadow: 0 1px 2px rgba(60, 64, 67, 0.3), 0 1px 3px 1px rgba(60, 64, 67, 0.15);\n",
              "    fill: var(--button-hover-fill-color);\n",
              "  }\n",
              "\n",
              "  .colab-df-quickchart-complete:disabled,\n",
              "  .colab-df-quickchart-complete:disabled:hover {\n",
              "    background-color: var(--disabled-bg-color);\n",
              "    fill: var(--disabled-fill-color);\n",
              "    box-shadow: none;\n",
              "  }\n",
              "\n",
              "  .colab-df-spinner {\n",
              "    border: 2px solid var(--fill-color);\n",
              "    border-color: transparent;\n",
              "    border-bottom-color: var(--fill-color);\n",
              "    animation:\n",
              "      spin 1s steps(1) infinite;\n",
              "  }\n",
              "\n",
              "  @keyframes spin {\n",
              "    0% {\n",
              "      border-color: transparent;\n",
              "      border-bottom-color: var(--fill-color);\n",
              "      border-left-color: var(--fill-color);\n",
              "    }\n",
              "    20% {\n",
              "      border-color: transparent;\n",
              "      border-left-color: var(--fill-color);\n",
              "      border-top-color: var(--fill-color);\n",
              "    }\n",
              "    30% {\n",
              "      border-color: transparent;\n",
              "      border-left-color: var(--fill-color);\n",
              "      border-top-color: var(--fill-color);\n",
              "      border-right-color: var(--fill-color);\n",
              "    }\n",
              "    40% {\n",
              "      border-color: transparent;\n",
              "      border-right-color: var(--fill-color);\n",
              "      border-top-color: var(--fill-color);\n",
              "    }\n",
              "    60% {\n",
              "      border-color: transparent;\n",
              "      border-right-color: var(--fill-color);\n",
              "    }\n",
              "    80% {\n",
              "      border-color: transparent;\n",
              "      border-right-color: var(--fill-color);\n",
              "      border-bottom-color: var(--fill-color);\n",
              "    }\n",
              "    90% {\n",
              "      border-color: transparent;\n",
              "      border-bottom-color: var(--fill-color);\n",
              "    }\n",
              "  }\n",
              "</style>\n",
              "\n",
              "  <script>\n",
              "    async function quickchart(key) {\n",
              "      const quickchartButtonEl =\n",
              "        document.querySelector('#' + key + ' button');\n",
              "      quickchartButtonEl.disabled = true;  // To prevent multiple clicks.\n",
              "      quickchartButtonEl.classList.add('colab-df-spinner');\n",
              "      try {\n",
              "        const charts = await google.colab.kernel.invokeFunction(\n",
              "            'suggestCharts', [key], {});\n",
              "      } catch (error) {\n",
              "        console.error('Error during call to suggestCharts:', error);\n",
              "      }\n",
              "      quickchartButtonEl.classList.remove('colab-df-spinner');\n",
              "      quickchartButtonEl.classList.add('colab-df-quickchart-complete');\n",
              "    }\n",
              "    (() => {\n",
              "      let quickchartButtonEl =\n",
              "        document.querySelector('#df-aef15d3d-d7b4-4540-997f-6974e01798cc button');\n",
              "      quickchartButtonEl.style.display =\n",
              "        google.colab.kernel.accessAllowed ? 'block' : 'none';\n",
              "    })();\n",
              "  </script>\n",
              "</div>\n",
              "    </div>\n",
              "  </div>\n"
            ],
            "application/vnd.google.colaboratory.intrinsic+json": {
              "type": "dataframe",
              "variable_name": "df",
              "summary": "{\n  \"name\": \"df\",\n  \"rows\": 1000,\n  \"fields\": [\n    {\n      \"column\": \"Amount\",\n      \"properties\": {\n        \"dtype\": \"number\",\n        \"std\": 279.3424343839884,\n        \"min\": 10.456990977145551,\n        \"max\": 996.6898932861582,\n        \"num_unique_values\": 1000,\n        \"samples\": [\n          231.57103430828363,\n          573.212810528132,\n          400.2883388566031\n        ],\n        \"semantic_type\": \"\",\n        \"description\": \"\"\n      }\n    },\n    {\n      \"column\": \"Date\",\n      \"properties\": {\n        \"dtype\": \"object\",\n        \"num_unique_values\": 340,\n        \"samples\": [\n          \"2023-11-03\",\n          \"2023-05-09\",\n          \"2023-05-06\"\n        ],\n        \"semantic_type\": \"\",\n        \"description\": \"\"\n      }\n    },\n    {\n      \"column\": \"Card Type\",\n      \"properties\": {\n        \"dtype\": \"category\",\n        \"num_unique_values\": 3,\n        \"samples\": [\n          \"Debit\",\n          \"Prepaid\",\n          \"Credit\"\n        ],\n        \"semantic_type\": \"\",\n        \"description\": \"\"\n      }\n    },\n    {\n      \"column\": \"MCC Category\",\n      \"properties\": {\n        \"dtype\": \"category\",\n        \"num_unique_values\": 7,\n        \"samples\": [\n          \"Clothing\",\n          \"Groceries\",\n          \"Travel\"\n        ],\n        \"semantic_type\": \"\",\n        \"description\": \"\"\n      }\n    },\n    {\n      \"column\": \"Location\",\n      \"properties\": {\n        \"dtype\": \"category\",\n        \"num_unique_values\": 5,\n        \"samples\": [\n          \"UK\",\n          \"France\",\n          \"Germany\"\n        ],\n        \"semantic_type\": \"\",\n        \"description\": \"\"\n      }\n    },\n    {\n      \"column\": \"Device\",\n      \"properties\": {\n        \"dtype\": \"category\",\n        \"num_unique_values\": 3,\n        \"samples\": [\n          \"Mobile\",\n          \"Desktop\",\n          \"POS\"\n        ],\n        \"semantic_type\": \"\",\n        \"description\": \"\"\n      }\n    },\n    {\n      \"column\": \"Previous Transactions\",\n      \"properties\": {\n        \"dtype\": \"number\",\n        \"std\": 2,\n        \"min\": 0,\n        \"max\": 9,\n        \"num_unique_values\": 10,\n        \"samples\": [\n          7,\n          9,\n          4\n        ],\n        \"semantic_type\": \"\",\n        \"description\": \"\"\n      }\n    },\n    {\n      \"column\": \"Balance Before Transaction\",\n      \"properties\": {\n        \"dtype\": \"number\",\n        \"std\": 2841.249946847179,\n        \"min\": 123.46087678511972,\n        \"max\": 9975.85915441606,\n        \"num_unique_values\": 1000,\n        \"samples\": [\n          9199.69599456075,\n          3524.944118881592,\n          5060.068670394153\n        ],\n        \"semantic_type\": \"\",\n        \"description\": \"\"\n      }\n    },\n    {\n      \"column\": \"Time of Day\",\n      \"properties\": {\n        \"dtype\": \"number\",\n        \"std\": 6,\n        \"min\": 0,\n        \"max\": 23,\n        \"num_unique_values\": 24,\n        \"samples\": [\n          23,\n          19,\n          1\n        ],\n        \"semantic_type\": \"\",\n        \"description\": \"\"\n      }\n    },\n    {\n      \"column\": \"Velocity\",\n      \"properties\": {\n        \"dtype\": \"number\",\n        \"std\": 0.29620597672755694,\n        \"min\": -0.4998914916428443,\n        \"max\": 0.4999431729716045,\n        \"num_unique_values\": 1000,\n        \"samples\": [\n          -0.3522496564684467,\n          -0.0200893661808913,\n          0.4460819888250991\n        ],\n        \"semantic_type\": \"\",\n        \"description\": \"\"\n      }\n    },\n    {\n      \"column\": \"Customer Age\",\n      \"properties\": {\n        \"dtype\": \"number\",\n        \"std\": 17,\n        \"min\": 20,\n        \"max\": 79,\n        \"num_unique_values\": 60,\n        \"samples\": [\n          36,\n          56,\n          41\n        ],\n        \"semantic_type\": \"\",\n        \"description\": \"\"\n      }\n    },\n    {\n      \"column\": \"Customer Income\",\n      \"properties\": {\n        \"dtype\": \"number\",\n        \"std\": 37021.43493174262,\n        \"min\": 20084.71540332981,\n        \"max\": 149895.77762414375,\n        \"num_unique_values\": 1000,\n        \"samples\": [\n          142500.97723115317,\n          111770.00062761748,\n          56198.8298974792\n        ],\n        \"semantic_type\": \"\",\n        \"description\": \"\"\n      }\n    },\n    {\n      \"column\": \"Card Limit\",\n      \"properties\": {\n        \"dtype\": \"number\",\n        \"std\": 5734.063837865405,\n        \"min\": 526.9109117307208,\n        \"max\": 19978.43966842985,\n        \"num_unique_values\": 1000,\n        \"samples\": [\n          10451.841016449584,\n          9737.504943118727,\n          5728.616428723241\n        ],\n        \"semantic_type\": \"\",\n        \"description\": \"\"\n      }\n    },\n    {\n      \"column\": \"Credit Score\",\n      \"properties\": {\n        \"dtype\": \"number\",\n        \"std\": 156,\n        \"min\": 300,\n        \"max\": 849,\n        \"num_unique_values\": 465,\n        \"samples\": [\n          713,\n          426,\n          359\n        ],\n        \"semantic_type\": \"\",\n        \"description\": \"\"\n      }\n    },\n    {\n      \"column\": \"Merchant Reputation\",\n      \"properties\": {\n        \"dtype\": \"category\",\n        \"num_unique_values\": 3,\n        \"samples\": [\n          \"Bad\",\n          \"Average\",\n          \"Good\"\n        ],\n        \"semantic_type\": \"\",\n        \"description\": \"\"\n      }\n    },\n    {\n      \"column\": \"Merchant Location History\",\n      \"properties\": {\n        \"dtype\": \"number\",\n        \"std\": 5,\n        \"min\": 1,\n        \"max\": 19,\n        \"num_unique_values\": 19,\n        \"samples\": [\n          17,\n          7,\n          14\n        ],\n        \"semantic_type\": \"\",\n        \"description\": \"\"\n      }\n    },\n    {\n      \"column\": \"Spending Patterns\",\n      \"properties\": {\n        \"dtype\": \"number\",\n        \"std\": 1311.3659156619767,\n        \"min\": 500.5590900733376,\n        \"max\": 4994.352225083275,\n        \"num_unique_values\": 1000,\n        \"samples\": [\n          4132.922299069813,\n          4033.7195071172887,\n          1072.5416062657257\n        ],\n        \"semantic_type\": \"\",\n        \"description\": \"\"\n      }\n    },\n    {\n      \"column\": \"Online Transactions Frequency\",\n      \"properties\": {\n        \"dtype\": \"category\",\n        \"num_unique_values\": 3,\n        \"samples\": [\n          \"Low\",\n          \"Medium\",\n          \"High\"\n        ],\n        \"semantic_type\": \"\",\n        \"description\": \"\"\n      }\n    },\n    {\n      \"column\": \"Is Fraudulent\",\n      \"properties\": {\n        \"dtype\": \"number\",\n        \"std\": 0,\n        \"min\": 0,\n        \"max\": 1,\n        \"num_unique_values\": 2,\n        \"samples\": [\n          1,\n          0\n        ],\n        \"semantic_type\": \"\",\n        \"description\": \"\"\n      }\n    }\n  ]\n}"
            },
            "application/vnd.google.colaboratory.module+javascript": "\n      import \"https://ssl.gstatic.com/colaboratory/data_table/881c4a0d49046431/data_table.js\";\n\n      const table = window.createDataTable({\n        data: [[{\n            'v': 49,\n            'f': \"49\",\n        },\n{\n            'v': 656.9291233169529,\n            'f': \"656.9291233169529\",\n        },\n\"2023-01-01\",\n\"Debit\",\n\"Clothing\",\n\"US\",\n\"Mobile\",\n{\n            'v': 3,\n            'f': \"3\",\n        },\n{\n            'v': 8094.368818261077,\n            'f': \"8094.368818261077\",\n        },\n{\n            'v': 1,\n            'f': \"1\",\n        },\n{\n            'v': 0.0572817514476314,\n            'f': \"0.0572817514476314\",\n        },\n{\n            'v': 36,\n            'f': \"36\",\n        },\n{\n            'v': 109498.30245162857,\n            'f': \"109498.30245162857\",\n        },\n{\n            'v': 13126.098711213168,\n            'f': \"13126.098711213168\",\n        },\n{\n            'v': 300,\n            'f': \"300\",\n        },\n\"Bad\",\n{\n            'v': 17,\n            'f': \"17\",\n        },\n{\n            'v': 1176.854857812289,\n            'f': \"1176.854857812289\",\n        },\n\"Low\",\n{\n            'v': 0,\n            'f': \"0\",\n        }],\n [{\n            'v': 237,\n            'f': \"237\",\n        },\n{\n            'v': 631.7504222655048,\n            'f': \"631.7504222655048\",\n        },\n\"2023-01-01\",\n\"Debit\",\n\"Groceries\",\n\"UK\",\n\"Desktop\",\n{\n            'v': 9,\n            'f': \"9\",\n        },\n{\n            'v': 4115.014623558226,\n            'f': \"4115.014623558226\",\n        },\n{\n            'v': 2,\n            'f': \"2\",\n        },\n{\n            'v': 0.0265399823376456,\n            'f': \"0.0265399823376456\",\n        },\n{\n            'v': 55,\n            'f': \"55\",\n        },\n{\n            'v': 34253.59652004973,\n            'f': \"34253.59652004973\",\n        },\n{\n            'v': 5747.184222556749,\n            'f': \"5747.184222556749\",\n        },\n{\n            'v': 764,\n            'f': \"764\",\n        },\n\"Average\",\n{\n            'v': 11,\n            'f': \"11\",\n        },\n{\n            'v': 2237.0742525347114,\n            'f': \"2237.0742525347114\",\n        },\n\"Medium\",\n{\n            'v': 0,\n            'f': \"0\",\n        }]],\n        columns: [[\"number\", \"index\"], [\"number\", \"Amount\"], [\"string\", \"Date\"], [\"string\", \"Card Type\"], [\"string\", \"MCC Category\"], [\"string\", \"Location\"], [\"string\", \"Device\"], [\"number\", \"Previous Transactions\"], [\"number\", \"Balance Before Transaction\"], [\"number\", \"Time of Day\"], [\"number\", \"Velocity\"], [\"number\", \"Customer Age\"], [\"number\", \"Customer Income\"], [\"number\", \"Card Limit\"], [\"number\", \"Credit Score\"], [\"string\", \"Merchant Reputation\"], [\"number\", \"Merchant Location History\"], [\"number\", \"Spending Patterns\"], [\"string\", \"Online Transactions Frequency\"], [\"number\", \"Is Fraudulent\"]],\n        columnOptions: [{\"width\": \"1px\", \"className\": \"index_column\"}],\n        rowsPerPage: 25,\n        helpUrl: \"https://colab.research.google.com/notebooks/data_table.ipynb\",\n        suppressOutputScrolling: true,\n        minimumWidth: undefined,\n      });\n\n      function appendQuickchartButton(parentElement) {\n        let quickchartButtonContainerElement = document.createElement('div');\n        quickchartButtonContainerElement.innerHTML = `\n<div id=\"df-2a7af540-3f85-43ba-8398-f213819b9047\">\n  <button class=\"colab-df-quickchart\" onclick=\"quickchart('df-2a7af540-3f85-43ba-8398-f213819b9047')\"\n            title=\"Suggest charts\"\n            style=\"display:none;\">\n    \n<svg xmlns=\"http://www.w3.org/2000/svg\" height=\"24px\"viewBox=\"0 0 24 24\"\n     width=\"24px\">\n    <g>\n        <path d=\"M19 3H5c-1.1 0-2 .9-2 2v14c0 1.1.9 2 2 2h14c1.1 0 2-.9 2-2V5c0-1.1-.9-2-2-2zM9 17H7v-7h2v7zm4 0h-2V7h2v10zm4 0h-2v-4h2v4z\"/>\n    </g>\n</svg>\n  </button>\n  \n<style>\n  .colab-df-quickchart {\n      --bg-color: #E8F0FE;\n      --fill-color: #1967D2;\n      --hover-bg-color: #E2EBFA;\n      --hover-fill-color: #174EA6;\n      --disabled-fill-color: #AAA;\n      --disabled-bg-color: #DDD;\n  }\n\n  [theme=dark] .colab-df-quickchart {\n      --bg-color: #3B4455;\n      --fill-color: #D2E3FC;\n      --hover-bg-color: #434B5C;\n      --hover-fill-color: #FFFFFF;\n      --disabled-bg-color: #3B4455;\n      --disabled-fill-color: #666;\n  }\n\n  .colab-df-quickchart {\n    background-color: var(--bg-color);\n    border: none;\n    border-radius: 50%;\n    cursor: pointer;\n    display: none;\n    fill: var(--fill-color);\n    height: 32px;\n    padding: 0;\n    width: 32px;\n  }\n\n  .colab-df-quickchart:hover {\n    background-color: var(--hover-bg-color);\n    box-shadow: 0 1px 2px rgba(60, 64, 67, 0.3), 0 1px 3px 1px rgba(60, 64, 67, 0.15);\n    fill: var(--button-hover-fill-color);\n  }\n\n  .colab-df-quickchart-complete:disabled,\n  .colab-df-quickchart-complete:disabled:hover {\n    background-color: var(--disabled-bg-color);\n    fill: var(--disabled-fill-color);\n    box-shadow: none;\n  }\n\n  .colab-df-spinner {\n    border: 2px solid var(--fill-color);\n    border-color: transparent;\n    border-bottom-color: var(--fill-color);\n    animation:\n      spin 1s steps(1) infinite;\n  }\n\n  @keyframes spin {\n    0% {\n      border-color: transparent;\n      border-bottom-color: var(--fill-color);\n      border-left-color: var(--fill-color);\n    }\n    20% {\n      border-color: transparent;\n      border-left-color: var(--fill-color);\n      border-top-color: var(--fill-color);\n    }\n    30% {\n      border-color: transparent;\n      border-left-color: var(--fill-color);\n      border-top-color: var(--fill-color);\n      border-right-color: var(--fill-color);\n    }\n    40% {\n      border-color: transparent;\n      border-right-color: var(--fill-color);\n      border-top-color: var(--fill-color);\n    }\n    60% {\n      border-color: transparent;\n      border-right-color: var(--fill-color);\n    }\n    80% {\n      border-color: transparent;\n      border-right-color: var(--fill-color);\n      border-bottom-color: var(--fill-color);\n    }\n    90% {\n      border-color: transparent;\n      border-bottom-color: var(--fill-color);\n    }\n  }\n</style>\n\n  <script>\n    async function quickchart(key) {\n      const quickchartButtonEl =\n        document.querySelector('#' + key + ' button');\n      quickchartButtonEl.disabled = true;  // To prevent multiple clicks.\n      quickchartButtonEl.classList.add('colab-df-spinner');\n      try {\n        const charts = await google.colab.kernel.invokeFunction(\n            'suggestCharts', [key], {});\n      } catch (error) {\n        console.error('Error during call to suggestCharts:', error);\n      }\n      quickchartButtonEl.classList.remove('colab-df-spinner');\n      quickchartButtonEl.classList.add('colab-df-quickchart-complete');\n    }\n    (() => {\n      let quickchartButtonEl =\n        document.querySelector('#df-2a7af540-3f85-43ba-8398-f213819b9047 button');\n      quickchartButtonEl.style.display =\n        google.colab.kernel.accessAllowed ? 'block' : 'none';\n    })();\n  </script>\n</div>`;\n        parentElement.appendChild(quickchartButtonContainerElement);\n      }\n\n      appendQuickchartButton(table);\n    "
          },
          "metadata": {},
          "execution_count": 369
        }
      ],
      "source": [
        "df.head(2)"
      ]
    },
    {
      "cell_type": "markdown",
      "source": [
        "#### Class imbalance visualisation\n",
        "Class imbalance occurs when one class dominates the other in data distribution, e.g. <u>given financial transactions data has significantly more \"No\" (non-fraudulent transactions) than \"Yes\" (fraudulent) transactions suggesting clear class imbalance</u>.\n",
        "\n",
        "Models trained on massively imbalanced data tend to be biased towards the majority class as they try to minimize the overall error rate thus effectively ignoring the minority class. Such models may be good at predicting the majority class, but perform poorly on the minority class."
      ],
      "metadata": {
        "id": "RC99cqYTrpgQ"
      }
    },
    {
      "cell_type": "code",
      "source": [
        "# @title Class imbalance and imbalance visualisation\n",
        "def check_class_imbalance(df: pd.DataFrame, display_percent=True, display_count=True):\n",
        "    # Separate features (X) from target variable (y)\n",
        "    df['Is Fraudulent'] = df['Is Fraudulent'].map({0: 'No', 1: 'Yes'})\n",
        "    X = df.drop(\"Is Fraudulent\", axis=1)\n",
        "    y = df[\"Is Fraudulent\"]\n",
        "\n",
        "    X = encode_categorical_features(X)\n",
        "\n",
        "    plot_class_distribution(y)\n",
        "\n",
        "    # Display the class distribution percentages\n",
        "    if display_count:\n",
        "        print(\"Class Distribution:\")\n",
        "        print(df['Is Fraudulent'].value_counts())\n",
        "\n",
        "    if display_percent:\n",
        "        print(\"\\nClass Distribution Percentages:\")\n",
        "        print(df['Is Fraudulent'].value_counts(normalize=True) * 100)\n",
        "\n",
        "    # Convert the target variable back to numeric\n",
        "    y = y.map({'No': 0, 'Yes': 1})\n",
        "\n",
        "    # Merge the features and target variable back into a single dataframe\n",
        "    df = pd.concat([X, y], axis=1)\n",
        "\n",
        "    return df\n",
        "\n",
        "df = check_class_imbalance(df)"
      ],
      "metadata": {
        "colab": {
          "base_uri": "https://localhost:8080/",
          "height": 734
        },
        "id": "XFjHZzsT4FLh",
        "outputId": "a06565b8-da3e-4ebf-8dc6-0bb0715c27b7"
      },
      "execution_count": 370,
      "outputs": [
        {
          "output_type": "display_data",
          "data": {
            "text/plain": [
              "<Figure size 800x600 with 1 Axes>"
            ],
            "image/png": "[encoded data removed]"
          },
          "metadata": {}
        },
        {
          "output_type": "stream",
          "name": "stdout",
          "text": [
            "Class Distribution:\n",
            "No     947\n",
            "Yes     53\n",
            "Name: Is Fraudulent, dtype: int64\n",
            "\n",
            "Class Distribution Percentages:\n",
            "No     94.7\n",
            "Yes     5.3\n",
            "Name: Is Fraudulent, dtype: float64\n"
          ]
        }
      ]
    },
    {
      "cell_type": "markdown",
      "source": [],
      "metadata": {
        "id": "IRuM8oFK7a-j"
      }
    },
    {
      "cell_type": "markdown",
      "source": [
        "Observed **class imbalance** visualisation can be managed with Resampling:\n",
        "(i) Oversampling i.e. increasing the number of instances in the minority class\n",
        "Pros: (a) Improved model performance (b) Preserves information\n",
        "Cons: (a) Overfitting risk (b) Increased training time\n",
        "(ii) Undersampling i.e. reducing the number of instances in the majority class\n",
        "Pros: (a) Reduced overfitting risk (b) Faster training time\n",
        "Cons: (a) Loss of information (b) Risk of biased model (c) Potential Poor Performance on Majority Class (d) Sensitivity to sampling rate"
      ],
      "metadata": {
        "id": "ErYknADXljnn"
      }
    },
    {
      "cell_type": "code",
      "source": [
        "# @title Features engineering\n",
        "def feature_engineering(df: pd.DataFrame):\n",
        "    # Date related nominal features\n",
        "    df['DayOfWeek'] = pd.to_datetime(df['Date']).dt.day_name()\n",
        "    df['Month'] = pd.to_datetime(df['Date']).dt.month_name()\n",
        "\n",
        "    # Time of day looks redundant, so we drop it\n",
        "    df = df.drop(['Date'], axis=1)\n",
        "\n",
        "    return df\n",
        "\n",
        "df = feature_engineering(df)"
      ],
      "metadata": {
        "id": "CNn0UEqIQ0uH"
      },
      "execution_count": 371,
      "outputs": []
    },
    {
      "cell_type": "markdown",
      "source": [
        "#### Data visualizations and insights"
      ],
      "metadata": {
        "id": "XSrz6qqy5pLx"
      }
    },
    {
      "cell_type": "markdown",
      "source": [
        "Data frame summary is given by info( ) function. It gives total number of rows in the dataset, column names, respective data type for every column, and any missing value.\n",
        "\n",
        "From the output of info( ) function, we can see there is no NULL value in any column."
      ],
      "metadata": {
        "id": "KrwrZYD68czE"
      }
    },
    {
      "cell_type": "markdown",
      "source": [
        "##### Data schema and basic info"
      ],
      "metadata": {
        "id": "ePHqLQ5Wr9Zt"
      }
    },
    {
      "cell_type": "code",
      "source": [
        "df.info()"
      ],
      "metadata": {
        "colab": {
          "base_uri": "https://localhost:8080/"
        },
        "id": "-JoAASOl8JMs",
        "outputId": "01be1ce7-26ae-450a-f7e5-ab88173e97ca"
      },
      "execution_count": 372,
      "outputs": [
        {
          "output_type": "stream",
          "name": "stdout",
          "text": [
            "<class 'pandas.core.frame.DataFrame'>\n",
            "Int64Index: 1000 entries, 49 to 561\n",
            "Data columns (total 20 columns):\n",
            " #   Column                         Non-Null Count  Dtype  \n",
            "---  ------                         --------------  -----  \n",
            " 0   Amount                         1000 non-null   float64\n",
            " 1   Card Type                      1000 non-null   int64  \n",
            " 2   MCC Category                   1000 non-null   int64  \n",
            " 3   Location                       1000 non-null   int64  \n",
            " 4   Device                         1000 non-null   int64  \n",
            " 5   Previous Transactions          1000 non-null   int64  \n",
            " 6   Balance Before Transaction     1000 non-null   float64\n",
            " 7   Time of Day                    1000 non-null   int64  \n",
            " 8   Velocity                       1000 non-null   float64\n",
            " 9   Customer Age                   1000 non-null   int64  \n",
            " 10  Customer Income                1000 non-null   float64\n",
            " 11  Card Limit                     1000 non-null   float64\n",
            " 12  Credit Score                   1000 non-null   int64  \n",
            " 13  Merchant Reputation            1000 non-null   int64  \n",
            " 14  Merchant Location History      1000 non-null   int64  \n",
            " 15  Spending Patterns              1000 non-null   float64\n",
            " 16  Online Transactions Frequency  1000 non-null   int64  \n",
            " 17  Is Fraudulent                  1000 non-null   int64  \n",
            " 18  DayOfWeek                      1000 non-null   object \n",
            " 19  Month                          1000 non-null   object \n",
            "dtypes: float64(6), int64(12), object(2)\n",
            "memory usage: 196.4+ KB\n"
          ]
        }
      ]
    },
    {
      "cell_type": "markdown",
      "source": [
        "##### Data description\n",
        "<ul>\n",
        "<li> <u>describe()</u> gives quick overview of numeric variables, it computes summary statistics for numerical columns e.g. 25-percentile, mean, median and others.</li>\n",
        "<li>**count** row in table below <u>shows number of non-missing values in each column</u>. Since, every column has a count of 1000 in output about <u>we conclude</u> that <u>there is no missing value in any column</u>.</li>\n",
        "<li><u>include = 'all'</u> ensures that <u>categorical features are also included</u> in the result.<li></ul>"
      ],
      "metadata": {
        "id": "zqVBwNHMsWPl"
      }
    },
    {
      "cell_type": "code",
      "source": [
        "df.describe(include=\"all\")"
      ],
      "metadata": {
        "colab": {
          "base_uri": "https://localhost:8080/",
          "height": 358
        },
        "id": "S_wQyvxK8TIZ",
        "outputId": "b530365f-db76-4b19-f49d-784ea8ec2ef0"
      },
      "execution_count": 373,
      "outputs": [
        {
          "output_type": "execute_result",
          "data": {
            "text/plain": [
              "             Amount    Card Type  MCC Category     Location      Device  \\\n",
              "count   1000.000000  1000.000000   1000.000000  1000.000000  1000.00000   \n",
              "unique          NaN          NaN           NaN          NaN         NaN   \n",
              "top             NaN          NaN           NaN          NaN         NaN   \n",
              "freq            NaN          NaN           NaN          NaN         NaN   \n",
              "mean     520.177431     0.965000      3.127000     2.043000     0.98400   \n",
              "std      279.342434     0.818807      2.018154     1.444035     0.81634   \n",
              "min       10.456991     0.000000      0.000000     0.000000     0.00000   \n",
              "25%      277.978547     0.000000      1.000000     1.000000     0.00000   \n",
              "50%      546.816714     1.000000      3.000000     2.000000     1.00000   \n",
              "75%      760.074571     2.000000      5.000000     3.000000     2.00000   \n",
              "max      996.689893     2.000000      6.000000     4.000000     2.00000   \n",
              "\n",
              "        Previous Transactions  Balance Before Transaction  Time of Day  \\\n",
              "count             1000.000000                 1000.000000  1000.000000   \n",
              "unique                    NaN                         NaN          NaN   \n",
              "top                       NaN                         NaN          NaN   \n",
              "freq                      NaN                         NaN          NaN   \n",
              "mean                 4.399000                 4975.500335    11.425000   \n",
              "std                  2.828745                 2841.249947     6.834697   \n",
              "min                  0.000000                  123.460877     0.000000   \n",
              "25%                  2.000000                 2435.129681     5.000000   \n",
              "50%                  4.000000                 4794.595477    11.000000   \n",
              "75%                  7.000000                 7384.965602    17.000000   \n",
              "max                  9.000000                 9975.859154    23.000000   \n",
              "\n",
              "           Velocity  Customer Age  Customer Income    Card Limit  \\\n",
              "count   1000.000000   1000.000000      1000.000000   1000.000000   \n",
              "unique          NaN           NaN              NaN           NaN   \n",
              "top             NaN           NaN              NaN           NaN   \n",
              "freq            NaN           NaN              NaN           NaN   \n",
              "mean       0.000316     49.432000     82963.616616  10474.007101   \n",
              "std        0.296206     17.332853     37021.434932   5734.063838   \n",
              "min       -0.499891     20.000000     20084.715403    526.910912   \n",
              "25%       -0.256706     35.000000     51725.434929   5287.512915   \n",
              "50%       -0.011424     50.000000     81693.952416  10569.195493   \n",
              "75%        0.277094     64.000000    113430.363544  15474.888341   \n",
              "max        0.499943     79.000000    149895.777624  19978.439668   \n",
              "\n",
              "        Credit Score  Merchant Reputation  Merchant Location History  \\\n",
              "count      1000.0000          1000.000000                1000.000000   \n",
              "unique           NaN                  NaN                        NaN   \n",
              "top              NaN                  NaN                        NaN   \n",
              "freq             NaN                  NaN                        NaN   \n",
              "mean        575.5080             0.996000                   9.754000   \n",
              "std         156.4581             0.806619                   5.395238   \n",
              "min         300.0000             0.000000                   1.000000   \n",
              "25%         441.5000             0.000000                   5.000000   \n",
              "50%         574.5000             1.000000                  10.000000   \n",
              "75%         715.5000             2.000000                  14.000000   \n",
              "max         849.0000             2.000000                  19.000000   \n",
              "\n",
              "        Spending Patterns  Online Transactions Frequency  Is Fraudulent  \\\n",
              "count         1000.000000                    1000.000000    1000.000000   \n",
              "unique                NaN                            NaN            NaN   \n",
              "top                   NaN                            NaN            NaN   \n",
              "freq                  NaN                            NaN            NaN   \n",
              "mean          2746.678736                       1.025000       0.053000   \n",
              "std           1311.365916                       0.813041       0.224146   \n",
              "min            500.559090                       0.000000       0.000000   \n",
              "25%           1561.576868                       0.000000       0.000000   \n",
              "50%           2839.222191                       1.000000       0.000000   \n",
              "75%           3860.482775                       2.000000       0.000000   \n",
              "max           4994.352225                       2.000000       1.000000   \n",
              "\n",
              "       DayOfWeek    Month  \n",
              "count       1000     1000  \n",
              "unique         1        1  \n",
              "top     Thursday  January  \n",
              "freq        1000     1000  \n",
              "mean         NaN      NaN  \n",
              "std          NaN      NaN  \n",
              "min          NaN      NaN  \n",
              "25%          NaN      NaN  \n",
              "50%          NaN      NaN  \n",
              "75%          NaN      NaN  \n",
              "max          NaN      NaN  "
            ],
            "text/html": [
              "\n",
              "  <div id=\"df-934eeab6-f0c3-4b19-90fb-c6d727bfda55\" class=\"colab-df-container\">\n",
              "    <div>\n",
              "<style scoped>\n",
              "    .dataframe tbody tr th:only-of-type {\n",
              "        vertical-align: middle;\n",
              "    }\n",
              "\n",
              "    .dataframe tbody tr th {\n",
              "        vertical-align: top;\n",
              "    }\n",
              "\n",
              "    .dataframe thead th {\n",
              "        text-align: right;\n",
              "    }\n",
              "</style>\n",
              "<table border=\"1\" class=\"dataframe\">\n",
              "  <thead>\n",
              "    <tr style=\"text-align: right;\">\n",
              "      <th></th>\n",
              "      <th>Amount</th>\n",
              "      <th>Card Type</th>\n",
              "      <th>MCC Category</th>\n",
              "      <th>Location</th>\n",
              "      <th>Device</th>\n",
              "      <th>Previous Transactions</th>\n",
              "      <th>Balance Before Transaction</th>\n",
              "      <th>Time of Day</th>\n",
              "      <th>Velocity</th>\n",
              "      <th>Customer Age</th>\n",
              "      <th>Customer Income</th>\n",
              "      <th>Card Limit</th>\n",
              "      <th>Credit Score</th>\n",
              "      <th>Merchant Reputation</th>\n",
              "      <th>Merchant Location History</th>\n",
              "      <th>Spending Patterns</th>\n",
              "      <th>Online Transactions Frequency</th>\n",
              "      <th>Is Fraudulent</th>\n",
              "      <th>DayOfWeek</th>\n",
              "      <th>Month</th>\n",
              "    </tr>\n",
              "  </thead>\n",
              "  <tbody>\n",
              "    <tr>\n",
              "      <th>count</th>\n",
              "      <td>1000.000000</td>\n",
              "      <td>1000.000000</td>\n",
              "      <td>1000.000000</td>\n",
              "      <td>1000.000000</td>\n",
              "      <td>1000.00000</td>\n",
              "      <td>1000.000000</td>\n",
              "      <td>1000.000000</td>\n",
              "      <td>1000.000000</td>\n",
              "      <td>1000.000000</td>\n",
              "      <td>1000.000000</td>\n",
              "      <td>1000.000000</td>\n",
              "      <td>1000.000000</td>\n",
              "      <td>1000.0000</td>\n",
              "      <td>1000.000000</td>\n",
              "      <td>1000.000000</td>\n",
              "      <td>1000.000000</td>\n",
              "      <td>1000.000000</td>\n",
              "      <td>1000.000000</td>\n",
              "      <td>1000</td>\n",
              "      <td>1000</td>\n",
              "    </tr>\n",
              "    <tr>\n",
              "      <th>unique</th>\n",
              "      <td>NaN</td>\n",
              "      <td>NaN</td>\n",
              "      <td>NaN</td>\n",
              "      <td>NaN</td>\n",
              "      <td>NaN</td>\n",
              "      <td>NaN</td>\n",
              "      <td>NaN</td>\n",
              "      <td>NaN</td>\n",
              "      <td>NaN</td>\n",
              "      <td>NaN</td>\n",
              "      <td>NaN</td>\n",
              "      <td>NaN</td>\n",
              "      <td>NaN</td>\n",
              "      <td>NaN</td>\n",
              "      <td>NaN</td>\n",
              "      <td>NaN</td>\n",
              "      <td>NaN</td>\n",
              "      <td>NaN</td>\n",
              "      <td>1</td>\n",
              "      <td>1</td>\n",
              "    </tr>\n",
              "    <tr>\n",
              "      <th>top</th>\n",
              "      <td>NaN</td>\n",
              "      <td>NaN</td>\n",
              "      <td>NaN</td>\n",
              "      <td>NaN</td>\n",
              "      <td>NaN</td>\n",
              "      <td>NaN</td>\n",
              "      <td>NaN</td>\n",
              "      <td>NaN</td>\n",
              "      <td>NaN</td>\n",
              "      <td>NaN</td>\n",
              "      <td>NaN</td>\n",
              "      <td>NaN</td>\n",
              "      <td>NaN</td>\n",
              "      <td>NaN</td>\n",
              "      <td>NaN</td>\n",
              "      <td>NaN</td>\n",
              "      <td>NaN</td>\n",
              "      <td>NaN</td>\n",
              "      <td>Thursday</td>\n",
              "      <td>January</td>\n",
              "    </tr>\n",
              "    <tr>\n",
              "      <th>freq</th>\n",
              "      <td>NaN</td>\n",
              "      <td>NaN</td>\n",
              "      <td>NaN</td>\n",
              "      <td>NaN</td>\n",
              "      <td>NaN</td>\n",
              "      <td>NaN</td>\n",
              "      <td>NaN</td>\n",
              "      <td>NaN</td>\n",
              "      <td>NaN</td>\n",
              "      <td>NaN</td>\n",
              "      <td>NaN</td>\n",
              "      <td>NaN</td>\n",
              "      <td>NaN</td>\n",
              "      <td>NaN</td>\n",
              "      <td>NaN</td>\n",
              "      <td>NaN</td>\n",
              "      <td>NaN</td>\n",
              "      <td>NaN</td>\n",
              "      <td>1000</td>\n",
              "      <td>1000</td>\n",
              "    </tr>\n",
              "    <tr>\n",
              "      <th>mean</th>\n",
              "      <td>520.177431</td>\n",
              "      <td>0.965000</td>\n",
              "      <td>3.127000</td>\n",
              "      <td>2.043000</td>\n",
              "      <td>0.98400</td>\n",
              "      <td>4.399000</td>\n",
              "      <td>4975.500335</td>\n",
              "      <td>11.425000</td>\n",
              "      <td>0.000316</td>\n",
              "      <td>49.432000</td>\n",
              "      <td>82963.616616</td>\n",
              "      <td>10474.007101</td>\n",
              "      <td>575.5080</td>\n",
              "      <td>0.996000</td>\n",
              "      <td>9.754000</td>\n",
              "      <td>2746.678736</td>\n",
              "      <td>1.025000</td>\n",
              "      <td>0.053000</td>\n",
              "      <td>NaN</td>\n",
              "      <td>NaN</td>\n",
              "    </tr>\n",
              "    <tr>\n",
              "      <th>std</th>\n",
              "      <td>279.342434</td>\n",
              "      <td>0.818807</td>\n",
              "      <td>2.018154</td>\n",
              "      <td>1.444035</td>\n",
              "      <td>0.81634</td>\n",
              "      <td>2.828745</td>\n",
              "      <td>2841.249947</td>\n",
              "      <td>6.834697</td>\n",
              "      <td>0.296206</td>\n",
              "      <td>17.332853</td>\n",
              "      <td>37021.434932</td>\n",
              "      <td>5734.063838</td>\n",
              "      <td>156.4581</td>\n",
              "      <td>0.806619</td>\n",
              "      <td>5.395238</td>\n",
              "      <td>1311.365916</td>\n",
              "      <td>0.813041</td>\n",
              "      <td>0.224146</td>\n",
              "      <td>NaN</td>\n",
              "      <td>NaN</td>\n",
              "    </tr>\n",
              "    <tr>\n",
              "      <th>min</th>\n",
              "      <td>10.456991</td>\n",
              "      <td>0.000000</td>\n",
              "      <td>0.000000</td>\n",
              "      <td>0.000000</td>\n",
              "      <td>0.00000</td>\n",
              "      <td>0.000000</td>\n",
              "      <td>123.460877</td>\n",
              "      <td>0.000000</td>\n",
              "      <td>-0.499891</td>\n",
              "      <td>20.000000</td>\n",
              "      <td>20084.715403</td>\n",
              "      <td>526.910912</td>\n",
              "      <td>300.0000</td>\n",
              "      <td>0.000000</td>\n",
              "      <td>1.000000</td>\n",
              "      <td>500.559090</td>\n",
              "      <td>0.000000</td>\n",
              "      <td>0.000000</td>\n",
              "      <td>NaN</td>\n",
              "      <td>NaN</td>\n",
              "    </tr>\n",
              "    <tr>\n",
              "      <th>25%</th>\n",
              "      <td>277.978547</td>\n",
              "      <td>0.000000</td>\n",
              "      <td>1.000000</td>\n",
              "      <td>1.000000</td>\n",
              "      <td>0.00000</td>\n",
              "      <td>2.000000</td>\n",
              "      <td>2435.129681</td>\n",
              "      <td>5.000000</td>\n",
              "      <td>-0.256706</td>\n",
              "      <td>35.000000</td>\n",
              "      <td>51725.434929</td>\n",
              "      <td>5287.512915</td>\n",
              "      <td>441.5000</td>\n",
              "      <td>0.000000</td>\n",
              "      <td>5.000000</td>\n",
              "      <td>1561.576868</td>\n",
              "      <td>0.000000</td>\n",
              "      <td>0.000000</td>\n",
              "      <td>NaN</td>\n",
              "      <td>NaN</td>\n",
              "    </tr>\n",
              "    <tr>\n",
              "      <th>50%</th>\n",
              "      <td>546.816714</td>\n",
              "      <td>1.000000</td>\n",
              "      <td>3.000000</td>\n",
              "      <td>2.000000</td>\n",
              "      <td>1.00000</td>\n",
              "      <td>4.000000</td>\n",
              "      <td>4794.595477</td>\n",
              "      <td>11.000000</td>\n",
              "      <td>-0.011424</td>\n",
              "      <td>50.000000</td>\n",
              "      <td>81693.952416</td>\n",
              "      <td>10569.195493</td>\n",
              "      <td>574.5000</td>\n",
              "      <td>1.000000</td>\n",
              "      <td>10.000000</td>\n",
              "      <td>2839.222191</td>\n",
              "      <td>1.000000</td>\n",
              "      <td>0.000000</td>\n",
              "      <td>NaN</td>\n",
              "      <td>NaN</td>\n",
              "    </tr>\n",
              "    <tr>\n",
              "      <th>75%</th>\n",
              "      <td>760.074571</td>\n",
              "      <td>2.000000</td>\n",
              "      <td>5.000000</td>\n",
              "      <td>3.000000</td>\n",
              "      <td>2.00000</td>\n",
              "      <td>7.000000</td>\n",
              "      <td>7384.965602</td>\n",
              "      <td>17.000000</td>\n",
              "      <td>0.277094</td>\n",
              "      <td>64.000000</td>\n",
              "      <td>113430.363544</td>\n",
              "      <td>15474.888341</td>\n",
              "      <td>715.5000</td>\n",
              "      <td>2.000000</td>\n",
              "      <td>14.000000</td>\n",
              "      <td>3860.482775</td>\n",
              "      <td>2.000000</td>\n",
              "      <td>0.000000</td>\n",
              "      <td>NaN</td>\n",
              "      <td>NaN</td>\n",
              "    </tr>\n",
              "    <tr>\n",
              "      <th>max</th>\n",
              "      <td>996.689893</td>\n",
              "      <td>2.000000</td>\n",
              "      <td>6.000000</td>\n",
              "      <td>4.000000</td>\n",
              "      <td>2.00000</td>\n",
              "      <td>9.000000</td>\n",
              "      <td>9975.859154</td>\n",
              "      <td>23.000000</td>\n",
              "      <td>0.499943</td>\n",
              "      <td>79.000000</td>\n",
              "      <td>149895.777624</td>\n",
              "      <td>19978.439668</td>\n",
              "      <td>849.0000</td>\n",
              "      <td>2.000000</td>\n",
              "      <td>19.000000</td>\n",
              "      <td>4994.352225</td>\n",
              "      <td>2.000000</td>\n",
              "      <td>1.000000</td>\n",
              "      <td>NaN</td>\n",
              "      <td>NaN</td>\n",
              "    </tr>\n",
              "  </tbody>\n",
              "</table>\n",
              "</div>\n",
              "    <div class=\"colab-df-buttons\">\n",
              "\n",
              "  <div class=\"colab-df-container\">\n",
              "    <button class=\"colab-df-convert\" onclick=\"convertToInteractive('df-934eeab6-f0c3-4b19-90fb-c6d727bfda55')\"\n",
              "            title=\"Convert this dataframe to an interactive table.\"\n",
              "            style=\"display:none;\">\n",
              "\n",
              "  <svg xmlns=\"http://www.w3.org/2000/svg\" height=\"24px\" viewBox=\"0 -960 960 960\">\n",
              "    <path d=\"M120-120v-720h720v720H120Zm60-500h600v-160H180v160Zm220 220h160v-160H400v160Zm0 220h160v-160H400v160ZM180-400h160v-160H180v160Zm440 0h160v-160H620v160ZM180-180h160v-160H180v160Zm440 0h160v-160H620v160Z\"/>\n",
              "  </svg>\n",
              "    </button>\n",
              "\n",
              "  <style>\n",
              "    .colab-df-container {\n",
              "      display:flex;\n",
              "      gap: 12px;\n",
              "    }\n",
              "\n",
              "    .colab-df-convert {\n",
              "      background-color: #E8F0FE;\n",
              "      border: none;\n",
              "      border-radius: 50%;\n",
              "      cursor: pointer;\n",
              "      display: none;\n",
              "      fill: #1967D2;\n",
              "      height: 32px;\n",
              "      padding: 0 0 0 0;\n",
              "      width: 32px;\n",
              "    }\n",
              "\n",
              "    .colab-df-convert:hover {\n",
              "      background-color: #E2EBFA;\n",
              "      box-shadow: 0px 1px 2px rgba(60, 64, 67, 0.3), 0px 1px 3px 1px rgba(60, 64, 67, 0.15);\n",
              "      fill: #174EA6;\n",
              "    }\n",
              "\n",
              "    .colab-df-buttons div {\n",
              "      margin-bottom: 4px;\n",
              "    }\n",
              "\n",
              "    [theme=dark] .colab-df-convert {\n",
              "      background-color: #3B4455;\n",
              "      fill: #D2E3FC;\n",
              "    }\n",
              "\n",
              "    [theme=dark] .colab-df-convert:hover {\n",
              "      background-color: #434B5C;\n",
              "      box-shadow: 0px 1px 3px 1px rgba(0, 0, 0, 0.15);\n",
              "      filter: drop-shadow(0px 1px 2px rgba(0, 0, 0, 0.3));\n",
              "      fill: #FFFFFF;\n",
              "    }\n",
              "  </style>\n",
              "\n",
              "    <script>\n",
              "      const buttonEl =\n",
              "        document.querySelector('#df-934eeab6-f0c3-4b19-90fb-c6d727bfda55 button.colab-df-convert');\n",
              "      buttonEl.style.display =\n",
              "        google.colab.kernel.accessAllowed ? 'block' : 'none';\n",
              "\n",
              "      async function convertToInteractive(key) {\n",
              "        const element = document.querySelector('#df-934eeab6-f0c3-4b19-90fb-c6d727bfda55');\n",
              "        const dataTable =\n",
              "          await google.colab.kernel.invokeFunction('convertToInteractive',\n",
              "                                                    [key], {});\n",
              "        if (!dataTable) return;\n",
              "\n",
              "        const docLinkHtml = 'Like what you see? Visit the ' +\n",
              "          '<a target=\"_blank\" href=https://colab.research.google.com/notebooks/data_table.ipynb>data table notebook</a>'\n",
              "          + ' to learn more about interactive tables.';\n",
              "        element.innerHTML = '';\n",
              "        dataTable['output_type'] = 'display_data';\n",
              "        await google.colab.output.renderOutput(dataTable, element);\n",
              "        const docLink = document.createElement('div');\n",
              "        docLink.innerHTML = docLinkHtml;\n",
              "        element.appendChild(docLink);\n",
              "      }\n",
              "    </script>\n",
              "  </div>\n",
              "\n",
              "\n",
              "<div id=\"df-f136bfb8-451e-4eb1-bc5e-6cfff86a1915\">\n",
              "  <button class=\"colab-df-quickchart\" onclick=\"quickchart('df-f136bfb8-451e-4eb1-bc5e-6cfff86a1915')\"\n",
              "            title=\"Suggest charts\"\n",
              "            style=\"display:none;\">\n",
              "\n",
              "<svg xmlns=\"http://www.w3.org/2000/svg\" height=\"24px\"viewBox=\"0 0 24 24\"\n",
              "     width=\"24px\">\n",
              "    <g>\n",
              "        <path d=\"M19 3H5c-1.1 0-2 .9-2 2v14c0 1.1.9 2 2 2h14c1.1 0 2-.9 2-2V5c0-1.1-.9-2-2-2zM9 17H7v-7h2v7zm4 0h-2V7h2v10zm4 0h-2v-4h2v4z\"/>\n",
              "    </g>\n",
              "</svg>\n",
              "  </button>\n",
              "\n",
              "<style>\n",
              "  .colab-df-quickchart {\n",
              "      --bg-color: #E8F0FE;\n",
              "      --fill-color: #1967D2;\n",
              "      --hover-bg-color: #E2EBFA;\n",
              "      --hover-fill-color: #174EA6;\n",
              "      --disabled-fill-color: #AAA;\n",
              "      --disabled-bg-color: #DDD;\n",
              "  }\n",
              "\n",
              "  [theme=dark] .colab-df-quickchart {\n",
              "      --bg-color: #3B4455;\n",
              "      --fill-color: #D2E3FC;\n",
              "      --hover-bg-color: #434B5C;\n",
              "      --hover-fill-color: #FFFFFF;\n",
              "      --disabled-bg-color: #3B4455;\n",
              "      --disabled-fill-color: #666;\n",
              "  }\n",
              "\n",
              "  .colab-df-quickchart {\n",
              "    background-color: var(--bg-color);\n",
              "    border: none;\n",
              "    border-radius: 50%;\n",
              "    cursor: pointer;\n",
              "    display: none;\n",
              "    fill: var(--fill-color);\n",
              "    height: 32px;\n",
              "    padding: 0;\n",
              "    width: 32px;\n",
              "  }\n",
              "\n",
              "  .colab-df-quickchart:hover {\n",
              "    background-color: var(--hover-bg-color);\n",
              "    box-shadow: 0 1px 2px rgba(60, 64, 67, 0.3), 0 1px 3px 1px rgba(60, 64, 67, 0.15);\n",
              "    fill: var(--button-hover-fill-color);\n",
              "  }\n",
              "\n",
              "  .colab-df-quickchart-complete:disabled,\n",
              "  .colab-df-quickchart-complete:disabled:hover {\n",
              "    background-color: var(--disabled-bg-color);\n",
              "    fill: var(--disabled-fill-color);\n",
              "    box-shadow: none;\n",
              "  }\n",
              "\n",
              "  .colab-df-spinner {\n",
              "    border: 2px solid var(--fill-color);\n",
              "    border-color: transparent;\n",
              "    border-bottom-color: var(--fill-color);\n",
              "    animation:\n",
              "      spin 1s steps(1) infinite;\n",
              "  }\n",
              "\n",
              "  @keyframes spin {\n",
              "    0% {\n",
              "      border-color: transparent;\n",
              "      border-bottom-color: var(--fill-color);\n",
              "      border-left-color: var(--fill-color);\n",
              "    }\n",
              "    20% {\n",
              "      border-color: transparent;\n",
              "      border-left-color: var(--fill-color);\n",
              "      border-top-color: var(--fill-color);\n",
              "    }\n",
              "    30% {\n",
              "      border-color: transparent;\n",
              "      border-left-color: var(--fill-color);\n",
              "      border-top-color: var(--fill-color);\n",
              "      border-right-color: var(--fill-color);\n",
              "    }\n",
              "    40% {\n",
              "      border-color: transparent;\n",
              "      border-right-color: var(--fill-color);\n",
              "      border-top-color: var(--fill-color);\n",
              "    }\n",
              "    60% {\n",
              "      border-color: transparent;\n",
              "      border-right-color: var(--fill-color);\n",
              "    }\n",
              "    80% {\n",
              "      border-color: transparent;\n",
              "      border-right-color: var(--fill-color);\n",
              "      border-bottom-color: var(--fill-color);\n",
              "    }\n",
              "    90% {\n",
              "      border-color: transparent;\n",
              "      border-bottom-color: var(--fill-color);\n",
              "    }\n",
              "  }\n",
              "</style>\n",
              "\n",
              "  <script>\n",
              "    async function quickchart(key) {\n",
              "      const quickchartButtonEl =\n",
              "        document.querySelector('#' + key + ' button');\n",
              "      quickchartButtonEl.disabled = true;  // To prevent multiple clicks.\n",
              "      quickchartButtonEl.classList.add('colab-df-spinner');\n",
              "      try {\n",
              "        const charts = await google.colab.kernel.invokeFunction(\n",
              "            'suggestCharts', [key], {});\n",
              "      } catch (error) {\n",
              "        console.error('Error during call to suggestCharts:', error);\n",
              "      }\n",
              "      quickchartButtonEl.classList.remove('colab-df-spinner');\n",
              "      quickchartButtonEl.classList.add('colab-df-quickchart-complete');\n",
              "    }\n",
              "    (() => {\n",
              "      let quickchartButtonEl =\n",
              "        document.querySelector('#df-f136bfb8-451e-4eb1-bc5e-6cfff86a1915 button');\n",
              "      quickchartButtonEl.style.display =\n",
              "        google.colab.kernel.accessAllowed ? 'block' : 'none';\n",
              "    })();\n",
              "  </script>\n",
              "</div>\n",
              "    </div>\n",
              "  </div>\n"
            ],
            "application/vnd.google.colaboratory.intrinsic+json": {
              "type": "dataframe",
              "summary": "{\n  \"name\": \"df\",\n  \"rows\": 11,\n  \"fields\": [\n    {\n      \"column\": \"Amount\",\n      \"properties\": {\n        \"dtype\": \"number\",\n        \"std\": 355.6506308934229,\n        \"min\": 10.456990977145551,\n        \"max\": 1000.0,\n        \"num_unique_values\": 8,\n        \"samples\": [\n          520.177430970136,\n          546.816714015564,\n          1000.0\n        ],\n        \"semantic_type\": \"\",\n        \"description\": \"\"\n      }\n    },\n    {\n      \"column\": \"Card Type\",\n      \"properties\": {\n        \"dtype\": \"number\",\n        \"std\": 353.21157102313845,\n        \"min\": 0.0,\n        \"max\": 1000.0,\n        \"num_unique_values\": 6,\n        \"samples\": [\n          1000.0,\n          0.965,\n          2.0\n        ],\n        \"semantic_type\": \"\",\n        \"description\": \"\"\n      }\n    },\n    {\n      \"column\": \"MCC Category\",\n      \"properties\": {\n        \"dtype\": \"number\",\n        \"std\": 352.54135203685837,\n        \"min\": 0.0,\n        \"max\": 1000.0,\n        \"num_unique_values\": 8,\n        \"samples\": [\n          3.127,\n          3.0,\n          1000.0\n        ],\n        \"semantic_type\": \"\",\n        \"description\": \"\"\n      }\n    },\n    {\n      \"column\": \"Location\",\n      \"properties\": {\n        \"dtype\": \"number\",\n        \"std\": 352.87427200374907,\n        \"min\": 0.0,\n        \"max\": 1000.0,\n        \"num_unique_values\": 8,\n        \"samples\": [\n          2.043,\n          2.0,\n          1000.0\n        ],\n        \"semantic_type\": \"\",\n        \"description\": \"\"\n      }\n    },\n    {\n      \"column\": \"Device\",\n      \"properties\": {\n        \"dtype\": \"number\",\n        \"std\": 353.2107362020201,\n        \"min\": 0.0,\n        \"max\": 1000.0,\n        \"num_unique_values\": 6,\n        \"samples\": [\n          1000.0,\n          0.984,\n          2.0\n        ],\n        \"semantic_type\": \"\",\n        \"description\": \"\"\n      }\n    },\n    {\n      \"column\": \"Previous Transactions\",\n      \"properties\": {\n        \"dtype\": \"number\",\n        \"std\": 352.0883886595612,\n        \"min\": 0.0,\n        \"max\": 1000.0,\n        \"num_unique_values\": 8,\n        \"samples\": [\n          4.399,\n          4.0,\n          1000.0\n        ],\n        \"semantic_type\": \"\",\n        \"description\": \"\"\n      }\n    },\n    {\n      \"column\": \"Balance Before Transaction\",\n      \"properties\": {\n        \"dtype\": \"number\",\n        \"std\": 3301.0396701752875,\n        \"min\": 123.46087678511972,\n        \"max\": 9975.85915441606,\n        \"num_unique_values\": 8,\n        \"samples\": [\n          4975.500335120997,\n          4794.595477210722,\n          1000.0\n        ],\n        \"semantic_type\": \"\",\n        \"description\": \"\"\n      }\n    },\n    {\n      \"column\": \"Time of Day\",\n      \"properties\": {\n        \"dtype\": \"number\",\n        \"std\": 349.87487692845536,\n        \"min\": 0.0,\n        \"max\": 1000.0,\n        \"num_unique_values\": 8,\n        \"samples\": [\n          11.425,\n          11.0,\n          1000.0\n        ],\n        \"semantic_type\": \"\",\n        \"description\": \"\"\n      }\n    },\n    {\n      \"column\": \"Velocity\",\n      \"properties\": {\n        \"dtype\": \"number\",\n        \"std\": 353.53810353427883,\n        \"min\": -0.4998914916428443,\n        \"max\": 1000.0,\n        \"num_unique_values\": 8,\n        \"samples\": [\n          0.0003156829853831091,\n          -0.01142441262969815,\n          1000.0\n        ],\n        \"semantic_type\": \"\",\n        \"description\": \"\"\n      }\n    },\n    {\n      \"column\": \"Customer Age\",\n      \"properties\": {\n        \"dtype\": \"number\",\n        \"std\": 338.3003996853737,\n        \"min\": 17.332853308206467,\n        \"max\": 1000.0,\n        \"num_unique_values\": 8,\n        \"samples\": [\n          49.432,\n          50.0,\n          1000.0\n        ],\n        \"semantic_type\": \"\",\n        \"description\": \"\"\n      }\n    },\n    {\n      \"column\": \"Customer Income\",\n      \"properties\": {\n        \"dtype\": \"number\",\n        \"std\": 49550.69066555359,\n        \"min\": 1000.0,\n        \"max\": 149895.77762414375,\n        \"num_unique_values\": 8,\n        \"samples\": [\n          82963.6166155467,\n          81693.95241632251,\n          1000.0\n        ],\n        \"semantic_type\": \"\",\n        \"description\": \"\"\n      }\n    },\n    {\n      \"column\": \"Card Limit\",\n      \"properties\": {\n        \"dtype\": \"number\",\n        \"std\": 6826.796324982151,\n        \"min\": 526.9109117307208,\n        \"max\": 19978.43966842985,\n        \"num_unique_values\": 8,\n        \"samples\": [\n          10474.007100632074,\n          10569.195492571776,\n          1000.0\n        ],\n        \"semantic_type\": \"\",\n        \"description\": \"\"\n      }\n    },\n    {\n      \"column\": \"Credit Score\",\n      \"properties\": {\n        \"dtype\": \"number\",\n        \"std\": 278.78483885210755,\n        \"min\": 156.4581000558075,\n        \"max\": 1000.0,\n        \"num_unique_values\": 8,\n        \"samples\": [\n          575.508,\n          574.5,\n          1000.0\n        ],\n        \"semantic_type\": \"\",\n        \"description\": \"\"\n      }\n    },\n    {\n      \"column\": \"Merchant Reputation\",\n      \"properties\": {\n        \"dtype\": \"number\",\n        \"std\": 353.21062178281227,\n        \"min\": 0.0,\n        \"max\": 1000.0,\n        \"num_unique_values\": 6,\n        \"samples\": [\n          1000.0,\n          0.996,\n          2.0\n        ],\n        \"semantic_type\": \"\",\n        \"description\": \"\"\n      }\n    },\n    {\n      \"column\": \"Merchant Location History\",\n      \"properties\": {\n        \"dtype\": \"number\",\n        \"std\": 350.358092126272,\n        \"min\": 1.0,\n        \"max\": 1000.0,\n        \"num_unique_values\": 8,\n        \"samples\": [\n          9.754,\n          10.0,\n          1000.0\n        ],\n        \"semantic_type\": \"\",\n        \"description\": \"\"\n      }\n    },\n    {\n      \"column\": \"Spending Patterns\",\n      \"properties\": {\n        \"dtype\": \"number\",\n        \"std\": 1540.5994849997896,\n        \"min\": 500.5590900733376,\n        \"max\": 4994.352225083275,\n        \"num_unique_values\": 8,\n        \"samples\": [\n          2746.6787361524525,\n          2839.222191291903,\n          1000.0\n        ],\n        \"semantic_type\": \"\",\n        \"description\": \"\"\n      }\n    },\n    {\n      \"column\": \"Online Transactions Frequency\",\n      \"properties\": {\n        \"dtype\": \"number\",\n        \"std\": 353.20883270452,\n        \"min\": 0.0,\n        \"max\": 1000.0,\n        \"num_unique_values\": 6,\n        \"samples\": [\n          1000.0,\n          1.025,\n          2.0\n        ],\n        \"semantic_type\": \"\",\n        \"description\": \"\"\n      }\n    },\n    {\n      \"column\": \"Is Fraudulent\",\n      \"properties\": {\n        \"dtype\": \"number\",\n        \"std\": 353.48905070283115,\n        \"min\": 0.0,\n        \"max\": 1000.0,\n        \"num_unique_values\": 5,\n        \"samples\": [\n          0.053,\n          1.0,\n          0.22414558046332572\n        ],\n        \"semantic_type\": \"\",\n        \"description\": \"\"\n      }\n    },\n    {\n      \"column\": \"DayOfWeek\",\n      \"properties\": {\n        \"dtype\": \"category\",\n        \"num_unique_values\": 3,\n        \"samples\": [\n          \"1000\",\n          1,\n          \"Thursday\"\n        ],\n        \"semantic_type\": \"\",\n        \"description\": \"\"\n      }\n    },\n    {\n      \"column\": \"Month\",\n      \"properties\": {\n        \"dtype\": \"category\",\n        \"num_unique_values\": 3,\n        \"samples\": [\n          \"1000\",\n          1,\n          \"January\"\n        ],\n        \"semantic_type\": \"\",\n        \"description\": \"\"\n      }\n    }\n  ]\n}"
            },
            "application/vnd.google.colaboratory.module+javascript": "\n      import \"https://ssl.gstatic.com/colaboratory/data_table/881c4a0d49046431/data_table.js\";\n\n      const table = window.createDataTable({\n        data: [[\"count\",\n{\n            'v': 1000.0,\n            'f': \"1000.0\",\n        },\n{\n            'v': 1000.0,\n            'f': \"1000.0\",\n        },\n{\n            'v': 1000.0,\n            'f': \"1000.0\",\n        },\n{\n            'v': 1000.0,\n            'f': \"1000.0\",\n        },\n{\n            'v': 1000.0,\n            'f': \"1000.0\",\n        },\n{\n            'v': 1000.0,\n            'f': \"1000.0\",\n        },\n{\n            'v': 1000.0,\n            'f': \"1000.0\",\n        },\n{\n            'v': 1000.0,\n            'f': \"1000.0\",\n        },\n{\n            'v': 1000.0,\n            'f': \"1000.0\",\n        },\n{\n            'v': 1000.0,\n            'f': \"1000.0\",\n        },\n{\n            'v': 1000.0,\n            'f': \"1000.0\",\n        },\n{\n            'v': 1000.0,\n            'f': \"1000.0\",\n        },\n{\n            'v': 1000.0,\n            'f': \"1000.0\",\n        },\n{\n            'v': 1000.0,\n            'f': \"1000.0\",\n        },\n{\n            'v': 1000.0,\n            'f': \"1000.0\",\n        },\n{\n            'v': 1000.0,\n            'f': \"1000.0\",\n        },\n{\n            'v': 1000.0,\n            'f': \"1000.0\",\n        },\n{\n            'v': 1000.0,\n            'f': \"1000.0\",\n        },\n1000,\n1000],\n [\"unique\",\n{\n            'v': NaN,\n            'f': \"NaN\",\n        },\n{\n            'v': NaN,\n            'f': \"NaN\",\n        },\n{\n            'v': NaN,\n            'f': \"NaN\",\n        },\n{\n            'v': NaN,\n            'f': \"NaN\",\n        },\n{\n            'v': NaN,\n            'f': \"NaN\",\n        },\n{\n            'v': NaN,\n            'f': \"NaN\",\n        },\n{\n            'v': NaN,\n            'f': \"NaN\",\n        },\n{\n            'v': NaN,\n            'f': \"NaN\",\n        },\n{\n            'v': NaN,\n            'f': \"NaN\",\n        },\n{\n            'v': NaN,\n            'f': \"NaN\",\n        },\n{\n            'v': NaN,\n            'f': \"NaN\",\n        },\n{\n            'v': NaN,\n            'f': \"NaN\",\n        },\n{\n            'v': NaN,\n            'f': \"NaN\",\n        },\n{\n            'v': NaN,\n            'f': \"NaN\",\n        },\n{\n            'v': NaN,\n            'f': \"NaN\",\n        },\n{\n            'v': NaN,\n            'f': \"NaN\",\n        },\n{\n            'v': NaN,\n            'f': \"NaN\",\n        },\n{\n            'v': NaN,\n            'f': \"NaN\",\n        },\n1,\n1],\n [\"top\",\n{\n            'v': NaN,\n            'f': \"NaN\",\n        },\n{\n            'v': NaN,\n            'f': \"NaN\",\n        },\n{\n            'v': NaN,\n            'f': \"NaN\",\n        },\n{\n            'v': NaN,\n            'f': \"NaN\",\n        },\n{\n            'v': NaN,\n            'f': \"NaN\",\n        },\n{\n            'v': NaN,\n            'f': \"NaN\",\n        },\n{\n            'v': NaN,\n            'f': \"NaN\",\n        },\n{\n            'v': NaN,\n            'f': \"NaN\",\n        },\n{\n            'v': NaN,\n            'f': \"NaN\",\n        },\n{\n            'v': NaN,\n            'f': \"NaN\",\n        },\n{\n            'v': NaN,\n            'f': \"NaN\",\n        },\n{\n            'v': NaN,\n            'f': \"NaN\",\n        },\n{\n            'v': NaN,\n            'f': \"NaN\",\n        },\n{\n            'v': NaN,\n            'f': \"NaN\",\n        },\n{\n            'v': NaN,\n            'f': \"NaN\",\n        },\n{\n            'v': NaN,\n            'f': \"NaN\",\n        },\n{\n            'v': NaN,\n            'f': \"NaN\",\n        },\n{\n            'v': NaN,\n            'f': \"NaN\",\n        },\n\"Thursday\",\n\"January\"],\n [\"freq\",\n{\n            'v': NaN,\n            'f': \"NaN\",\n        },\n{\n            'v': NaN,\n            'f': \"NaN\",\n        },\n{\n            'v': NaN,\n            'f': \"NaN\",\n        },\n{\n            'v': NaN,\n            'f': \"NaN\",\n        },\n{\n            'v': NaN,\n            'f': \"NaN\",\n        },\n{\n            'v': NaN,\n            'f': \"NaN\",\n        },\n{\n            'v': NaN,\n            'f': \"NaN\",\n        },\n{\n            'v': NaN,\n            'f': \"NaN\",\n        },\n{\n            'v': NaN,\n            'f': \"NaN\",\n        },\n{\n            'v': NaN,\n            'f': \"NaN\",\n        },\n{\n            'v': NaN,\n            'f': \"NaN\",\n        },\n{\n            'v': NaN,\n            'f': \"NaN\",\n        },\n{\n            'v': NaN,\n            'f': \"NaN\",\n        },\n{\n            'v': NaN,\n            'f': \"NaN\",\n        },\n{\n            'v': NaN,\n            'f': \"NaN\",\n        },\n{\n            'v': NaN,\n            'f': \"NaN\",\n        },\n{\n            'v': NaN,\n            'f': \"NaN\",\n        },\n{\n            'v': NaN,\n            'f': \"NaN\",\n        },\n1000,\n1000],\n [\"mean\",\n{\n            'v': 520.177430970136,\n            'f': \"520.177430970136\",\n        },\n{\n            'v': 0.965,\n            'f': \"0.965\",\n        },\n{\n            'v': 3.127,\n            'f': \"3.127\",\n        },\n{\n            'v': 2.043,\n            'f': \"2.043\",\n        },\n{\n            'v': 0.984,\n            'f': \"0.984\",\n        },\n{\n            'v': 4.399,\n            'f': \"4.399\",\n        },\n{\n            'v': 4975.500335120997,\n            'f': \"4975.500335120997\",\n        },\n{\n            'v': 11.425,\n            'f': \"11.425\",\n        },\n{\n            'v': 0.0003156829853831091,\n            'f': \"0.0003156829853831091\",\n        },\n{\n            'v': 49.432,\n            'f': \"49.432\",\n        },\n{\n            'v': 82963.6166155467,\n            'f': \"82963.6166155467\",\n        },\n{\n            'v': 10474.007100632074,\n            'f': \"10474.007100632074\",\n        },\n{\n            'v': 575.508,\n            'f': \"575.508\",\n        },\n{\n            'v': 0.996,\n            'f': \"0.996\",\n        },\n{\n            'v': 9.754,\n            'f': \"9.754\",\n        },\n{\n            'v': 2746.6787361524525,\n            'f': \"2746.6787361524525\",\n        },\n{\n            'v': 1.025,\n            'f': \"1.025\",\n        },\n{\n            'v': 0.053,\n            'f': \"0.053\",\n        },\nNaN,\nNaN],\n [\"std\",\n{\n            'v': 279.3424343839884,\n            'f': \"279.3424343839884\",\n        },\n{\n            'v': 0.8188073310892162,\n            'f': \"0.8188073310892162\",\n        },\n{\n            'v': 2.018153597708545,\n            'f': \"2.018153597708545\",\n        },\n{\n            'v': 1.4440347074209248,\n            'f': \"1.4440347074209248\",\n        },\n{\n            'v': 0.8163396415772118,\n            'f': \"0.8163396415772118\",\n        },\n{\n            'v': 2.8287454464480892,\n            'f': \"2.8287454464480892\",\n        },\n{\n            'v': 2841.249946847179,\n            'f': \"2841.249946847179\",\n        },\n{\n            'v': 6.834697366240007,\n            'f': \"6.834697366240007\",\n        },\n{\n            'v': 0.29620597672755694,\n            'f': \"0.29620597672755694\",\n        },\n{\n            'v': 17.332853308206467,\n            'f': \"17.332853308206467\",\n        },\n{\n            'v': 37021.43493174262,\n            'f': \"37021.43493174262\",\n        },\n{\n            'v': 5734.063837865405,\n            'f': \"5734.063837865405\",\n        },\n{\n            'v': 156.4581000558075,\n            'f': \"156.4581000558075\",\n        },\n{\n            'v': 0.8066192624991264,\n            'f': \"0.8066192624991264\",\n        },\n{\n            'v': 5.395237955140867,\n            'f': \"5.395237955140867\",\n        },\n{\n            'v': 1311.3659156619767,\n            'f': \"1311.3659156619767\",\n        },\n{\n            'v': 0.8130412265291571,\n            'f': \"0.8130412265291571\",\n        },\n{\n            'v': 0.22414558046332572,\n            'f': \"0.22414558046332572\",\n        },\nNaN,\nNaN],\n [\"min\",\n{\n            'v': 10.456990977145551,\n            'f': \"10.456990977145551\",\n        },\n{\n            'v': 0.0,\n            'f': \"0.0\",\n        },\n{\n            'v': 0.0,\n            'f': \"0.0\",\n        },\n{\n            'v': 0.0,\n            'f': \"0.0\",\n        },\n{\n            'v': 0.0,\n            'f': \"0.0\",\n        },\n{\n            'v': 0.0,\n            'f': \"0.0\",\n        },\n{\n            'v': 123.46087678511972,\n            'f': \"123.46087678511972\",\n        },\n{\n            'v': 0.0,\n            'f': \"0.0\",\n        },\n{\n            'v': -0.4998914916428443,\n            'f': \"-0.4998914916428443\",\n        },\n{\n            'v': 20.0,\n            'f': \"20.0\",\n        },\n{\n            'v': 20084.71540332981,\n            'f': \"20084.71540332981\",\n        },\n{\n            'v': 526.9109117307208,\n            'f': \"526.9109117307208\",\n        },\n{\n            'v': 300.0,\n            'f': \"300.0\",\n        },\n{\n            'v': 0.0,\n            'f': \"0.0\",\n        },\n{\n            'v': 1.0,\n            'f': \"1.0\",\n        },\n{\n            'v': 500.5590900733376,\n            'f': \"500.5590900733376\",\n        },\n{\n            'v': 0.0,\n            'f': \"0.0\",\n        },\n{\n            'v': 0.0,\n            'f': \"0.0\",\n        },\nNaN,\nNaN],\n [\"25%\",\n{\n            'v': 277.9785468867406,\n            'f': \"277.9785468867406\",\n        },\n{\n            'v': 0.0,\n            'f': \"0.0\",\n        },\n{\n            'v': 1.0,\n            'f': \"1.0\",\n        },\n{\n            'v': 1.0,\n            'f': \"1.0\",\n        },\n{\n            'v': 0.0,\n            'f': \"0.0\",\n        },\n{\n            'v': 2.0,\n            'f': \"2.0\",\n        },\n{\n            'v': 2435.1296805423817,\n            'f': \"2435.1296805423817\",\n        },\n{\n            'v': 5.0,\n            'f': \"5.0\",\n        },\n{\n            'v': -0.2567061829620724,\n            'f': \"-0.2567061829620724\",\n        },\n{\n            'v': 35.0,\n            'f': \"35.0\",\n        },\n{\n            'v': 51725.43492902497,\n            'f': \"51725.43492902497\",\n        },\n{\n            'v': 5287.512915498323,\n            'f': \"5287.512915498323\",\n        },\n{\n            'v': 441.5,\n            'f': \"441.5\",\n        },\n{\n            'v': 0.0,\n            'f': \"0.0\",\n        },\n{\n            'v': 5.0,\n            'f': \"5.0\",\n        },\n{\n            'v': 1561.5768684131933,\n            'f': \"1561.5768684131933\",\n        },\n{\n            'v': 0.0,\n            'f': \"0.0\",\n        },\n{\n            'v': 0.0,\n            'f': \"0.0\",\n        },\nNaN,\nNaN],\n [\"50%\",\n{\n            'v': 546.816714015564,\n            'f': \"546.816714015564\",\n        },\n{\n            'v': 1.0,\n            'f': \"1.0\",\n        },\n{\n            'v': 3.0,\n            'f': \"3.0\",\n        },\n{\n            'v': 2.0,\n            'f': \"2.0\",\n        },\n{\n            'v': 1.0,\n            'f': \"1.0\",\n        },\n{\n            'v': 4.0,\n            'f': \"4.0\",\n        },\n{\n            'v': 4794.595477210722,\n            'f': \"4794.595477210722\",\n        },\n{\n            'v': 11.0,\n            'f': \"11.0\",\n        },\n{\n            'v': -0.01142441262969815,\n            'f': \"-0.01142441262969815\",\n        },\n{\n            'v': 50.0,\n            'f': \"50.0\",\n        },\n{\n            'v': 81693.95241632251,\n            'f': \"81693.95241632251\",\n        },\n{\n            'v': 10569.195492571776,\n            'f': \"10569.195492571776\",\n        },\n{\n            'v': 574.5,\n            'f': \"574.5\",\n        },\n{\n            'v': 1.0,\n            'f': \"1.0\",\n        },\n{\n            'v': 10.0,\n            'f': \"10.0\",\n        },\n{\n            'v': 2839.222191291903,\n            'f': \"2839.222191291903\",\n        },\n{\n            'v': 1.0,\n            'f': \"1.0\",\n        },\n{\n            'v': 0.0,\n            'f': \"0.0\",\n        },\nNaN,\nNaN],\n [\"75%\",\n{\n            'v': 760.0745710551089,\n            'f': \"760.0745710551089\",\n        },\n{\n            'v': 2.0,\n            'f': \"2.0\",\n        },\n{\n            'v': 5.0,\n            'f': \"5.0\",\n        },\n{\n            'v': 3.0,\n            'f': \"3.0\",\n        },\n{\n            'v': 2.0,\n            'f': \"2.0\",\n        },\n{\n            'v': 7.0,\n            'f': \"7.0\",\n        },\n{\n            'v': 7384.9656017981315,\n            'f': \"7384.9656017981315\",\n        },\n{\n            'v': 17.0,\n            'f': \"17.0\",\n        },\n{\n            'v': 0.2770938904897691,\n            'f': \"0.2770938904897691\",\n        },\n{\n            'v': 64.0,\n            'f': \"64.0\",\n        },\n{\n            'v': 113430.36354389018,\n            'f': \"113430.36354389018\",\n        },\n{\n            'v': 15474.888340665038,\n            'f': \"15474.888340665038\",\n        },\n{\n            'v': 715.5,\n            'f': \"715.5\",\n        },\n{\n            'v': 2.0,\n            'f': \"2.0\",\n        },\n{\n            'v': 14.0,\n            'f': \"14.0\",\n        },\n{\n            'v': 3860.4827752396664,\n            'f': \"3860.4827752396664\",\n        },\n{\n            'v': 2.0,\n            'f': \"2.0\",\n        },\n{\n            'v': 0.0,\n            'f': \"0.0\",\n        },\nNaN,\nNaN],\n [\"max\",\n{\n            'v': 996.6898932861582,\n            'f': \"996.6898932861582\",\n        },\n{\n            'v': 2.0,\n            'f': \"2.0\",\n        },\n{\n            'v': 6.0,\n            'f': \"6.0\",\n        },\n{\n            'v': 4.0,\n            'f': \"4.0\",\n        },\n{\n            'v': 2.0,\n            'f': \"2.0\",\n        },\n{\n            'v': 9.0,\n            'f': \"9.0\",\n        },\n{\n            'v': 9975.85915441606,\n            'f': \"9975.85915441606\",\n        },\n{\n            'v': 23.0,\n            'f': \"23.0\",\n        },\n{\n            'v': 0.4999431729716045,\n            'f': \"0.4999431729716045\",\n        },\n{\n            'v': 79.0,\n            'f': \"79.0\",\n        },\n{\n            'v': 149895.77762414375,\n            'f': \"149895.77762414375\",\n        },\n{\n            'v': 19978.43966842985,\n            'f': \"19978.43966842985\",\n        },\n{\n            'v': 849.0,\n            'f': \"849.0\",\n        },\n{\n            'v': 2.0,\n            'f': \"2.0\",\n        },\n{\n            'v': 19.0,\n            'f': \"19.0\",\n        },\n{\n            'v': 4994.352225083275,\n            'f': \"4994.352225083275\",\n        },\n{\n            'v': 2.0,\n            'f': \"2.0\",\n        },\n{\n            'v': 1.0,\n            'f': \"1.0\",\n        },\nNaN,\nNaN]],\n        columns: [[\"string\", \"index\"], [\"number\", \"Amount\"], [\"number\", \"Card Type\"], [\"number\", \"MCC Category\"], [\"number\", \"Location\"], [\"number\", \"Device\"], [\"number\", \"Previous Transactions\"], [\"number\", \"Balance Before Transaction\"], [\"number\", \"Time of Day\"], [\"number\", \"Velocity\"], [\"number\", \"Customer Age\"], [\"number\", \"Customer Income\"], [\"number\", \"Card Limit\"], [\"number\", \"Credit Score\"], [\"number\", \"Merchant Reputation\"], [\"number\", \"Merchant Location History\"], [\"number\", \"Spending Patterns\"], [\"number\", \"Online Transactions Frequency\"], [\"number\", \"Is Fraudulent\"], [\"string\", \"DayOfWeek\"], [\"string\", \"Month\"]],\n        columnOptions: [{\"width\": \"1px\", \"className\": \"index_column\"}],\n        rowsPerPage: 25,\n        helpUrl: \"https://colab.research.google.com/notebooks/data_table.ipynb\",\n        suppressOutputScrolling: true,\n        minimumWidth: undefined,\n      });\n\n      function appendQuickchartButton(parentElement) {\n        let quickchartButtonContainerElement = document.createElement('div');\n        quickchartButtonContainerElement.innerHTML = `\n<div id=\"df-21b57919-dc8f-403b-b647-abb26b85807f\">\n  <button class=\"colab-df-quickchart\" onclick=\"quickchart('df-21b57919-dc8f-403b-b647-abb26b85807f')\"\n            title=\"Suggest charts\"\n            style=\"display:none;\">\n    \n<svg xmlns=\"http://www.w3.org/2000/svg\" height=\"24px\"viewBox=\"0 0 24 24\"\n     width=\"24px\">\n    <g>\n        <path d=\"M19 3H5c-1.1 0-2 .9-2 2v14c0 1.1.9 2 2 2h14c1.1 0 2-.9 2-2V5c0-1.1-.9-2-2-2zM9 17H7v-7h2v7zm4 0h-2V7h2v10zm4 0h-2v-4h2v4z\"/>\n    </g>\n</svg>\n  </button>\n  \n<style>\n  .colab-df-quickchart {\n      --bg-color: #E8F0FE;\n      --fill-color: #1967D2;\n      --hover-bg-color: #E2EBFA;\n      --hover-fill-color: #174EA6;\n      --disabled-fill-color: #AAA;\n      --disabled-bg-color: #DDD;\n  }\n\n  [theme=dark] .colab-df-quickchart {\n      --bg-color: #3B4455;\n      --fill-color: #D2E3FC;\n      --hover-bg-color: #434B5C;\n      --hover-fill-color: #FFFFFF;\n      --disabled-bg-color: #3B4455;\n      --disabled-fill-color: #666;\n  }\n\n  .colab-df-quickchart {\n    background-color: var(--bg-color);\n    border: none;\n    border-radius: 50%;\n    cursor: pointer;\n    display: none;\n    fill: var(--fill-color);\n    height: 32px;\n    padding: 0;\n    width: 32px;\n  }\n\n  .colab-df-quickchart:hover {\n    background-color: var(--hover-bg-color);\n    box-shadow: 0 1px 2px rgba(60, 64, 67, 0.3), 0 1px 3px 1px rgba(60, 64, 67, 0.15);\n    fill: var(--button-hover-fill-color);\n  }\n\n  .colab-df-quickchart-complete:disabled,\n  .colab-df-quickchart-complete:disabled:hover {\n    background-color: var(--disabled-bg-color);\n    fill: var(--disabled-fill-color);\n    box-shadow: none;\n  }\n\n  .colab-df-spinner {\n    border: 2px solid var(--fill-color);\n    border-color: transparent;\n    border-bottom-color: var(--fill-color);\n    animation:\n      spin 1s steps(1) infinite;\n  }\n\n  @keyframes spin {\n    0% {\n      border-color: transparent;\n      border-bottom-color: var(--fill-color);\n      border-left-color: var(--fill-color);\n    }\n    20% {\n      border-color: transparent;\n      border-left-color: var(--fill-color);\n      border-top-color: var(--fill-color);\n    }\n    30% {\n      border-color: transparent;\n      border-left-color: var(--fill-color);\n      border-top-color: var(--fill-color);\n      border-right-color: var(--fill-color);\n    }\n    40% {\n      border-color: transparent;\n      border-right-color: var(--fill-color);\n      border-top-color: var(--fill-color);\n    }\n    60% {\n      border-color: transparent;\n      border-right-color: var(--fill-color);\n    }\n    80% {\n      border-color: transparent;\n      border-right-color: var(--fill-color);\n      border-bottom-color: var(--fill-color);\n    }\n    90% {\n      border-color: transparent;\n      border-bottom-color: var(--fill-color);\n    }\n  }\n</style>\n\n  <script>\n    async function quickchart(key) {\n      const quickchartButtonEl =\n        document.querySelector('#' + key + ' button');\n      quickchartButtonEl.disabled = true;  // To prevent multiple clicks.\n      quickchartButtonEl.classList.add('colab-df-spinner');\n      try {\n        const charts = await google.colab.kernel.invokeFunction(\n            'suggestCharts', [key], {});\n      } catch (error) {\n        console.error('Error during call to suggestCharts:', error);\n      }\n      quickchartButtonEl.classList.remove('colab-df-spinner');\n      quickchartButtonEl.classList.add('colab-df-quickchart-complete');\n    }\n    (() => {\n      let quickchartButtonEl =\n        document.querySelector('#df-21b57919-dc8f-403b-b647-abb26b85807f button');\n      quickchartButtonEl.style.display =\n        google.colab.kernel.accessAllowed ? 'block' : 'none';\n    })();\n  </script>\n</div>`;\n        parentElement.appendChild(quickchartButtonContainerElement);\n      }\n\n      appendQuickchartButton(table);\n    "
          },
          "metadata": {},
          "execution_count": 373
        }
      ]
    },
    {
      "cell_type": "markdown",
      "source": [
        "##### Identify missing values\n",
        "We use **isnull()** to create a Boolean mask **and then sum()** it <u>to count the number of missing values in each column</u>."
      ],
      "metadata": {
        "id": "hxyFCTThs_R4"
      }
    },
    {
      "cell_type": "code",
      "source": [
        "print(df.isnull().sum())"
      ],
      "metadata": {
        "id": "7Ql3xhThuIdB",
        "colab": {
          "base_uri": "https://localhost:8080/"
        },
        "outputId": "2bba1a70-6bfe-4f39-8b38-4e22758577f3"
      },
      "execution_count": 374,
      "outputs": [
        {
          "output_type": "stream",
          "name": "stdout",
          "text": [
            "Amount                           0\n",
            "Card Type                        0\n",
            "MCC Category                     0\n",
            "Location                         0\n",
            "Device                           0\n",
            "Previous Transactions            0\n",
            "Balance Before Transaction       0\n",
            "Time of Day                      0\n",
            "Velocity                         0\n",
            "Customer Age                     0\n",
            "Customer Income                  0\n",
            "Card Limit                       0\n",
            "Credit Score                     0\n",
            "Merchant Reputation              0\n",
            "Merchant Location History        0\n",
            "Spending Patterns                0\n",
            "Online Transactions Frequency    0\n",
            "Is Fraudulent                    0\n",
            "DayOfWeek                        0\n",
            "Month                            0\n",
            "dtype: int64\n"
          ]
        }
      ]
    },
    {
      "cell_type": "markdown",
      "source": [
        "##### Unique-value count for each column\n",
        "**nunique( ) counts** the number of unique entries in each column of the dataframe we loaded. This is useful to understand <u>number of categories nominal and ordinal columns</u>.\n",
        "\n",
        "**Candidates for nominal and ordinal columns:**\n",
        "Card Type, MCC Category, Location, Device, Time of Day, Online Transactions Frequency\n",
        "\n",
        "Further we determine numeric columns automatically and finally understand the nominal and ordinal columns of the financial transactions data."
      ],
      "metadata": {
        "id": "EwbwdfNstFrW"
      }
    },
    {
      "cell_type": "code",
      "source": [
        "print(df.nunique())"
      ],
      "metadata": {
        "id": "iiQeuCOXuQL3",
        "colab": {
          "base_uri": "https://localhost:8080/"
        },
        "outputId": "f331145e-0353-4368-de34-ec6abaab05a1"
      },
      "execution_count": 375,
      "outputs": [
        {
          "output_type": "stream",
          "name": "stdout",
          "text": [
            "Amount                           1000\n",
            "Card Type                           3\n",
            "MCC Category                        7\n",
            "Location                            5\n",
            "Device                              3\n",
            "Previous Transactions              10\n",
            "Balance Before Transaction       1000\n",
            "Time of Day                        24\n",
            "Velocity                         1000\n",
            "Customer Age                       60\n",
            "Customer Income                  1000\n",
            "Card Limit                       1000\n",
            "Credit Score                      465\n",
            "Merchant Reputation                 3\n",
            "Merchant Location History          19\n",
            "Spending Patterns                1000\n",
            "Online Transactions Frequency       3\n",
            "Is Fraudulent                       2\n",
            "DayOfWeek                           1\n",
            "Month                               1\n",
            "dtype: int64\n"
          ]
        }
      ]
    },
    {
      "cell_type": "markdown",
      "source": [
        "##### Skewness"
      ],
      "metadata": {
        "id": "8mPaha88tLii"
      }
    },
    {
      "cell_type": "code",
      "source": [
        "df.skew()"
      ],
      "metadata": {
        "id": "0As0mj72vyzX",
        "colab": {
          "base_uri": "https://localhost:8080/"
        },
        "outputId": "d61ca5da-e3f9-48a0-9672-7519b81963e5"
      },
      "execution_count": 376,
      "outputs": [
        {
          "output_type": "stream",
          "name": "stderr",
          "text": [
            "<ipython-input-376-9e0b1e29546f>:1: FutureWarning: The default value of numeric_only in DataFrame.skew is deprecated. In a future version, it will default to False. In addition, specifying 'numeric_only=None' is deprecated. Select only valid columns or specify the value of numeric_only to silence this warning.\n",
            "  df.skew()\n"
          ]
        },
        {
          "output_type": "execute_result",
          "data": {
            "text/plain": [
              "Amount                          -0.117665\n",
              "Card Type                        0.064623\n",
              "MCC Category                    -0.069954\n",
              "Location                        -0.029248\n",
              "Device                           0.029425\n",
              "Previous Transactions            0.026361\n",
              "Balance Before Transaction       0.079183\n",
              "Time of Day                     -0.008229\n",
              "Velocity                        -0.006681\n",
              "Customer Age                     0.017007\n",
              "Customer Income                  0.073928\n",
              "Card Limit                      -0.050666\n",
              "Credit Score                    -0.040776\n",
              "Merchant Reputation              0.007262\n",
              "Merchant Location History        0.042392\n",
              "Spending Patterns               -0.031202\n",
              "Online Transactions Frequency   -0.045804\n",
              "Is Fraudulent                    3.996472\n",
              "dtype: float64"
            ]
          },
          "metadata": {},
          "execution_count": 376
        }
      ]
    },
    {
      "cell_type": "markdown",
      "source": [
        "#### Visualizations"
      ],
      "metadata": {
        "id": "Y50dAtKAtV61"
      }
    },
    {
      "source": [
        "# @title Location vs Device\n",
        "from matplotlib import pyplot as plt\n",
        "import seaborn as sns\n",
        "import pandas as pd\n",
        "plt.subplots(figsize=(8, 8))\n",
        "df_2dhist = pd.DataFrame({\n",
        "    x_label: grp['Device'].value_counts()\n",
        "    for x_label, grp in df.groupby('Location')\n",
        "})\n",
        "sns.heatmap(df_2dhist, cmap='viridis')\n",
        "plt.xlabel('Location')\n",
        "_ = plt.ylabel('Device')"
      ],
      "cell_type": "code",
      "execution_count": 377,
      "outputs": [
        {
          "output_type": "display_data",
          "data": {
            "text/plain": [
              "<Figure size 800x800 with 2 Axes>"
            ],
            "image/png": "[encoded data removed]"
          },
          "metadata": {}
        }
      ],
      "metadata": {
        "id": "6Vc4bJB9wuu9",
        "colab": {
          "base_uri": "https://localhost:8080/",
          "height": 704
        },
        "outputId": "c36dda5b-6a24-445c-e41d-dcff061d916f"
      }
    },
    {
      "source": [
        "# @title Device vs Merchant Reputation\n",
        "\n",
        "from matplotlib import pyplot as plt\n",
        "import seaborn as sns\n",
        "import pandas as pd\n",
        "plt.subplots(figsize=(8, 8))\n",
        "df_2dhist = pd.DataFrame({\n",
        "    x_label: grp['Merchant Reputation'].value_counts()\n",
        "    for x_label, grp in df.groupby('Device')\n",
        "})\n",
        "sns.heatmap(df_2dhist, cmap='viridis')\n",
        "plt.xlabel('Device')\n",
        "_ = plt.ylabel('Merchant Reputation')"
      ],
      "cell_type": "code",
      "execution_count": 378,
      "outputs": [
        {
          "output_type": "display_data",
          "data": {
            "text/plain": [
              "<Figure size 800x800 with 2 Axes>"
            ],
            "image/png": "[encoded data removed]"
          },
          "metadata": {}
        }
      ],
      "metadata": {
        "id": "Vhb-he0txLBp",
        "colab": {
          "base_uri": "https://localhost:8080/",
          "height": 704
        },
        "outputId": "499180a4-bee3-4bf1-8e13-327940312ceb"
      }
    },
    {
      "source": [
        "# @title Card Type vs MCC Category\n",
        "\n",
        "from matplotlib import pyplot as plt\n",
        "import seaborn as sns\n",
        "import pandas as pd\n",
        "plt.subplots(figsize=(8, 8))\n",
        "df_2dhist = pd.DataFrame({\n",
        "    x_label: grp['MCC Category'].value_counts()\n",
        "    for x_label, grp in df.groupby('Card Type')\n",
        "})\n",
        "sns.heatmap(df_2dhist, cmap='viridis')\n",
        "plt.xlabel('Card Type')\n",
        "_ = plt.ylabel('MCC Category')"
      ],
      "cell_type": "code",
      "execution_count": 379,
      "outputs": [
        {
          "output_type": "display_data",
          "data": {
            "text/plain": [
              "<Figure size 800x800 with 2 Axes>"
            ],
            "image/png": "[encoded data removed]"
          },
          "metadata": {}
        }
      ],
      "metadata": {
        "id": "GtcKDjXvvmF6",
        "colab": {
          "base_uri": "https://localhost:8080/",
          "height": 704
        },
        "outputId": "f5be0be0-7f9d-4555-c2c7-8de6fbb43b87"
      }
    },
    {
      "source": [
        "# @title MCC Category vs Location\n",
        "\n",
        "from matplotlib import pyplot as plt\n",
        "import seaborn as sns\n",
        "import pandas as pd\n",
        "plt.subplots(figsize=(8, 8))\n",
        "df_2dhist = pd.DataFrame({\n",
        "    x_label: grp['Location'].value_counts()\n",
        "    for x_label, grp in df.groupby('MCC Category')\n",
        "})\n",
        "sns.heatmap(df_2dhist, cmap='viridis')\n",
        "plt.xlabel('MCC Category')\n",
        "_ = plt.ylabel('Location')"
      ],
      "cell_type": "code",
      "execution_count": 380,
      "outputs": [
        {
          "output_type": "display_data",
          "data": {
            "text/plain": [
              "<Figure size 800x800 with 2 Axes>"
            ],
            "image/png": "[encoded data removed]"
          },
          "metadata": {}
        }
      ],
      "metadata": {
        "id": "yvXxk8XPwH99",
        "colab": {
          "base_uri": "https://localhost:8080/",
          "height": 704
        },
        "outputId": "5eafe89e-4ccc-4ead-91bb-cf26b01bb958"
      }
    },
    {
      "source": [
        "# @title Location vs Amount\n",
        "\"\"\"\n",
        "A violin plot is a hybrid of a box plot and a kernel density plot, which shows\n",
        "peaks in the data. It is used to visualize the distribution of numerical data.\n",
        "Unlike a box plot that can only show summary statistics, violin plots depict\n",
        "summary statistics and the density of each variable.\n",
        "\"\"\"\n",
        "from matplotlib import pyplot as plt\n",
        "import seaborn as sns\n",
        "figsize = (12, 1.2 * len(df['Location'].unique()))\n",
        "plt.figure(figsize=figsize)\n",
        "sns.violinplot(df, x='Amount', y='Location', inner='box', palette='Dark2')\n",
        "sns.despine(top=True, right=True, bottom=True, left=True)"
      ],
      "cell_type": "code",
      "execution_count": 381,
      "outputs": [
        {
          "output_type": "stream",
          "name": "stderr",
          "text": [
            "<ipython-input-381-9f36d7401d60>:12: FutureWarning: \n",
            "\n",
            "Passing `palette` without assigning `hue` is deprecated and will be removed in v0.14.0. Assign the `x` variable to `hue` and set `legend=False` for the same effect.\n",
            "\n",
            "  sns.violinplot(df, x='Amount', y='Location', inner='box', palette='Dark2')\n"
          ]
        },
        {
          "output_type": "display_data",
          "data": {
            "text/plain": [
              "<Figure size 1200x600 with 1 Axes>"
            ],
            "image/png": "[encoded data removed]"
          },
          "metadata": {}
        }
      ],
      "metadata": {
        "id": "Xi_QhpimuYHX",
        "colab": {
          "base_uri": "https://localhost:8080/",
          "height": 659
        },
        "outputId": "df2be012-bb6b-43f8-cb59-6cb0b126f581"
      }
    },
    {
      "source": [
        "# @title Device vs Amount\n",
        "\"\"\"\n",
        "A violin plot is a hybrid of a box plot and a kernel density plot, which shows\n",
        "peaks in the data. It is used to visualize the distribution of numerical data.\n",
        "Unlike a box plot that can only show summary statistics, violin plots depict\n",
        "summary statistics and the density of each variable.\n",
        "\"\"\"\n",
        "from matplotlib import pyplot as plt\n",
        "import seaborn as sns\n",
        "figsize = (12, 1.2 * len(df['Device'].unique()))\n",
        "plt.figure(figsize=figsize)\n",
        "sns.violinplot(df, x='Amount', y='Device', inner='box', palette='Dark2')\n",
        "sns.despine(top=True, right=True, bottom=True, left=True)"
      ],
      "cell_type": "code",
      "execution_count": null,
      "outputs": [
        {
          "output_type": "stream",
          "name": "stderr",
          "text": [
            "<ipython-input-382-99aa457e1b92>:12: FutureWarning: \n",
            "\n",
            "Passing `palette` without assigning `hue` is deprecated and will be removed in v0.14.0. Assign the `x` variable to `hue` and set `legend=False` for the same effect.\n",
            "\n",
            "  sns.violinplot(df, x='Amount', y='Device', inner='box', palette='Dark2')\n"
          ]
        }
      ],
      "metadata": {
        "id": "O-rQ0A6etiKT",
        "colab": {
          "base_uri": "https://localhost:8080/"
        },
        "outputId": "9ef892fa-9561-45f8-f390-7aac58b3a638"
      }
    },
    {
      "source": [
        "# @title Location\n",
        "\n",
        "from matplotlib import pyplot as plt\n",
        "import seaborn as sns\n",
        "df.groupby('Location').size().plot(kind='bar', color=sns.palettes.mpl_palette('Dark2'))\n",
        "plt.gca().spines[['top', 'right',]].set_visible(False)"
      ],
      "cell_type": "code",
      "execution_count": null,
      "outputs": [],
      "metadata": {
        "id": "ysPk8fAPs8Rj"
      }
    },
    {
      "source": [
        "# @title Device\n",
        "\n",
        "from matplotlib import pyplot as plt\n",
        "import seaborn as sns\n",
        "df.groupby('Device').size().plot(kind='bar', color=sns.palettes.mpl_palette('Dark2'))\n",
        "plt.gca().spines[['top', 'right',]].set_visible(False)"
      ],
      "cell_type": "code",
      "execution_count": null,
      "outputs": [],
      "metadata": {
        "id": "FBYsi8aAtEnp"
      }
    },
    {
      "source": [
        "# @title MCC Category\n",
        "\n",
        "from matplotlib import pyplot as plt\n",
        "import seaborn as sns\n",
        "df.groupby('MCC Category').size().plot(kind='bar', color=sns.palettes.mpl_palette('Dark2'))\n",
        "plt.gca().spines[['top', 'right',]].set_visible(False)"
      ],
      "cell_type": "code",
      "execution_count": null,
      "outputs": [],
      "metadata": {
        "id": "Hj5nX2QVsuL6"
      }
    },
    {
      "source": [
        "# @title Card Type\n",
        "\n",
        "from matplotlib import pyplot as plt\n",
        "import seaborn as sns\n",
        "df.groupby('Card Type').size().plot(kind='bar', color=sns.palettes.mpl_palette('Dark2'))\n",
        "plt.gca().spines[['top', 'right',]].set_visible(False)"
      ],
      "cell_type": "code",
      "execution_count": null,
      "outputs": [],
      "metadata": {
        "id": "Hs1pUpOEsjL2"
      }
    },
    {
      "source": [
        "# @title Time of Day\n",
        "\n",
        "from matplotlib import pyplot as plt\n",
        "df['Time of Day'].plot(kind='hist', bins=20, title='Time of Day')\n",
        "plt.gca().spines[['top', 'right',]].set_visible(False)"
      ],
      "cell_type": "code",
      "execution_count": null,
      "outputs": [],
      "metadata": {
        "id": "XB4iUQUMsU50"
      }
    },
    {
      "source": [
        "# @title Balance Before Transaction\n",
        "\n",
        "from matplotlib import pyplot as plt\n",
        "df['Balance Before Transaction'].plot(kind='hist', bins=20, title='Balance Before Transaction')\n",
        "plt.gca().spines[['top', 'right',]].set_visible(False)"
      ],
      "cell_type": "code",
      "execution_count": null,
      "outputs": [],
      "metadata": {
        "id": "3MOQTCqQrgI8"
      }
    },
    {
      "source": [
        "# @title Amount\n",
        "\n",
        "from matplotlib import pyplot as plt\n",
        "df['Amount'].plot(kind='hist', bins=20, title='Amount')\n",
        "plt.gca().spines[['top', 'right',]].set_visible(False)"
      ],
      "cell_type": "code",
      "execution_count": null,
      "outputs": [],
      "metadata": {
        "id": "-cIfpfMnq_LV"
      }
    },
    {
      "cell_type": "markdown",
      "source": [
        "#### Data Pre-processing: Features Creation"
      ],
      "metadata": {
        "id": "MeWyQuxgDtut"
      }
    },
    {
      "cell_type": "code",
      "source": [
        "# @title Correlation analysis before creating new features\n",
        "def correlation_analysis(df: pd.DataFrame):\n",
        "    correlation_matrix = df.corr(numeric_only=True)\n",
        "    plt.figure(figsize=(10, 8))\n",
        "    sns.heatmap(correlation_matrix, annot=True, cmap=\"coolwarm\", fmt=\".3f\", linewidths=0.5)\n",
        "    plt.title(\"Correlation Matrix\")\n",
        "    plt.show()\n",
        "\n",
        "correlation_analysis(df)"
      ],
      "metadata": {
        "id": "VB7z7Y7QMPu0"
      },
      "execution_count": null,
      "outputs": []
    },
    {
      "cell_type": "markdown",
      "source": [
        "New features created:\n",
        "* Day of week - Nominal\n",
        "* Month of Year - Nominal\n",
        "* Amount to Income - Ratio\n",
        "* Percentage of Balance Spent\n",
        "* Available Balance After Transaction\n",
        "* ..."
      ],
      "metadata": {
        "id": "2EZI7PxsyBpR"
      }
    },
    {
      "cell_type": "markdown",
      "metadata": {
        "id": "g4vRa4JkKRGf"
      },
      "source": [
        "### Correlation analysis and visualisation"
      ]
    },
    {
      "cell_type": "code",
      "execution_count": null,
      "metadata": {
        "id": "8PUWf_lmzd18"
      },
      "outputs": [],
      "source": [
        "# @title Indentifying Feature Types\n",
        "def get_column_types(dframe: pd.DataFrame):\n",
        "  all_features = dframe.columns\n",
        "  op_features = [\"Is Fraudulent\"]\n",
        "  numeric_features = list(set(dframe._get_numeric_data().columns) - set(op_features) - set([\"Time of Day\", \"DayOfWeek\", \"Month\", \"Merchant Location History\"]))\n",
        "  nominal_and_ordinal_features = list(set(all_features) - set(numeric_features) - set(op_features))\n",
        "  ordinal_only_features = list([\"Merchant Reputation\", 'Online Transactions Frequency'])\n",
        "  nominal_only_features = list(set(nominal_and_ordinal_features) - set(ordinal_only_features))\n",
        "\n",
        "  return {\n",
        "      \"numeric_features\": numeric_features,\n",
        "      \"nominal_only_features\": nominal_only_features,\n",
        "      \"ordinal_only_features\": ordinal_only_features,\n",
        "      \"nominal_and_ordinal_features\": nominal_and_ordinal_features,\n",
        "      \"output_features\": op_features\n",
        "  }"
      ]
    },
    {
      "cell_type": "code",
      "source": [
        "correlation_analysis(df)"
      ],
      "metadata": {
        "id": "eXJKbWqGWlk1"
      },
      "execution_count": null,
      "outputs": []
    },
    {
      "cell_type": "markdown",
      "metadata": {
        "id": "AN7cVIWMwAVV"
      },
      "source": [
        "Normalization is not necessary before computing correlation coefficients between variables. Correlation measures the linear relationship between two variables, and it is not affected by the scale of the variables. Therefore, you can calculate correlation coefficients on raw data without normalizing it."
      ]
    },
    {
      "cell_type": "markdown",
      "metadata": {
        "id": "AroSDX41LnhL"
      },
      "source": [
        "- 𝑟 > 0 indicates positive correlation.\n",
        "- 𝑟 < 0 indicates negative correlation.\n",
        "- r = 1 is the maximum possible value of 𝑟, showing perfect positive linear relationship between 2 variables\n",
        "- Data fields on diagonal always have r = 1 as a data field always has a perfect linear relationship to itself.\n",
        "- r = −1 is the minimum possible value of 𝑟, showing perfect negative linear relationship between variables.\n",
        "- When r ≈ 0, means weak correlation between variables."
      ]
    },
    {
      "cell_type": "markdown",
      "source": [
        "**High Positive Correlations:**\n",
        "- \"Amount\" and \"Previous Transactions\": 0.13\n",
        "- \"Customer Income\" and \"Spending Patterns\": 0.073\n",
        "- \"Previous Transactions\" and \"Spending Patterns\": 0.066\n",
        "- \"Time of Day\" and \"Spending Patterns\": 0.032\n",
        "- \"Time of Day\" and \"Credit Score\": 0.026\n",
        "\n",
        "**High Negative Correlations:**\n",
        "- \"Merchant Location History\" and \"Card Limit\": -0.050\n",
        "- \"Credit Score\" and \"Merchant Location History\": -0.050\n",
        "- \"Velocity\" and \"Time of Day\": -0.063\n",
        "- \"Customer Income\" and \"Balance Before Transaction\": -0.084"
      ],
      "metadata": {
        "id": "e08MR5ns4Sjk"
      }
    },
    {
      "cell_type": "code",
      "execution_count": null,
      "metadata": {
        "id": "RfZHzcDaS21v"
      },
      "outputs": [],
      "source": [
        "# df.boxplot(figsize=(10, 10), rot=90, grid = False, medianprops={'linewidth': 2, 'color': 'purple'})"
      ]
    },
    {
      "cell_type": "markdown",
      "source": [
        "### Model Building"
      ],
      "metadata": {
        "id": "EuK-57oKUiPw"
      }
    },
    {
      "cell_type": "code",
      "execution_count": null,
      "metadata": {
        "id": "V_tX-_rxQIHv"
      },
      "outputs": [],
      "source": [
        "# @title Generic Functions\n",
        "from imblearn.over_sampling import SMOTE\n",
        "import numpy as np\n",
        "import pandas as pd\n",
        "from matplotlib import pyplot as plt\n",
        "import seaborn as sns\n",
        "\n",
        "from sklearn.compose import ColumnTransformer\n",
        "from sklearn.decomposition import PCA\n",
        "from sklearn.ensemble import AdaBoostClassifier, RandomForestClassifier, GradientBoostingClassifier\n",
        "from sklearn.feature_selection import f_classif, mutual_info_regression, SelectKBest\n",
        "from sklearn.linear_model import LogisticRegression\n",
        "from sklearn.metrics import accuracy_score, auc, classification_report, confusion_matrix, roc_auc_score, roc_curve\n",
        "from sklearn.naive_bayes import GaussianNB\n",
        "from sklearn.neighbors import KNeighborsClassifier\n",
        "from sklearn.model_selection import train_test_split\n",
        "from sklearn.pipeline import Pipeline\n",
        "from sklearn.preprocessing import LabelEncoder, OneHotEncoder, OrdinalEncoder, StandardScaler\n",
        "from sklearn.svm import SVC\n",
        "from sklearn.tree import DecisionTreeClassifier\n",
        "\n",
        "import platform, time"
      ]
    },
    {
      "cell_type": "code",
      "source": [
        "# @title Decorator for measuring performance\n",
        "if platform.system() == \"Windows\":\n",
        "    import psutil\n",
        "elif platform.system() == \"Darwin\" or platform.system() == \"Linux\":\n",
        "    import resource\n",
        "\n",
        "if platform.system() == \"Windows\":\n",
        "    def track_time_and_space(func):\n",
        "        def wrapper(*args, **kwargs):\n",
        "            start_time = time.time()\n",
        "            start_memory = psutil.Process().memory_info().rss\n",
        "\n",
        "            result = func(*args, **kwargs)\n",
        "\n",
        "            end_time = time.time()\n",
        "            end_memory = psutil.Process().memory_info().rss\n",
        "\n",
        "            print(platform.system(), start_memory, end_memory)\n",
        "\n",
        "            execution_time = end_time - start_time\n",
        "            memory_usage = (end_memory - start_memory) / 1024  # Convert to kilobytes\n",
        "\n",
        "            print(f\"Execution time: {execution_time} seconds | Memory usage: {memory_usage} KB\")\n",
        "\n",
        "            return result, execution_time, memory_usage\n",
        "\n",
        "        return wrapper\n",
        "else:\n",
        "    def track_time_and_space(func):\n",
        "        def wrapper(*args, **kwargs):\n",
        "            start_time = time.time()\n",
        "            start_memory = resource.getrusage(resource.RUSAGE_SELF).ru_maxrss\n",
        "\n",
        "            result = func(*args, **kwargs)\n",
        "\n",
        "            end_time = time.time()\n",
        "            end_memory = resource.getrusage(resource.RUSAGE_SELF).ru_maxrss\n",
        "\n",
        "            execution_time = end_time - start_time\n",
        "            memory_usage = (end_memory - start_memory) / 1024  # Convert to kilobytes\n",
        "\n",
        "            print(f\"Execution time: {execution_time} seconds | Memory usage: {memory_usage} KB\")\n",
        "\n",
        "            return result, execution_time, memory_usage\n",
        "\n",
        "        return wrapper"
      ],
      "metadata": {
        "id": "fcbVCqG6pPpk"
      },
      "execution_count": null,
      "outputs": []
    },
    {
      "cell_type": "code",
      "source": [
        "def encode_categorical_features(X: pd.DataFrame) -> pd.DataFrame:\n",
        "    # Encode categorical features so that they can be used in the SMOTE algorithm\n",
        "    categorical_features = X.select_dtypes(include=['object']).columns\n",
        "    for feature in categorical_features:\n",
        "        encoder = LabelEncoder()\n",
        "        X[feature] = encoder.fit_transform(X[feature])\n",
        "\n",
        "    return X\n",
        "\n",
        "def plot_class_distribution(y: pd.Series):\n",
        "    plt.figure(figsize=(8, 6))\n",
        "    sns.set_theme(style=\"whitegrid\")\n",
        "    sns.countplot(x=y, palette='viridis', hue=y, legend=False)\n",
        "    plt.title('Class Distribution')\n",
        "    plt.xlabel('Is Fraudulent')\n",
        "    plt.ylabel('Count')\n",
        "    plt.show()\n"
      ],
      "metadata": {
        "id": "iHTl0I1ZFQr_"
      },
      "execution_count": null,
      "outputs": []
    },
    {
      "cell_type": "code",
      "source": [
        "# @title Indentifying Feature Types\n",
        "def get_column_types(dframe: pd.DataFrame):\n",
        "  all_features = dframe.columns\n",
        "  op_features = [\"Is Fraudulent\"]\n",
        "  numeric_features = list(set(dframe._get_numeric_data().columns) - set(op_features))\n",
        "  nominal_and_ordinal_features = list(set(all_features) - set(numeric_features) - set(op_features))\n",
        "  ordinal_only_features = list([\"Merchant Reputation\", 'Online Transactions Frequency'])\n",
        "  nominal_only_features = list(set(nominal_and_ordinal_features) - set(ordinal_only_features))\n",
        "\n",
        "  return {\n",
        "      \"numeric_features\": numeric_features,\n",
        "      \"nominal_only_features\": nominal_only_features,\n",
        "      \"ordinal_only_features\": ordinal_only_features,\n",
        "      \"nominal_and_ordinal_features\": nominal_and_ordinal_features,\n",
        "      \"output_features\": op_features\n",
        "  }\n",
        "col_types = get_column_types(df)"
      ],
      "metadata": {
        "id": "gIDru6G9Ff11"
      },
      "execution_count": null,
      "outputs": []
    },
    {
      "cell_type": "code",
      "source": [
        "def get_ig_for_features(df: pd.DataFrame):\n",
        "    X = df.drop(['Is Fraudulent'], axis=1)\n",
        "    y = df['Is Fraudulent']\n",
        "\n",
        "    # Encode categorical features\n",
        "    categorical_features = X.select_dtypes(include=['object']).columns\n",
        "    for feature in categorical_features:\n",
        "        encoder = LabelEncoder()\n",
        "        X[feature] = encoder.fit_transform(X[feature])\n",
        "\n",
        "    # Apply Information Gain\n",
        "    ig = mutual_info_regression(X, y) * 100\n",
        "\n",
        "    feature_scores = {}\n",
        "    for i in range(len(X.columns)):\n",
        "        feature_scores[X.columns[i]] = ig[i]\n",
        "\n",
        "    sorted_features = sorted(feature_scores.items(), key=lambda x: x[1], reverse=True)\n",
        "\n",
        "    for feature, score in sorted_features:\n",
        "        print('Feature:', feature, 'Score:', score)\n",
        "\n",
        "    return sorted_features, y, X\n",
        "\n",
        "def plot_ig_for_features(sorted_features):\n",
        "  fig, ax = plt.subplots()\n",
        "  y_pos = np.arange(len(sorted_features))\n",
        "  ax.barh(y_pos, [score for feature, score in sorted_features], align=\"center\")\n",
        "  ax.set_yticks(y_pos)\n",
        "  ax.set_yticklabels([feature for feature, score in sorted_features])\n",
        "  # ax.invert_yaxis()  # Labels read top-to-bottom\n",
        "  ax.set_xlabel(\"Importance Score\")\n",
        "  ax.set_title(\"Feature Importance Scores (Information Gain)\")\n",
        "\n",
        "  # Add importance scores as labels on the horizontal bar chart\n",
        "  for i, v in enumerate([score for feature, score in sorted_features]):\n",
        "      ax.text(v + 0.01, i, str(round(v, 3)), color=\"black\", fontweight=\"bold\")\n",
        "  plt.show()\n"
      ],
      "metadata": {
        "id": "5fAujzgiFpFt"
      },
      "execution_count": null,
      "outputs": []
    },
    {
      "cell_type": "code",
      "source": [
        "def split_data_fit_model(df, col_types: dict, model, test_size: float = 0.2):\n",
        "  # Separate features (X) from target variable (y)\n",
        "  X = df.drop(\"Is Fraudulent\", axis=1)\n",
        "  y = df[\"Is Fraudulent\"]\n",
        "\n",
        "  # Training to testing split\n",
        "  X_train, X_test, y_train, y_test = train_test_split(X, y, test_size=test_size, random_state=71)\n",
        "\n",
        "  # Preprocessing non-numeric features\n",
        "  preprocessor = ColumnTransformer(\n",
        "      transformers=[\n",
        "          (\"num\", StandardScaler(), col_types[\"numeric_features\"]),\n",
        "          (\"nominal\", OneHotEncoder(), col_types[\"nominal_only_features\"]),\n",
        "          (\"ordinal\", OrdinalEncoder(), col_types[\"ordinal_only_features\"])\n",
        "      ])\n",
        "\n",
        "  pipeline = Pipeline(steps=[(\"preprocessor\", preprocessor),\n",
        "                            (\"pca\", PCA(n_components=0.95)),\n",
        "                            (\"feature_selection\", SelectKBest(f_classif, k=5)),\n",
        "                            (\"classifier\", model)])\n",
        "  pipeline.fit(X_train, y_train)\n",
        "\n",
        "  return X_test, y_test, pipeline\n",
        "\n"
      ],
      "metadata": {
        "id": "VXdAJur8FwPj"
      },
      "execution_count": null,
      "outputs": []
    },
    {
      "cell_type": "code",
      "source": [
        "def predict(xtest, ytest, pipeline):\n",
        "  ypred = pipeline.predict(xtest)\n",
        "  cm = confusion_matrix(ytest, ypred)\n",
        "  y_prob_logreg = pipeline.predict_proba(xtest)[:, 1]\n",
        "  roc_auc_logreg = roc_auc_score(ytest, y_prob_logreg)\n",
        "\n",
        "  print(f\"ROC AUC: {roc_auc_logreg}\")\n",
        "\n",
        "  return cm, ypred"
      ],
      "metadata": {
        "id": "BQtdzgytF3H5"
      },
      "execution_count": null,
      "outputs": []
    },
    {
      "cell_type": "code",
      "source": [
        "def print_model_performance(cm, ytest, ypred, model_name: str):\n",
        "  print(\"Classification Report:\" + model_name)\n",
        "  print(classification_report(ytest, ypred))\n",
        "\n",
        "  print(\"Confusion Matrix:\")\n",
        "  print(cm)\n",
        "\n",
        "  print(\"Accuracy Score:\")\n",
        "  print(accuracy_score(ytest, ypred))\n",
        "\n",
        "  print(\"\\n\\n\")"
      ],
      "metadata": {
        "id": "_pOKvYjYF4AY"
      },
      "execution_count": null,
      "outputs": []
    },
    {
      "cell_type": "code",
      "source": [
        "def print_model_performance(cm, ytest, ypred, model_name: str):\n",
        "  print(\"Classification Report:\" + model_name)\n",
        "  print(classification_report(ytest, ypred))\n",
        "\n",
        "  print(\"Confusion Matrix:\")\n",
        "  print(cm)\n",
        "\n",
        "  print(\"Accuracy Score:\")\n",
        "  print(accuracy_score(ytest, ypred))\n",
        "\n",
        "  print(\"\\n\\n\")\n",
        "\n",
        "def plot_confusion_matrix(cm, model, model_name: str):\n",
        "  cmap = sns.color_palette(\"pastel\")\n",
        "\n",
        "  plt.figure(figsize=(8, 6))\n",
        "  sns.heatmap(cm, annot=True, fmt='d', cmap=cmap, cbar=False,\n",
        "              xticklabels=model.classes_,\n",
        "              yticklabels=model.classes_)\n",
        "  plt.xlabel('Predicted')\n",
        "  plt.ylabel('Actual')\n",
        "  plt.title('Confusion Matrix - ' + model_name)\n",
        "  plt.show()"
      ],
      "metadata": {
        "id": "APQJs9FyF7T5"
      },
      "execution_count": null,
      "outputs": []
    },
    {
      "cell_type": "code",
      "source": [
        "def plot_roc_auc_curve(xtest, ytest, pipeline, model_name):\n",
        "    label_encoder = LabelEncoder()\n",
        "    y_test_numeric = label_encoder.fit_transform(ytest)\n",
        "\n",
        "    y_prob_logreg = pipeline.predict_proba(xtest)[:, 1]\n",
        "    fpr, tpr, thresholds = roc_curve(y_test_numeric, y_prob_logreg)\n",
        "    roc_auc_logreg = auc(fpr, tpr)\n",
        "\n",
        "    plt.figure(figsize=(8, 6))\n",
        "    plt.plot(fpr, tpr, color='darkorange', lw=2, label='ROC curve (area = {:.2f})'.format(roc_auc_logreg))\n",
        "    plt.plot([0, 1], [0, 1], color='navy', lw=2, linestyle='--')\n",
        "    plt.xlim([0.0, 1.0])\n",
        "    plt.ylim([0.0, 1.05])\n",
        "    plt.xlabel('False Positive Rate')\n",
        "    plt.ylabel('True Positive Rate')\n",
        "    plt.title('Receiver Operating Characteristic (ROC) Curve - ' + model_name)\n",
        "    plt.legend(loc='lower right')\n",
        "    plt.show()"
      ],
      "metadata": {
        "id": "ewzAM0bxF-JX"
      },
      "execution_count": null,
      "outputs": []
    },
    {
      "cell_type": "code",
      "source": [
        "def create_model(model_name: str) -> object:\n",
        "    if model_name == \"AdaBoostClassifier\":\n",
        "        model = AdaBoostClassifier(random_state=71)\n",
        "    elif model_name == \"DecisionTreeClassifier\":\n",
        "        model = DecisionTreeClassifier(random_state=71)\n",
        "    elif model_name == \"GaussianNB\":\n",
        "        model = GaussianNB(random_state=71, var_smoothing=1e-09)\n",
        "    elif model_name == \"GradientBoostingClassifier\":\n",
        "        model = GradientBoostingClassifier(random_state=71)\n",
        "    elif model_name == \"KNeighborsClassifier\":\n",
        "        model = KNeighborsClassifier()\n",
        "    elif model_name == \"LogisticRegression\":\n",
        "        model = LogisticRegression(random_state=71, max_iter=1000, C=1.0, solver='lbfgs')\n",
        "    elif model_name == \"RandomForestClassifier\":\n",
        "        model = RandomForestClassifier(random_state=71)\n",
        "    elif model_name == \"SVC\":\n",
        "        model = SVC(random_state=71)\n",
        "    else:\n",
        "        raise ValueError(\"Invalid model name: \" + model_name)\n",
        "\n",
        "    return model"
      ],
      "metadata": {
        "id": "uJv9LT2zGHzU"
      },
      "execution_count": null,
      "outputs": []
    },
    {
      "cell_type": "code",
      "source": [
        "@track_time_and_space\n",
        "def run(df, model, col_types: dict, model_name: str, test_size: float = 0.2):\n",
        "    X_test, y_test, pipeline = split_data_fit_model(df, col_types, model=model, test_size=test_size)\n",
        "    cm, ypred = predict(X_test, y_test, pipeline)\n",
        "\n",
        "    print_model_performance(cm, y_test, ypred, model_name=model_name)\n",
        "    plot_confusion_matrix(cm, model=model, model_name=model_name)\n",
        "    plot_roc_auc_curve(X_test, y_test, pipeline, model_name=model_name)"
      ],
      "metadata": {
        "id": "2dIvauNCGE4n"
      },
      "execution_count": null,
      "outputs": []
    },
    {
      "cell_type": "markdown",
      "source": [
        "#### Logistic Regression"
      ],
      "metadata": {
        "id": "KFYcWVk-UyAL"
      }
    },
    {
      "cell_type": "code",
      "source": [
        "# @title Logistic Regression: 20% test data\n",
        "logreg_20 = LogisticRegression(random_state=71, max_iter=1000)\n",
        "mn_20 = \"Logistic Regression 20\"\n",
        "run(df=df, model=logreg_20, col_types=col_types, model_name=mn_20, test_size=0.20)"
      ],
      "metadata": {
        "id": "cYqCJV86o5Yw"
      },
      "execution_count": null,
      "outputs": []
    },
    {
      "cell_type": "code",
      "source": [
        "# @title Logistic Regression: 25% test data\n",
        "logreg_25 = LogisticRegression(random_state=71, max_iter=1000)\n",
        "mn_25 = \"Logistic Regression 25\"\n",
        "run(df, logreg_20, col_types, model_name=mn_25, test_size=0.25)"
      ],
      "metadata": {
        "id": "DYPKwRY0mSUP"
      },
      "execution_count": null,
      "outputs": []
    },
    {
      "cell_type": "code",
      "source": [
        "# @title Hyperparameter tuning: Logistic Regression\n"
      ],
      "metadata": {
        "id": "YjXnStzzcW2N"
      },
      "execution_count": null,
      "outputs": []
    },
    {
      "cell_type": "markdown",
      "source": [
        "#### Decision Tree"
      ],
      "metadata": {
        "id": "HWbKdBTTVP8N"
      }
    },
    {
      "cell_type": "code",
      "source": [
        "# @title Decision Tree: 15% test data\n",
        "decision_tree_15 = DecisionTreeClassifier(random_state=71)\n",
        "mn_dt_15 = \"Decision Tree 15\"\n",
        "run(df, decision_tree_15, col_types, model_name=mn_dt_15, test_size=0.15)"
      ],
      "metadata": {
        "id": "Mi8CDIGNbUGV"
      },
      "execution_count": null,
      "outputs": []
    },
    {
      "cell_type": "code",
      "source": [
        "# @title Decision Tree: 20% test data\n",
        "decision_tree_20 = DecisionTreeClassifier(random_state=71)\n",
        "mn_dt_20 = \"Decision Tree 20\"\n",
        "run(df, decision_tree_20, col_types, model_name=mn_dt_20, test_size=0.20)"
      ],
      "metadata": {
        "id": "wrOHIrQRPdRD"
      },
      "execution_count": null,
      "outputs": []
    },
    {
      "cell_type": "code",
      "source": [
        "# @title Decision Tree: 25% test data\n",
        "decision_tree_25 = DecisionTreeClassifier(random_state=71)\n",
        "mn_dt_25 = \"Decision Tree\"\n",
        "run(df, decision_tree_25, col_types, model_name=mn_dt_25, test_size=0.25)"
      ],
      "metadata": {
        "id": "p6uSB8bVPril"
      },
      "execution_count": null,
      "outputs": []
    },
    {
      "cell_type": "code",
      "source": [
        "# @title Hyperparameter tuning: Decision Tree"
      ],
      "metadata": {
        "id": "YP2cOZRzfAFo"
      },
      "execution_count": null,
      "outputs": []
    },
    {
      "cell_type": "markdown",
      "source": [
        "### Correlational analysis effect on feature selection"
      ],
      "metadata": {
        "id": "kTeR1b2eoQtQ"
      }
    },
    {
      "cell_type": "markdown",
      "metadata": {
        "id": "MhawZCTk5zVM"
      },
      "source": [
        "## Data Pre-processing and cleaning\n",
        "<ol>\n",
        "<li>Do the appropriate pre-processing of the data like identifying NULL or Missing Values if any, handling of outliers if present in the dataset, skewed data etc. Mention the pre-processing steps performed in the markdown cell. Explore few latest data balancing tasks and its effect on model evaluation parameters.</li>\n",
        "<li>Apply appropriate feature engineering techniques for them. Apply the feature transformation techniques like Standardization, Normalization, etc. You are free to apply the appropriate transformations depending upon the structure and the complexity of your dataset. Provide proper justification. Techniques used without justification will not be awarded marks. Explore a few techniques for identifying feature importance for your feature engineering task.</li>"
      ]
    },
    {
      "cell_type": "markdown",
      "source": [
        "## Performance\n",
        "<hr/>\n",
        "<table width=\"100%\" align=\"right\">\n",
        "<caption><font size=\"+1\">Observations</font></caption>\n",
        "  <tr>\n",
        "    <th></th>\n",
        "    <th>Accuracy</th>\n",
        "    <th>Precision (Yes)</th>\n",
        "    <th>Recall (Yes)</th>\n",
        "    <th>F1-Score (Yes)</th>\n",
        "  </tr>\n",
        "  <tr>\n",
        "    <th>Decision Tree 15</th>\n",
        "    <td>0.875</td>\n",
        "    <td>0.13</td>\n",
        "    <td>0.14</td>\n",
        "    <td>0.14</td>\n",
        "  </tr>\n",
        "  <tr>\n",
        "    <th>Decision Tree 20</th>\n",
        "    <td>0.875</td>\n",
        "    <td>0.13</td>\n",
        "    <td>0.14</td>\n",
        "    <td>0.14</td>\n",
        "  </tr>\n",
        "  <tr>\n",
        "    <th>Decision Tree 25</th>\n",
        "    <td>0.875</td>\n",
        "    <td>0.13</td>\n",
        "    <td>0.14</td>\n",
        "    <td>0.14</td>\n",
        "  </tr>\n",
        "  <tr>\n",
        "    <th>Logistic Regression 15</th>\n",
        "    <td>0.92</td>\n",
        "    <td>0.00</td>\n",
        "    <td>0.00</td>\n",
        "    <td>0.00</td>\n",
        "  </tr>\n",
        "  <tr>\n",
        "    <th>Logistic Regression 20</th>\n",
        "    <td>0.93</td>\n",
        "    <td>0.00</td>\n",
        "    <td>0.00</td>\n",
        "    <td>0.00</td>\n",
        "  </tr>\n",
        "  <tr>\n",
        "    <th>Logistic Regression 25</th>\n",
        "    <td>0.97</td>\n",
        "    <td>0.00</td>\n",
        "    <td>0.00</td>\n",
        "    <td>0.00</td>\n",
        "  </tr>\n",
        "</table>\n",
        "<hr/>\n",
        "\n",
        "<table width=\"100%\" align=\"right\">\n",
        "<caption><font size=\"+1\">Insights</font></caption>\n",
        "</table>"
      ],
      "metadata": {
        "id": "MOVnwA-Ick-E"
      }
    },
    {
      "cell_type": "markdown",
      "source": [
        "## Comparison\n",
        "**Accuracy:** The Logistic Regression model has a higher accuracy (93%) compared to the Decision Tree model (87.5%). However, accuracy may not be the sole metric to consider, especially in imbalanced datasets.\n",
        "\n",
        "**Precision (Yes):** Both models have very low precision for the \"Yes\" class. This means that when they predict a transaction as fraudulent, it is rarely correct. Precision is an important metric when the cost of false positives is high.\n",
        "\n",
        "**Recall (Yes):** Both models have low recall for the \"Yes\" class. This indicates that they miss a significant portion of actual fraudulent transactions. Recall is important when the cost of false negatives (missing a fraudulent transaction) is high.\n",
        "\n",
        "**F1-Score (Yes):** The F1-Score combines precision and recall, providing a balance between the two. Both models have low F1-Scores for the \"Yes\" class."
      ],
      "metadata": {
        "id": "1f2oy8dYexBk"
      }
    },
    {
      "cell_type": "markdown",
      "source": [
        "## Conclusion\n",
        "While Logistic Regression has a higher overall accuracy, it performs poorly on identifying fraudulent transactions (\"Yes\" class), with precision, recall, and F1-Score all being very low.\n",
        "The Decision Tree model has a lower accuracy but may provide a more balanced performance in terms of precision and recall for the \"Yes\" class."
      ],
      "metadata": {
        "id": "c7iRlOcGe3Ym"
      }
    },
    {
      "cell_type": "markdown",
      "source": [
        "# Assignment Part 2"
      ],
      "metadata": {
        "id": "OhN1kEOjnmpz"
      }
    },
    {
      "cell_type": "markdown",
      "source": [
        "## Model Building\n",
        "Build ML models using K-Nearest Neighbors (K-NN), Support Vector Machine (SVM),\n",
        "Naive Bayesian, Random Forest, and Ada boost"
      ],
      "metadata": {
        "id": "Q8ZEUtmnnqzN"
      }
    },
    {
      "cell_type": "markdown",
      "source": [
        "### K-Nearest Neighbors"
      ],
      "metadata": {
        "id": "O51a1Dz7frvq"
      }
    },
    {
      "cell_type": "code",
      "source": [
        "from sklearn.neighbors import KNeighborsClassifier\n",
        "\n",
        "knn_model_15 = KNeighborsClassifier(n_neighbors=5)\n",
        "mn_knn_15 = \"K-Nearest Neighbors Classification 15\"\n",
        "run(df, knn_model_15, col_types, model_name=mn_knn_15, test_size=0.15)"
      ],
      "metadata": {
        "id": "713_zfK7fxQv"
      },
      "execution_count": null,
      "outputs": []
    },
    {
      "cell_type": "code",
      "source": [
        "from sklearn.neighbors import KNeighborsClassifier\n",
        "\n",
        "knn_model_20 = KNeighborsClassifier(n_neighbors=5)\n",
        "mn_knn_20 = \"K-Nearest Neighbors Classification 20\"\n",
        "run(df, knn_model_20, col_types, model_name=mn_knn_20, test_size=0.20)"
      ],
      "metadata": {
        "id": "eHk_namUhKpG"
      },
      "execution_count": null,
      "outputs": []
    },
    {
      "cell_type": "code",
      "source": [
        "from sklearn.neighbors import KNeighborsClassifier\n",
        "\n",
        "knn_model_25 = KNeighborsClassifier(n_neighbors=5)\n",
        "mn_knn_25 = \"K-Nearest Neighbors Classification 25\"\n",
        "run(df, knn_model_25, col_types, model_name=mn_knn_15, test_size=0.25)"
      ],
      "metadata": {
        "id": "fCrAMYjQhKIy"
      },
      "execution_count": null,
      "outputs": []
    },
    {
      "cell_type": "markdown",
      "source": [
        "### SVM"
      ],
      "metadata": {
        "id": "-C5kPscCghbE"
      }
    },
    {
      "cell_type": "code",
      "source": [
        "from sklearn.svm import SVC\n",
        "\n",
        "svm_model_15 = SVC(kernel='linear')\n",
        "svm_name_15 = \"Support Vector Machine 15\"\n",
        "# run(df, svm_model_15, col_types, model_name=svm_name_15, test_size=0.15)"
      ],
      "metadata": {
        "id": "Bfd1JPZWgkoS"
      },
      "execution_count": null,
      "outputs": []
    },
    {
      "cell_type": "markdown",
      "source": [
        "### Naive Bayes"
      ],
      "metadata": {
        "id": "-w9l3JLdhNpW"
      }
    },
    {
      "cell_type": "code",
      "source": [
        "# @title Naive Bayes: 15% test data\n",
        "from sklearn.naive_bayes import GaussianNB, MultinomialNB\n",
        "\n",
        "nb_model_15 = GaussianNB()\n",
        "nb_name_15 = \"Naive Bayes 15\"\n",
        "run(df, nb_model_15, col_types, model_name=nb_name_15, test_size=0.15)"
      ],
      "metadata": {
        "id": "GU_F6lhahTOT"
      },
      "execution_count": null,
      "outputs": []
    },
    {
      "cell_type": "code",
      "source": [
        "# @title Naive Bayes: 20% test data\n",
        "from sklearn.naive_bayes import GaussianNB, MultinomialNB\n",
        "\n",
        "nb_model_20 = GaussianNB()\n",
        "nb_name_20 = \"Naive Bayes 20\"\n",
        "run(df, nb_model_20, col_types, model_name=nb_name_20, test_size=0.20)"
      ],
      "metadata": {
        "id": "F_w3qKl4isRB"
      },
      "execution_count": null,
      "outputs": []
    },
    {
      "cell_type": "code",
      "source": [
        "# @title Naive Bayes: 25% test data\n",
        "from sklearn.naive_bayes import GaussianNB, MultinomialNB\n",
        "\n",
        "nb_model_25 = GaussianNB()\n",
        "nb_name_25 = \"Naive Bayes 25\"\n",
        "run(df, nb_model_25, col_types, model_name=nb_name_25, test_size=0.25)"
      ],
      "metadata": {
        "id": "C5Muq6vjirfT"
      },
      "execution_count": null,
      "outputs": []
    },
    {
      "cell_type": "code",
      "source": [
        "# @title Random Forest Classifier: 15% test data\n",
        "from sklearn.ensemble import RandomForestClassifier\n",
        "\n",
        "rf_model_15 = RandomForestClassifier(n_estimators=100, random_state=71)\n",
        "rf_name_15 = \"Random Forest 15\"\n",
        "run(df, rf_model_15, col_types, model_name=rf_name_15, test_size=0.15)"
      ],
      "metadata": {
        "id": "UjOhstpjh_6u"
      },
      "execution_count": null,
      "outputs": []
    },
    {
      "cell_type": "code",
      "source": [
        "# @title Random Forest Classifier: 20% test data\n",
        "from sklearn.ensemble import RandomForestClassifier\n",
        "\n",
        "rf_model_20 = RandomForestClassifier(n_estimators=100, random_state=71)\n",
        "rf_name_20 = \"Random Forest 20\"\n",
        "run(df, rf_model_20, col_types, model_name=rf_name_20, test_size=0.20)"
      ],
      "metadata": {
        "id": "GZLdMKRJjXK5"
      },
      "execution_count": null,
      "outputs": []
    },
    {
      "cell_type": "code",
      "source": [
        "# @title Random Forest Classifier: 25% test data\n",
        "from sklearn.ensemble import RandomForestClassifier\n",
        "\n",
        "rf_model_25 = RandomForestClassifier(n_estimators=100, random_state=71)\n",
        "rf_name_25 = \"Random Forest 25\"\n",
        "run(df, rf_model_25, col_types, model_name=rf_name_25, test_size=0.25)"
      ],
      "metadata": {
        "id": "pOjlb49MjQrx"
      },
      "execution_count": null,
      "outputs": []
    },
    {
      "cell_type": "code",
      "source": [
        "# @title Ada Boost Classifier: 15% Test Data\n",
        "from sklearn.ensemble import AdaBoostClassifier\n",
        "\n",
        "ada_model_15 = AdaBoostClassifier(n_estimators=50, random_state=71)\n",
        "ada_name_15 = \"Ada Boost 15\"\n",
        "run(df, ada_model_15, col_types, model_name=ada_name_15, test_size=0.25)"
      ],
      "metadata": {
        "id": "egmKapuAiZvE"
      },
      "execution_count": null,
      "outputs": []
    },
    {
      "cell_type": "code",
      "source": [
        "# @title Ada Boost Classifier: 20% Test Data\n",
        "from sklearn.ensemble import AdaBoostClassifier\n",
        "\n",
        "ada_model_20 = AdaBoostClassifier(n_estimators=50, random_state=71)\n",
        "ada_name_20 = \"Ada Boost 20\"\n",
        "run(df, ada_model_20, col_types, model_name=ada_name_20, test_size=0.20)"
      ],
      "metadata": {
        "id": "HPbxhcDZtxr9"
      },
      "execution_count": null,
      "outputs": []
    },
    {
      "cell_type": "code",
      "source": [
        "# @title Ada Boost Classifier: 25% Test Data\n",
        "from sklearn.ensemble import AdaBoostClassifier\n",
        "\n",
        "ada_model_25 = AdaBoostClassifier(n_estimators=50, random_state=71)\n",
        "ada_name_25 = \"Ada Boost 25\"\n",
        "run(df, ada_model_25, col_types, model_name=ada_name_25, test_size=0.20)"
      ],
      "metadata": {
        "id": "Ym3EuxKyt_Gj"
      },
      "execution_count": null,
      "outputs": []
    },
    {
      "cell_type": "markdown",
      "source": [
        "## Performance Evaluation\n",
        "Do the prediction for the test data and display the results for the inference. Calculate all the evaluation metrics. Comment on the performance of these models."
      ],
      "metadata": {
        "id": "FK25SlScn0ZR"
      }
    },
    {
      "cell_type": "markdown",
      "source": [
        "## Fine-Tuning Hyperparameters\n",
        "You are required to explore the hyperparameter space for each classifier, utilizing techniques such as grid search or randomized search, to find the optimal combination of parameters that maximizes performance metrics."
      ],
      "metadata": {
        "id": "znzXOT4rn_XZ"
      }
    },
    {
      "cell_type": "markdown",
      "source": [
        "## Performance Evaluation\n",
        "After hyperparameter fine-tuning, evaluate the performance of each classifier using the following evaluation measures: Precision, Recall, F-score, Accuracy, Misclassification Rate"
      ],
      "metadata": {
        "id": "N1z_6Y4AoGDs"
      }
    },
    {
      "cell_type": "markdown",
      "source": [
        "## Comparison and Analysis\n",
        "Compare the performance of each classifier using the evaluation measures and provide a detailed analysis of the results. Recommend the ML model that, in your opinion, demonstrates the most favorable performance and justify your choice."
      ],
      "metadata": {
        "id": "sSDDKjzDoOY0"
      }
    },
    {
      "cell_type": "code",
      "execution_count": null,
      "metadata": {
        "id": "su1KopCfRYom"
      },
      "outputs": [],
      "source": [
        "%unload_ext google.colab.data_table"
      ]
    },
    {
      "cell_type": "markdown",
      "metadata": {
        "id": "-4L7ziJKhC-_"
      },
      "source": []
    }
  ],
  "metadata": {
    "colab": {
      "provenance": [],
      "include_colab_link": true
    },
    "kernelspec": {
      "display_name": "Python 3",
      "name": "python3"
    },
    "language_info": {
      "name": "python"
    }
  },
  "nbformat": 4,
  "nbformat_minor": 0
}